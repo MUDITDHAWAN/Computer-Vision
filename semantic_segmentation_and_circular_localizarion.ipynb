{
 "cells": [
  {
   "cell_type": "code",
   "execution_count": null,
   "metadata": {
    "colab": {
     "base_uri": "https://localhost:8080/"
    },
    "id": "1XVbHRUr22Ah",
    "outputId": "fe2a1d8a-923f-437d-b5e1-a3ecf9fc8ef0"
   },
   "outputs": [
    {
     "name": "stdout",
     "output_type": "stream",
     "text": [
      "Mounted at /content/drive\n"
     ]
    }
   ],
   "source": [
    "from google.colab import drive\n",
    "drive.mount('/content/drive') "
   ]
  },
  {
   "cell_type": "code",
   "execution_count": null,
   "metadata": {
    "id": "yE96TQC33LVZ"
   },
   "outputs": [],
   "source": [
    "import os\n",
    "os.chdir(\"/content/drive/My Drive/CV-Sem6/HW15\")"
   ]
  },
  {
   "cell_type": "code",
   "execution_count": null,
   "metadata": {
    "id": "bbFs_LOqVy81"
   },
   "outputs": [],
   "source": [
    "import torch\n",
    "import torchvision\n",
    "from torch.utils.data import Dataset\n",
    "from torchvision import datasets, transforms, models\n",
    "import torch.nn as nn\n",
    "from torch import optim\n",
    "\n",
    "from tqdm.auto import tqdm\n",
    "\n",
    "import numpy as np\n",
    "import cv2 as cv\n",
    "\n",
    "from sklearn.metrics import accuracy_score, jaccard_score\n",
    "import matplotlib.pyplot as plt"
   ]
  },
  {
   "cell_type": "code",
   "execution_count": null,
   "metadata": {
    "id": "8Jm2n29S5Ej_"
   },
   "outputs": [],
   "source": [
    "## Transform the data set ->> resize the images to 224x224 for using pre-defined architectures\n",
    "transform = torchvision.transforms.Compose(\n",
    "    [\n",
    "        torchvision.transforms.Resize(size=(224, 224)),\n",
    "        torchvision.transforms.ToTensor(),\n",
    "    ]\n",
    ")"
   ]
  },
  {
   "cell_type": "markdown",
   "metadata": {
    "id": "cj8UzYce_T0W"
   },
   "source": [
    "### Download the dataset"
   ]
  },
  {
   "cell_type": "code",
   "execution_count": null,
   "metadata": {
    "id": "DHCJ_O5FWFjf"
   },
   "outputs": [],
   "source": [
    "train_data = datasets.MNIST('./data/', download=True, train=True, transform=transform)\n",
    "val_data = datasets.MNIST('./data/', download=True, train=False, transform=transform)"
   ]
  },
  {
   "cell_type": "code",
   "execution_count": null,
   "metadata": {
    "id": "8KZA9D0X_HRC"
   },
   "outputs": [],
   "source": [
    "## Set batch size for training and evaluation\n",
    "train_batch_size = 8 \n",
    "eval_batch_size = 8"
   ]
  },
  {
   "cell_type": "markdown",
   "metadata": {
    "id": "QaNKf0VbWE3g"
   },
   "source": [
    "# Q1 A"
   ]
  },
  {
   "cell_type": "markdown",
   "metadata": {
    "id": "NpRLvCol_fuQ"
   },
   "source": [
    "### Code for TSS based segmentation algorithm "
   ]
  },
  {
   "cell_type": "code",
   "execution_count": null,
   "metadata": {
    "id": "Tm6r8W3R_eA_"
   },
   "outputs": [],
   "source": [
    "## Create histogram for grayscale image\n",
    "def create_hist(arr, nb_bins=256):\n",
    "    hist, bin_edges = np.histogram(arr, bins=nb_bins) ## numpy in-built algo to create histogram\n",
    "    \n",
    "    ## calculate the center of the histoagram buckets/bins\n",
    "    bin_centres = (bin_edges[:-1] + bin_edges[1:]) / 2.\n",
    "        \n",
    "    return hist, bin_centres"
   ]
  },
  {
   "cell_type": "code",
   "execution_count": null,
   "metadata": {
    "id": "0ejzfoi-jcjd"
   },
   "outputs": [],
   "source": [
    "## TSS based segmentation\n",
    "def tss_algo(image, nbins=256):\n",
    "    \n",
    "    flattent_img = image.ravel() ## Flatten the grayscale image \n",
    "    \n",
    "    hist, bin_centers = create_hist(flattent_img, nbins) ## Create the histogram for the flattened grayscale image\n",
    "    \n",
    "    hist = hist/ np.sum(hist) ## normalizing histogram (taking out probability)\n",
    "    \n",
    "    tss_list = [] ## list to store the within class variance for all the threshold values\n",
    "    \n",
    "    for idx in range(1,256):\n",
    "        \n",
    "        ## calculate within class TSS for below the threshold\n",
    "        left_arr = hist[:idx] ## count values below the threshold\n",
    "        left_wt = bin_centers[:idx] \n",
    "        \n",
    "        mu_1 = np.average(left_wt, weights=left_arr) ## calculate the weighted mean of the intensities\n",
    "        \n",
    "        left_tss = np.dot((left_wt-mu_1)**2, left_arr) ## calculate the TSS of the intensities\n",
    "        \n",
    "        ## calculate within class TSS for above the threshold\n",
    "        right_arr = hist[idx:] ## count values above the threshold\n",
    "        right_wt = bin_centers[idx:] \n",
    "        \n",
    "        mu_2 = np.average(right_wt, weights=right_arr) ## calculate the weighted mean of the intensities\n",
    "\n",
    "        right_tss = np.dot((right_wt-mu_2)**2, right_arr) ## calculate the TSS of the intensities     \n",
    "        \n",
    "        \n",
    "        ## Calculate the total TSS for the threshold \n",
    "        min_tss = left_tss + right_tss\n",
    "        \n",
    "        tss_list.append(min_tss) ## Store the within-class TSS in a list\n",
    "        \n",
    "    ## Index for the lowest TSS \n",
    "    idx_min = tss_list.index(min(tss_list))\n",
    "    \n",
    "    return bin_centers[idx_min] ## return the bin centers for that index i.e., the optimal threshold "
   ]
  },
  {
   "cell_type": "markdown",
   "metadata": {
    "id": "cE9Msy8I_mtO"
   },
   "source": [
    "### Defining the dataset class"
   ]
  },
  {
   "cell_type": "code",
   "execution_count": null,
   "metadata": {
    "id": "rNNY_MK45KLt"
   },
   "outputs": [],
   "source": [
    "class Q1A_Dataset(Dataset):\n",
    "\n",
    "    def __init__(self, base_dataset):\n",
    "        ## to use the inbuilt dataset object for MNIST from pytorch  \n",
    "        self.base_dataset = base_dataset \n",
    "    \n",
    "    def __len__(self):\n",
    "        return len(self.base_dataset)\n",
    "\n",
    "    def __getitem__(self, idx):\n",
    "        if torch.is_tensor(idx):\n",
    "            idx = idx.tolist()\n",
    "        \n",
    "        ## index the base class for a sample\n",
    "        img_arr, img_label = self.base_dataset[idx]\n",
    "\n",
    "        ## Use the custom TSS algorithm for the threshold \n",
    "        threshold = tss_algo(img_arr.numpy())\n",
    "\n",
    "        ## Create an empty mask \n",
    "        seg_mask = torch.zeros_like(img_arr)\n",
    "\n",
    "        ## Create a binary mask based on the threshold\n",
    "        seg_mask[img_arr < threshold] = 0\n",
    "        seg_mask[img_arr >= threshold] = 1\n",
    "\n",
    "        ## returning the class label with it as it used in subsequent parts\n",
    "        return img_arr, seg_mask, img_label"
   ]
  },
  {
   "cell_type": "code",
   "execution_count": null,
   "metadata": {
    "id": "oHnbqZ6y_5pH"
   },
   "outputs": [],
   "source": [
    "train_dataset_A = Q1A_Dataset(train_data)\n",
    "train_data_loader_A = torch.utils.data.DataLoader(train_dataset_A, batch_size=train_batch_size, shuffle=True)"
   ]
  },
  {
   "cell_type": "code",
   "execution_count": null,
   "metadata": {
    "id": "IgBVgvjkAWeu"
   },
   "outputs": [],
   "source": [
    "val_dataset_A = Q1A_Dataset(val_data)\n",
    "val_data_loader_A = torch.utils.data.DataLoader(val_dataset_A, batch_size=eval_batch_size, shuffle=True)"
   ]
  },
  {
   "cell_type": "markdown",
   "metadata": {
    "id": "GaFHP5wSAQed"
   },
   "source": [
    "### Look at the new dataset"
   ]
  },
  {
   "cell_type": "code",
   "execution_count": null,
   "metadata": {
    "colab": {
     "base_uri": "https://localhost:8080/"
    },
    "id": "kYvRJIFAHsKo",
    "outputId": "b242e68f-fe84-4e85-e638-4db97d4bde05"
   },
   "outputs": [
    {
     "name": "stdout",
     "output_type": "stream",
     "text": [
      "Image shape: torch.Size([1, 224, 224]), segmentation mask shape: torch.Size([1, 224, 224]), Class label shape: 5\n"
     ]
    }
   ],
   "source": [
    "print(f'Image shape: {train_dataset_A[0][0].shape}, segmentation mask shape: {train_dataset_A[0][1].shape}, Class label shape: {train_dataset_A[0][2]}')"
   ]
  },
  {
   "cell_type": "code",
   "execution_count": null,
   "metadata": {
    "colab": {
     "base_uri": "https://localhost:8080/",
     "height": 1000
    },
    "id": "-8vocdXuJXKc",
    "outputId": "ef1c5f74-5b97-4bcd-b185-4371df213129"
   },
   "outputs": [
    {
     "data": {
      "image/png": "[encoded data removed]",
      "text/plain": [
       "<Figure size 432x288 with 2 Axes>"
      ]
     },
     "metadata": {
      "needs_background": "light",
      "tags": []
     },
     "output_type": "display_data"
    },
    {
     "data": {
      "image/png": "[encoded data removed]",
      "text/plain": [
       "<Figure size 432x288 with 2 Axes>"
      ]
     },
     "metadata": {
      "needs_background": "light",
      "tags": []
     },
     "output_type": "display_data"
    },
    {
     "data": {
      "image/png": "[encoded data removed]",
      "text/plain": [
       "<Figure size 432x288 with 2 Axes>"
      ]
     },
     "metadata": {
      "needs_background": "light",
      "tags": []
     },
     "output_type": "display_data"
    },
    {
     "data": {
      "image/png": "[encoded data removed]",
      "text/plain": [
       "<Figure size 432x288 with 2 Axes>"
      ]
     },
     "metadata": {
      "needs_background": "light",
      "tags": []
     },
     "output_type": "display_data"
    },
    {
     "data": {
      "image/png": "[encoded data removed]",
      "text/plain": [
       "<Figure size 432x288 with 2 Axes>"
      ]
     },
     "metadata": {
      "needs_background": "light",
      "tags": []
     },
     "output_type": "display_data"
    },
    {
     "data": {
      "image/png": "[encoded data removed]",
      "text/plain": [
       "<Figure size 432x288 with 2 Axes>"
      ]
     },
     "metadata": {
      "needs_background": "light",
      "tags": []
     },
     "output_type": "display_data"
    }
   ],
   "source": [
    "batch = next(iter(train_data_loader_A))\n",
    "image, mask, label = batch\n",
    "\n",
    "for i in range(6):\n",
    "    fig, (ax1, ax2) = plt.subplots(1, 2)\n",
    "    ax1.imshow(image[i][0])\n",
    "    ax2.imshow(mask[i][0])\n",
    "    plt.show()"
   ]
  },
  {
   "cell_type": "markdown",
   "metadata": {
    "id": "T9Q1uDm_HtBw"
   },
   "source": [
    "# Q1 B"
   ]
  },
  {
   "cell_type": "markdown",
   "metadata": {
    "id": "2v1hcllpEjIM"
   },
   "source": [
    "### Defining dataset class"
   ]
  },
  {
   "cell_type": "code",
   "execution_count": null,
   "metadata": {
    "id": "0mO7nspTIKfG"
   },
   "outputs": [],
   "source": [
    "class Q1B_Dataset(Dataset):\n",
    "\n",
    "    def __init__(self, base_dataset):\n",
    "        ## to use the dataset class formed in the last part \n",
    "        self.base_dataset = base_dataset\n",
    "    \n",
    "    def __len__(self):\n",
    "        return len(self.base_dataset)\n",
    "\n",
    "    ## Function to generate min enclosing circles for the digits\n",
    "    def get_min_enc_circle(self, bin_seg_mask):\n",
    "        \n",
    "        ## binary mask corresponding to the thresholded value for the digit\n",
    "        mask = bin_seg_mask.numpy()[0]\n",
    "\n",
    "        ## Convert it into np.uint8 type for cv2\n",
    "        mask = np.array(mask, dtype=np.uint8)\n",
    "        h, w = mask.shape ## Shape of the image\n",
    "\n",
    "        ## find the contours \n",
    "        contours,hierarchy = cv.findContours(mask, cv.RETR_TREE, cv.CHAIN_APPROX_SIMPLE)\n",
    "        ## look at the top most contour, as the empty shape in loops like 8, 0 wouldn't matter for the enclsing circle\n",
    "        cnt = contours[0] \n",
    "\n",
    "        ## find the min enclosing circle corresponding to the contour\n",
    "        (x,y),radius = cv.minEnclosingCircle(cnt)\n",
    "        center = (int(x),int(y))\n",
    "        radius = int(radius)\n",
    "\n",
    "        ## keep -1 for filling the circle for jaccard score or +1 for visualizing the dataset\n",
    "        circle_mask = cv.circle(mask,center,radius,(255,255), -1)\n",
    "\n",
    "        ## final variable to be predicted for the circle\n",
    "        bounding_circle = (x/h,y/w, radius/(((h**2 + w**2)**0.5)/2))\n",
    "\n",
    "        return bounding_circle, circle_mask\n",
    "\n",
    "\n",
    "    def __getitem__(self, idx):\n",
    "        if torch.is_tensor(idx):\n",
    "            idx = idx.tolist()\n",
    "        \n",
    "        ## index a sample from the q1a dataset\n",
    "        img_arr, seg_mask, img_label = self.base_dataset[idx]\n",
    "\n",
    "        ## create the enclosing circle \n",
    "        bounding_circle, circle_mask = self.get_min_enc_circle(seg_mask)\n",
    "\n",
    "        ## convert to tensor and add unsqueeze the tensor for using in dataloader\n",
    "        bounding_circle = torch.tensor(bounding_circle).type(torch.float32)\n",
    "        circle_mask = torch.tensor(circle_mask).unsqueeze(0)\n",
    "\n",
    "        return seg_mask, bounding_circle, img_label, circle_mask  "
   ]
  },
  {
   "cell_type": "code",
   "execution_count": null,
   "metadata": {
    "id": "zqzaEnaFUPRs"
   },
   "outputs": [],
   "source": [
    "train_dataset_B = Q1B_Dataset(train_dataset_A)\n",
    "train_data_loader_B = torch.utils.data.DataLoader(train_dataset_B, batch_size=2*train_batch_size, shuffle=True)"
   ]
  },
  {
   "cell_type": "code",
   "execution_count": null,
   "metadata": {
    "id": "hQ48BZYfIM2J"
   },
   "outputs": [],
   "source": [
    "val_dataset_B = Q1B_Dataset(val_dataset_A)\n",
    "val_data_loader_B = torch.utils.data.DataLoader(val_dataset_B, batch_size=2*eval_batch_size, shuffle=True)"
   ]
  },
  {
   "cell_type": "markdown",
   "metadata": {
    "id": "BsxV7Y0NEmkB"
   },
   "source": [
    "### look at the new dataset"
   ]
  },
  {
   "cell_type": "code",
   "execution_count": null,
   "metadata": {
    "colab": {
     "base_uri": "https://localhost:8080/"
    },
    "id": "rBRtmzGzNuzd",
    "outputId": "f079b8ce-6d85-4bf3-df7b-3a5fdb5ecf65"
   },
   "outputs": [
    {
     "name": "stdout",
     "output_type": "stream",
     "text": [
      "Image shape: torch.Size([1, 224, 224]), bounding circle center: tensor([0.4933, 0.5312]), radius : 0.6818529963493347\n"
     ]
    }
   ],
   "source": [
    "print(f'Image shape: {train_dataset_B[0][0].shape}, bounding circle center: {train_dataset_B[0][1][:2]}, radius : {train_dataset_B[0][1][-1]}')"
   ]
  },
  {
   "cell_type": "code",
   "execution_count": null,
   "metadata": {
    "colab": {
     "base_uri": "https://localhost:8080/",
     "height": 1000
    },
    "id": "gRwiYX9DXTf-",
    "outputId": "7ad8af75-0abb-4d93-824f-c911a8c73ee0"
   },
   "outputs": [
    {
     "data": {
      "image/png": "[encoded data removed]",
      "text/plain": [
       "<Figure size 432x288 with 1 Axes>"
      ]
     },
     "metadata": {
      "needs_background": "light",
      "tags": []
     },
     "output_type": "display_data"
    },
    {
     "data": {
      "image/png": "[encoded data removed]",
      "text/plain": [
       "<Figure size 432x288 with 1 Axes>"
      ]
     },
     "metadata": {
      "needs_background": "light",
      "tags": []
     },
     "output_type": "display_data"
    },
    {
     "data": {
      "image/png": "[encoded data removed]",
      "text/plain": [
       "<Figure size 432x288 with 1 Axes>"
      ]
     },
     "metadata": {
      "needs_background": "light",
      "tags": []
     },
     "output_type": "display_data"
    },
    {
     "data": {
      "image/png": "[encoded data removed]",
      "text/plain": [
       "<Figure size 432x288 with 1 Axes>"
      ]
     },
     "metadata": {
      "needs_background": "light",
      "tags": []
     },
     "output_type": "display_data"
    },
    {
     "data": {
      "image/png": "[encoded data removed]",
      "text/plain": [
       "<Figure size 432x288 with 1 Axes>"
      ]
     },
     "metadata": {
      "needs_background": "light",
      "tags": []
     },
     "output_type": "display_data"
    },
    {
     "data": {
      "image/png": "[encoded data removed]",
      "text/plain": [
       "<Figure size 432x288 with 1 Axes>"
      ]
     },
     "metadata": {
      "needs_background": "light",
      "tags": []
     },
     "output_type": "display_data"
    }
   ],
   "source": [
    "a = next(iter(val_data_loader_B))\n",
    "\n",
    "## take the digit images and the corresponding circle maps when (+1) is set\n",
    "masks = a[-1]\n",
    "imgs = a[0]\n",
    "\n",
    "for i in range(6):\n",
    "    final_image = imgs[i][0]*255 + masks[i][0]\n",
    "    final_image = final_image > 120\n",
    "    plt.imshow(final_image)\n",
    "    plt.show()"
   ]
  },
  {
   "cell_type": "markdown",
   "metadata": {
    "id": "sgZ4CpEsFaLi"
   },
   "source": [
    "### Modified Jaccard similarity score for taking into account the class label prediction as well"
   ]
  },
  {
   "cell_type": "code",
   "execution_count": null,
   "metadata": {
    "id": "iVK3703nbzKi"
   },
   "outputs": [],
   "source": [
    "def ModifiedJaccardSimilarity(mask_1, mask_2, preds, labels):\n",
    "\n",
    "    ## Find a boolean mask for the 2 masks\n",
    "    bool_mask_1 = mask_1 > 0\n",
    "    bool_mask_2 = mask_2 > 0\n",
    "    \n",
    "    ## Find the intersection - Numerator \n",
    "    intersection = np.logical_and(bool_mask_1, bool_mask_2).sum(axis=1)\n",
    "    # print(intersection.shape)\n",
    "    \n",
    "    ## Find the union - Denominator \n",
    "    union = np.logical_or(bool_mask_1, bool_mask_2).sum(axis=1)\n",
    "    \n",
    "    ## Jaccard Simmilarity Score \n",
    "    JS_score = intersection / union\n",
    "    \n",
    "    modified_JS = (preds==labels) * JS_score.numpy()\n",
    "    \n",
    "    return np.average(modified_JS)"
   ]
  },
  {
   "cell_type": "code",
   "execution_count": null,
   "metadata": {
    "colab": {
     "base_uri": "https://localhost:8080/"
    },
    "id": "VW5P4P0AabQB",
    "outputId": "a0f5bc68-b8cb-4078-8789-7f2f4c031c80"
   },
   "outputs": [
    {
     "data": {
      "text/plain": [
       "0.3095477"
      ]
     },
     "execution_count": 44,
     "metadata": {
      "tags": []
     },
     "output_type": "execute_result"
    }
   ],
   "source": [
    "ModifiedJaccardSimilarity(a[0].reshape(2*eval_batch_size, -1), a[-1].reshape(2*eval_batch_size, -1), a[2], a[2])"
   ]
  },
  {
   "cell_type": "markdown",
   "metadata": {
    "id": "pItxRL-GWT3i"
   },
   "source": [
    "# Q1 C"
   ]
  },
  {
   "cell_type": "markdown",
   "metadata": {
    "id": "Fg7I-kH9FrlR"
   },
   "source": [
    "### Defining dataset class"
   ]
  },
  {
   "cell_type": "code",
   "execution_count": null,
   "metadata": {
    "id": "tyVN28P4VjUf"
   },
   "outputs": [],
   "source": [
    "class Q1C_Dataset(Dataset):\n",
    "\n",
    "    def __init__(self, base_dataset):\n",
    "        \n",
    "        self.base_dataloader = torch.utils.data.DataLoader(base_dataset, batch_size=4, shuffle=True) \n",
    "    \n",
    "    def __len__(self):\n",
    "        return len(self.base_dataloader)\n",
    "    \n",
    "    ## function for concatenating images in a 2x grid fashion \n",
    "    def concat_samples(self,img_arr):\n",
    "        \n",
    "        ## store image size\n",
    "        nb_images, nb_channels, h, w = img_arr.shape\n",
    "\n",
    "        ## create an empty placeholder based on the number and size of images \n",
    "        new_img_arr = torch.zeros((nb_channels, 2*h, w*(nb_images//2)))\n",
    "\n",
    "        idx = 0\n",
    "        ## concatenate individual images \n",
    "        for row in range(2):\n",
    "            for col in range(nb_images//2):\n",
    "                new_img_arr[:, col*h : (col+1)*h, row*w : (row+1)*w] = img_arr[idx]\n",
    "                idx +=1\n",
    "        \n",
    "        return new_img_arr\n",
    "\n",
    "    def __getitem__(self, idx):\n",
    "        if torch.is_tensor(idx):\n",
    "            idx = idx.tolist()\n",
    "        \n",
    "        ## take a random batch of 4 images\n",
    "        img_arr, seg_mask, img_label = next(iter(self.base_dataloader))\n",
    "\n",
    "        ## Concatenate those 4 samples \n",
    "        img_arr = self.concat_samples(img_arr)\n",
    "        \n",
    "        ## Concatenate the segmentation masks corresponding to those 4 samples \n",
    "        seg_mask = self.concat_samples(seg_mask*(img_label+1).reshape((img_label.shape[0], 1, 1, 1)))\n",
    "        ## Here we multiple each segmentation maske with its (label+1) value \n",
    "        ## such that the bg remains 0 but the digit label turn to label +1 \n",
    "        ## used for semantic segmentation \n",
    "\n",
    "        return img_arr, seg_mask, img_label"
   ]
  },
  {
   "cell_type": "code",
   "execution_count": null,
   "metadata": {
    "id": "q24PmhxngxbG"
   },
   "outputs": [],
   "source": [
    "train_dataset_C = Q1C_Dataset(train_dataset_A)\n",
    "train_data_loader_C = torch.utils.data.DataLoader(train_dataset_C, batch_size=train_batch_size, shuffle=True)"
   ]
  },
  {
   "cell_type": "code",
   "execution_count": null,
   "metadata": {
    "id": "3LHvpwwyg2uo"
   },
   "outputs": [],
   "source": [
    "val_dataset_C = Q1C_Dataset(train_dataset_A)\n",
    "val_data_loader_C = torch.utils.data.DataLoader(train_dataset_C, batch_size=eval_batch_size, shuffle=True)"
   ]
  },
  {
   "cell_type": "markdown",
   "metadata": {
    "id": "I2DA-Z6QGgOe"
   },
   "source": [
    "### look at the new dataset"
   ]
  },
  {
   "cell_type": "code",
   "execution_count": null,
   "metadata": {
    "id": "qq_mgnBfnytB"
   },
   "outputs": [],
   "source": [
    "a = next(iter(val_data_loader_C))\n",
    "img_arr, seg_mask, img_label = a"
   ]
  },
  {
   "cell_type": "code",
   "execution_count": null,
   "metadata": {
    "colab": {
     "base_uri": "https://localhost:8080/",
     "height": 1000
    },
    "id": "-eX9OgZ2ZGBz",
    "outputId": "f78802f2-8a7f-4feb-f55a-e8d502c2e9cb"
   },
   "outputs": [
    {
     "name": "stdout",
     "output_type": "stream",
     "text": [
      "Different labels present in the groundtruth segmentation label: [0. 2. 4.]\n"
     ]
    },
    {
     "data": {
      "image/png": "[encoded data removed]",
      "text/plain": [
       "<Figure size 432x288 with 2 Axes>"
      ]
     },
     "metadata": {
      "needs_background": "light",
      "tags": []
     },
     "output_type": "display_data"
    },
    {
     "name": "stdout",
     "output_type": "stream",
     "text": [
      "Different labels present in the groundtruth segmentation label: [0. 3. 6. 7.]\n"
     ]
    },
    {
     "data": {
      "image/png": "[encoded data removed]",
      "text/plain": [
       "<Figure size 432x288 with 2 Axes>"
      ]
     },
     "metadata": {
      "needs_background": "light",
      "tags": []
     },
     "output_type": "display_data"
    },
    {
     "name": "stdout",
     "output_type": "stream",
     "text": [
      "Different labels present in the groundtruth segmentation label: [ 0.  1.  4.  9. 10.]\n"
     ]
    },
    {
     "data": {
      "image/png": "[encoded data removed]",
      "text/plain": [
       "<Figure size 432x288 with 2 Axes>"
      ]
     },
     "metadata": {
      "needs_background": "light",
      "tags": []
     },
     "output_type": "display_data"
    },
    {
     "name": "stdout",
     "output_type": "stream",
     "text": [
      "Different labels present in the groundtruth segmentation label: [ 0.  3.  4.  7. 10.]\n"
     ]
    },
    {
     "data": {
      "image/png": "[encoded data removed]",
      "text/plain": [
       "<Figure size 432x288 with 2 Axes>"
      ]
     },
     "metadata": {
      "needs_background": "light",
      "tags": []
     },
     "output_type": "display_data"
    },
    {
     "name": "stdout",
     "output_type": "stream",
     "text": [
      "Different labels present in the groundtruth segmentation label: [ 0.  1.  4.  9. 10.]\n"
     ]
    },
    {
     "data": {
      "image/png": "[encoded data removed]",
      "text/plain": [
       "<Figure size 432x288 with 2 Axes>"
      ]
     },
     "metadata": {
      "needs_background": "light",
      "tags": []
     },
     "output_type": "display_data"
    },
    {
     "name": "stdout",
     "output_type": "stream",
     "text": [
      "Different labels present in the groundtruth segmentation label: [ 0.  2.  4.  6. 10.]\n"
     ]
    },
    {
     "data": {
      "image/png": "[encoded data removed]",
      "text/plain": [
       "<Figure size 432x288 with 2 Axes>"
      ]
     },
     "metadata": {
      "needs_background": "light",
      "tags": []
     },
     "output_type": "display_data"
    }
   ],
   "source": [
    "for i in range(6):\n",
    "    print(f'Different labels present in the groundtruth segmentation label: {np.unique(seg_mask[i][0], return_counts=False)}')\n",
    "    fig, (ax1, ax2) = plt.subplots(1, 2)\n",
    "    ax1.imshow(img_arr[i][0])\n",
    "    ax2.imshow(seg_mask[i][0])\n",
    "    plt.show()"
   ]
  },
  {
   "cell_type": "markdown",
   "metadata": {
    "id": "J1IlavUx8SU4"
   },
   "source": [
    "# Train Function 2"
   ]
  },
  {
   "cell_type": "code",
   "execution_count": null,
   "metadata": {
    "id": "HJmYrLat6hmt"
   },
   "outputs": [],
   "source": [
    "def train_func(model, criterion, train_dataloader, eval_dataloader, device, epochs, optimizer, max_train_steps_epoch=None, max_eval_steps_epoch=None, model_dir=None):\n",
    "    \n",
    "    ## load the model  \n",
    "    model.to(device)\n",
    "\n",
    "    ## keep track of different metrics \n",
    "    train_losses = []\n",
    "    eval_losses = []\n",
    "    eval_js = []\n",
    "\n",
    "    ## decide the max steps for training\n",
    "    if max_train_steps_epoch is None:\n",
    "        max_train_steps_epoch = len(train_dataloader)\n",
    "\n",
    "    max_train_steps = epochs * max_train_steps_epoch\n",
    "\n",
    "    ## decide the max steps for evaluation \n",
    "    if max_eval_steps_epoch is None:\n",
    "        max_eval_steps_epoch = len(eval_dataloader)\n",
    "\n",
    "    progress_bar_train = tqdm(range(max_train_steps))\n",
    "    \n",
    "    completed_steps = 0\n",
    "\n",
    "    for epoch in range(epochs):\n",
    "\n",
    "        model.train() ## set the model to train\n",
    "        progress_bar_train.set_description(f\"Traing Epoch {epoch+1}\", refresh=True)\n",
    "        completed_steps_epoch = 0\n",
    "\n",
    "        epoch_loss_train = 0\n",
    "\n",
    "        ## Loop over each batch \n",
    "        for step, batch in enumerate(train_dataloader):\n",
    "            \n",
    "            ## put each component onto the device \n",
    "            img, seg, label = tuple(t.to(device) for t in batch)\n",
    "            \n",
    "            model.zero_grad()\n",
    "\n",
    "            # Perform a forward pass\n",
    "            logits = model(img)['out']\n",
    "\n",
    "            ## Flatten the out predictions and labels to use pre-defined loss\n",
    "            logits = logits.view(-1)\n",
    "            seg = seg.view(-1)\n",
    "            \n",
    "            ## Calculate the loss\n",
    "            loss = criterion(logits, seg)\n",
    "\n",
    "            # Calculate gradient and take a step\n",
    "            loss.backward()\n",
    "            optimizer.step()\n",
    "            \n",
    "            epoch_loss_train += loss.item() ## store the loss\n",
    "\n",
    "            progress_bar_train.set_postfix(batch_loss=loss.item())\n",
    "            progress_bar_train.update(1)\n",
    "\n",
    "            ## Print progress after some steps or if the training is complete \n",
    "            completed_steps_epoch += 1\n",
    "            completed_steps += 1\n",
    "            if completed_steps % 500 == 0 or completed_steps == max_train_steps:\n",
    "                print(\"Training Loss: \", completed_steps, \" --\", epoch_loss_train/(step+1))\n",
    "\n",
    "            ## Save the model after some steps or if the training is complete \n",
    "            if model_dir is not None and ((completed_steps % 500) == 0 or completed_steps == max_train_steps):\n",
    "                model_name = f'{model_dir}_{completed_steps}.pt'\n",
    "                torch.save({\n",
    "                            \"completed_steps\": completed_steps,\n",
    "                            \"model_state_dict\": model.state_dict()\n",
    "                            }, model_name)\n",
    "        \n",
    "            if completed_steps_epoch >= max_train_steps_epoch:\n",
    "                break\n",
    "\n",
    "        train_losses.append(epoch_loss_train/max_train_steps_epoch)\n",
    "\n",
    "        ## Set the model to evaluation after one training epoch \n",
    "        model.eval()\n",
    "        \n",
    "        progress_bar_eval = tqdm(range(max_eval_steps_epoch), leave=False)\n",
    "        completed_steps_epoch_eval = 0\n",
    "        progress_bar_eval.set_description(f\"Evaluation after {epoch} Epoch\", refresh=True)\n",
    "\n",
    "        ## store the evaluation metrics \n",
    "        epoch_js_eval = 0\n",
    "        epoch_loss_eval = 0\n",
    "\n",
    "        ## Loop over each batch \n",
    "        for step, batch in enumerate(eval_dataloader):\n",
    "            \n",
    "            ## put each component onto the device \n",
    "            img, seg, label = tuple(t.to(device) for t in batch)\n",
    "\n",
    "            with torch.no_grad():\n",
    "                logits = model(img)['out']\n",
    "\n",
    "            ## Flatten the out predictions and labels to use pre-defined loss\n",
    "            logits = logits.view(-1)\n",
    "            seg = seg.view(-1)\n",
    "\n",
    "            ## Calculate the loss\n",
    "            loss = criterion(logits, seg)\n",
    "\n",
    "            ## convert logits into labels \n",
    "            preds = (logits > 0.5).cpu().float().numpy()\n",
    "\n",
    "            ## Calculate the jaccard score \n",
    "            epoch_js_eval += jaccard_score(seg.cpu().numpy(), preds)\n",
    "\n",
    "            ## Store loss\n",
    "            epoch_loss_eval += loss.item()\n",
    "\n",
    "            completed_steps_epoch_eval += 1\n",
    "\n",
    "            progress_bar_eval.set_postfix(batch_loss=loss.item())\n",
    "            progress_bar_eval.update(1)\n",
    "\n",
    "            if completed_steps_epoch_eval >= max_eval_steps_epoch:\n",
    "                break\n",
    "\n",
    "        eval_losses.append(epoch_loss_eval/max_eval_steps_epoch)\n",
    "        eval_js.append(epoch_js_eval/max_eval_steps_epoch)\n",
    "\n",
    "        print(\"Evaluation Loss:\", epoch+1, \"--\", eval_losses[-1], \"-- Evaluation Jaccard Score:\", eval_js[-1])\n",
    "    \n",
    "    return train_losses, eval_losses, eval_js"
   ]
  },
  {
   "cell_type": "markdown",
   "metadata": {
    "id": "amq0NIAu8y1V"
   },
   "source": [
    "# Train Function (3)"
   ]
  },
  {
   "cell_type": "markdown",
   "metadata": {
    "id": "xcVUXDxSJ2Rx"
   },
   "source": [
    "### Function that calculate the jaccard score after creating circles from the predicted center and radius values"
   ]
  },
  {
   "cell_type": "code",
   "execution_count": null,
   "metadata": {
    "id": "I6-O2dk3FIrk"
   },
   "outputs": [],
   "source": [
    "## Calculates jaccard similarity score \n",
    "def eval_metric(preds, labels, out_reg, circle_map):\n",
    "\n",
    "    ## Store generated circle aps \n",
    "    circle_maps = []\n",
    "    metric = 0\n",
    "\n",
    "    ## For each prediction convert center + radius -> circle \n",
    "    for idx in range(circle_map.shape[0]):\n",
    "        h, w = circle_map.shape[-2:]\n",
    "\n",
    "        ## create an empty mask \n",
    "        mask = np.zeros((circle_map.shape[-2:]))\n",
    "\n",
    "        ## store the center and radius out of the regression outputs \n",
    "        center = (int(out_reg[idx, 0] * h), int(out_reg[idx, 1] * w))\n",
    "        radius = int(out_reg[idx, 2] * ((h**2 + w**2)**0.5)/2)\n",
    "\n",
    "        ## create a circle map \n",
    "        circle_maps.append(cv.circle(mask,center,radius,(255,255), -1))\n",
    "\n",
    "    ## concatenate into an array\n",
    "    pred_circle_map = np.array(circle_maps)\n",
    "\n",
    "    ## Calculate modified jaccard score based on the predicted label \n",
    "    metric = ModifiedJaccardSimilarity(pred_circle_map.reshape((preds.shape[0], -1)), circle_map.reshape((preds.shape[0], -1)), preds, labels)\n",
    "\n",
    "    return metric"
   ]
  },
  {
   "cell_type": "markdown",
   "metadata": {
    "id": "fpt0KeGPKfaA"
   },
   "source": [
    "### Training and evaluation loop"
   ]
  },
  {
   "cell_type": "code",
   "execution_count": null,
   "metadata": {
    "id": "7avkzAz88yQd"
   },
   "outputs": [],
   "source": [
    "def train_func_3(model, criterions, train_dataloader, eval_dataloader, device, epochs, optimizer, max_train_steps_epoch=None, max_eval_steps_epoch=None, model_dir=None):\n",
    "    model.to(device)\n",
    "\n",
    "    ## store classification and regression loss functions \n",
    "    criterion_class = criterions[0]\n",
    "    criterion_reg = criterions[1]\n",
    "\n",
    "    ## keep track of different metrics \n",
    "    train_losses_class = []\n",
    "    train_losses_reg = []\n",
    "\n",
    "    eval_losses_class = []\n",
    "    eval_losses_reg = []\n",
    "\n",
    "    evaluation_metric = []\n",
    "\n",
    "    ## decide the max steps for training\n",
    "    if max_train_steps_epoch is None:\n",
    "        max_train_steps_epoch = len(train_dataloader)\n",
    "\n",
    "    max_train_steps = epochs * max_train_steps_epoch\n",
    "\n",
    "    ## decide the max steps for evaluation \n",
    "    if max_eval_steps_epoch is None:\n",
    "        max_eval_steps_epoch = len(eval_dataloader)\n",
    "\n",
    "    progress_bar_train = tqdm(range(max_train_steps))\n",
    "    \n",
    "    completed_steps = 0\n",
    "\n",
    "    for epoch in range(epochs):\n",
    "        model.train()\n",
    "        progress_bar_train.set_description(f\"Traing Epoch {epoch+1}\", refresh=True)\n",
    "        completed_steps_epoch = 0\n",
    "\n",
    "        epoch_loss_train_class = 0\n",
    "        epoch_loss_train_reg = 0\n",
    "        metric = 0\n",
    "        for step, batch in enumerate(train_dataloader):\n",
    "            \n",
    "            img, bounding_cicle, label = tuple(t.to(device) for t in batch[:3])\n",
    "            \n",
    "            model.zero_grad()\n",
    "\n",
    "            # Perform a forward pass\n",
    "            logits_class, out_reg = model(img)\n",
    "\n",
    "            loss_class = criterion_class(logits_class, label)\n",
    "            loss_reg = criterion_reg(out_reg, bounding_cicle)\n",
    "\n",
    "            # print(loss_class.item(), loss_reg.item())\n",
    "            loss = loss_class + loss_reg\n",
    "\n",
    "            # Calculate gradient and take a step\n",
    "            loss.backward()\n",
    "            optimizer.step()\n",
    "            \n",
    "            epoch_loss_train_class += loss.item()\n",
    "            epoch_loss_train_reg += loss_reg.item()\n",
    "            \n",
    "            progress_bar_train.set_postfix(batch_loss=loss.item())\n",
    "            progress_bar_train.update(1)\n",
    "\n",
    "            completed_steps_epoch += 1\n",
    "            completed_steps += 1\n",
    "\n",
    "            ## Print progress after some steps or if the training is complete\n",
    "            if completed_steps % 500 == 0 or completed_steps == max_train_steps:\n",
    "                print(\"Training Loss: \", completed_steps, \" -- Class --\", epoch_loss_train_class/(step+1), \" -- Class --\", epoch_loss_train_reg/(step+1))\n",
    "\n",
    "            ## Save the model after some steps or if the training is complete \n",
    "            if model_dir is not None and ((completed_steps % 500) == 0 or completed_steps == max_train_steps):\n",
    "                model_name = f'{model_dir}_{completed_steps}.pt'\n",
    "                torch.save({\n",
    "                            \"completed_steps\": completed_steps,\n",
    "                            \"model_state_dict\": model.state_dict()\n",
    "                            }, model_name)\n",
    "        \n",
    "            if completed_steps_epoch >= max_train_steps_epoch:\n",
    "                break\n",
    "\n",
    "        train_losses_class.append(epoch_loss_train_class/max_train_steps_epoch)\n",
    "        train_losses_reg.append(epoch_loss_train_reg/max_train_steps_epoch)\n",
    "\n",
    "        ## Set the model to evaluation after one training epoch\n",
    "        model.eval()\n",
    "        \n",
    "        progress_bar_eval = tqdm(range(max_eval_steps_epoch), leave=False)\n",
    "        completed_steps_epoch_eval = 0\n",
    "        progress_bar_eval.set_description(f\"Evaluation after {epoch} Epoch\", refresh=True)\n",
    "        \n",
    "        ## store the evaluation metrics \n",
    "        epoch_loss_eval_class = 0\n",
    "        epoch_loss_eval_reg = 0\n",
    "        metric = 0\n",
    "\n",
    "        ## Loop over each batch \n",
    "        for step, batch in enumerate(eval_dataloader):\n",
    "            \n",
    "            ## put each component onto the device \n",
    "            img, bounding_cicle, label = tuple(t.to(device) for t in batch[:3])\n",
    "\n",
    "            with torch.no_grad():\n",
    "                logits_class, out_reg = model(img)\n",
    "\n",
    "            ## Calculate the loss for classification and regularization task\n",
    "            loss_class = criterion_class(logits_class, label)\n",
    "            loss_reg = criterion_reg(out_reg, bounding_cicle)\n",
    "\n",
    "            loss = loss_class + loss_reg\n",
    "\n",
    "            ## Store loss\n",
    "            epoch_loss_eval_class += loss_class.item()\n",
    "            epoch_loss_eval_reg += loss_reg.item()\n",
    "\n",
    "            completed_steps_epoch_eval += 1\n",
    "\n",
    "            ## convert logits into labels \n",
    "            preds = torch.argmax(logits_class, dim=1).flatten().cpu().numpy()\n",
    "\n",
    "            ## Calculate the jaccard score  (multilabel therefore micro averaging)\n",
    "            metric += eval_metric(preds, label.cpu().numpy(), out_reg.cpu().numpy(), img.cpu()) \n",
    "\n",
    "            progress_bar_eval.set_postfix(batch_loss=loss.item())\n",
    "            progress_bar_eval.update(1)\n",
    "\n",
    "            if completed_steps_epoch_eval >= max_eval_steps_epoch:\n",
    "                break\n",
    "\n",
    "        eval_losses_class.append(epoch_loss_eval_class/max_eval_steps_epoch)\n",
    "        eval_losses_reg.append(epoch_loss_eval_reg/max_eval_steps_epoch)\n",
    "        evaluation_metric.append(metric/max_eval_steps_epoch)\n",
    "\n",
    "        print(\"Evaluation Loss - :\", epoch+1, \"--Class -- \", eval_losses_class[-1], \"--Reg -- \", eval_losses_reg[-1], \"-- Evaluation Jaccard Score:\", evaluation_metric[-1])\n",
    "\n",
    "    return train_losses_class, train_losses_reg, eval_losses_class, eval_losses_reg, evaluation_metric"
   ]
  },
  {
   "cell_type": "code",
   "execution_count": null,
   "metadata": {
    "colab": {
     "base_uri": "https://localhost:8080/"
    },
    "id": "rACERod4gXwt",
    "outputId": "5bcc532e-517e-4a36-df38-715d1053fe96"
   },
   "outputs": [
    {
     "name": "stdout",
     "output_type": "stream",
     "text": [
      "Fri May  7 18:57:04 2021       \n",
      "+-----------------------------------------------------------------------------+\n",
      "| NVIDIA-SMI 465.19.01    Driver Version: 460.32.03    CUDA Version: 11.2     |\n",
      "|-------------------------------+----------------------+----------------------+\n",
      "| GPU  Name        Persistence-M| Bus-Id        Disp.A | Volatile Uncorr. ECC |\n",
      "| Fan  Temp  Perf  Pwr:Usage/Cap|         Memory-Usage | GPU-Util  Compute M. |\n",
      "|                               |                      |               MIG M. |\n",
      "|===============================+======================+======================|\n",
      "|   0  Tesla K80           Off  | 00000000:00:04.0 Off |                    0 |\n",
      "| N/A   69C    P8    34W / 149W |      0MiB / 11441MiB |      0%      Default |\n",
      "|                               |                      |                  N/A |\n",
      "+-------------------------------+----------------------+----------------------+\n",
      "                                                                               \n",
      "+-----------------------------------------------------------------------------+\n",
      "| Processes:                                                                  |\n",
      "|  GPU   GI   CI        PID   Type   Process name                  GPU Memory |\n",
      "|        ID   ID                                                   Usage      |\n",
      "|=============================================================================|\n",
      "|  No running processes found                                                 |\n",
      "+-----------------------------------------------------------------------------+\n"
     ]
    }
   ],
   "source": [
    "!nvidia-smi"
   ]
  },
  {
   "cell_type": "markdown",
   "metadata": {
    "id": "wZr1Phm4iRaQ"
   },
   "source": [
    "# Train Function 4"
   ]
  },
  {
   "cell_type": "code",
   "execution_count": null,
   "metadata": {
    "id": "a4JP8t12iVg-"
   },
   "outputs": [],
   "source": [
    "def train_func_4(model, criterion, train_dataloader, eval_dataloader, device, epochs, optimizer, max_train_steps_epoch=None, max_eval_steps_epoch=None, model_dir=None):\n",
    "    \n",
    "    ## load the model \n",
    "    model.to(device)\n",
    "\n",
    "    ## keep track of different metrics \n",
    "    train_losses = []\n",
    "    eval_losses = []\n",
    "    eval_js = []\n",
    "\n",
    "    ## decide the max steps for training\n",
    "    if max_train_steps_epoch is None:\n",
    "        max_train_steps_epoch = len(train_dataloader)\n",
    "\n",
    "    max_train_steps = epochs * max_train_steps_epoch\n",
    "\n",
    "    ## decide the max steps for evaluation \n",
    "    if max_eval_steps_epoch is None:\n",
    "        max_eval_steps_epoch = len(eval_dataloader)\n",
    "\n",
    "    progress_bar_train = tqdm(range(max_train_steps))\n",
    "    \n",
    "    completed_steps = 0\n",
    "\n",
    "    for epoch in range(epochs):\n",
    "\n",
    "        model.train() ## set the model to train\n",
    "        progress_bar_train.set_description(f\"Traing Epoch {epoch+1}\", refresh=True)\n",
    "        completed_steps_epoch = 0\n",
    "\n",
    "        epoch_loss_train = 0\n",
    "\n",
    "        ## Loop over each batch \n",
    "        for step, batch in enumerate(train_dataloader):\n",
    "\n",
    "            ## put each component onto the device \n",
    "            img, seg, label = tuple(t.to(device) for t in batch)\n",
    "            \n",
    "            model.zero_grad()\n",
    "\n",
    "            # Perform a forward pass\n",
    "            logits = model(img)['out']\n",
    "\n",
    "            ## Reshape the prediction as (batch_size*image_h*image_w, nb_classes) \n",
    "            logits = logits.permute(0, 2, 3, 1).reshape(-1, 11)\n",
    "\n",
    "            ## Reshape the labels as (batch_size*image_h*image_w, )\n",
    "            seg = seg.reshape(-1,).long()\n",
    "\n",
    "            loss = criterion(logits, seg)\n",
    "\n",
    "            # Calculate gradient and take a step\n",
    "            loss.backward()\n",
    "            optimizer.step()\n",
    "            \n",
    "            ## Calculate the loss\n",
    "            epoch_loss_train += loss.item()\n",
    " \n",
    "            progress_bar_train.set_postfix(batch_loss=loss.item())\n",
    "            progress_bar_train.update(1)\n",
    "\n",
    "            ## Print progress after some steps or if the training is complete \n",
    "            completed_steps_epoch += 1\n",
    "            completed_steps += 1\n",
    "            if completed_steps % 500 == 0 or completed_steps == max_train_steps:\n",
    "                print(\"Training Loss: \", completed_steps, \" --\", epoch_loss_train/(step+1))\n",
    "\n",
    "            ## Save the model after some steps or if the training is complete \n",
    "            if model_dir is not None and ((completed_steps % 500) == 0 or completed_steps == max_train_steps):\n",
    "                model_name = f'{model_dir}_{completed_steps}.pt'\n",
    "                torch.save({\n",
    "                            \"completed_steps\": completed_steps,\n",
    "                            \"model_state_dict\": model.state_dict()\n",
    "                            }, model_name)\n",
    "        \n",
    "            if completed_steps_epoch >= max_train_steps_epoch:\n",
    "                break\n",
    "\n",
    "        train_losses.append(epoch_loss_train/max_train_steps_epoch)\n",
    "\n",
    "        ## Set the model to evaluation after one training epoch\n",
    "        model.eval()\n",
    "        \n",
    "        progress_bar_eval = tqdm(range(max_eval_steps_epoch), leave=False)\n",
    "        completed_steps_epoch_eval = 0\n",
    "        progress_bar_eval.set_description(f\"Evaluation after {epoch} Epoch\", refresh=True)\n",
    "\n",
    "        ## store the evaluation metrics \n",
    "        epoch_js_eval = 0\n",
    "        epoch_loss_eval = 0\n",
    "\n",
    "        ## Loop over each batch \n",
    "        for step, batch in enumerate(eval_dataloader):\n",
    "            \n",
    "            ## put each component onto the device \n",
    "            img, seg, label = tuple(t.to(device) for t in batch)\n",
    "\n",
    "            with torch.no_grad():\n",
    "                logits = model(img)['out']\n",
    "            \n",
    "            ## Reshape the prediction as (batch_size*image_h*image_w, nb_classes) \n",
    "            logits = logits.permute(0, 2, 3, 1).reshape(-1, 11)\n",
    "\n",
    "            ## Reshape the labels as (batch_size*image_h*image_w, )\n",
    "            seg = seg.view(-1,).long()\n",
    "\n",
    "            ## Calculate the loss\n",
    "            loss = criterion(logits, seg)\n",
    "\n",
    "            ## convert logits into labels \n",
    "            preds = torch.argmax(logits, dim=1).flatten().cpu().numpy()\n",
    "\n",
    "            ## Calculate the jaccard score  (multilabel therefore micro averaging)\n",
    "            epoch_js_eval += jaccard_score(seg.cpu().numpy(), preds, average='micro')\n",
    "\n",
    "            ## Store loss\n",
    "            epoch_loss_eval += loss.item()\n",
    "\n",
    "            completed_steps_epoch_eval += 1\n",
    "\n",
    "            progress_bar_eval.set_postfix(batch_loss=loss.item())\n",
    "            progress_bar_eval.update(1)\n",
    "\n",
    "            if completed_steps_epoch_eval >= max_eval_steps_epoch:\n",
    "                break\n",
    "\n",
    "        eval_losses.append(epoch_loss_eval/max_eval_steps_epoch)\n",
    "        eval_js.append(epoch_js_eval/max_eval_steps_epoch)\n",
    "\n",
    "        print(\"Evaluation Loss:\", epoch+1, \"--\", eval_losses[-1], \"-- Evaluation Jaccard Score:\", eval_js[-1])\n",
    "    \n",
    "    return train_losses, eval_losses, eval_js"
   ]
  },
  {
   "cell_type": "markdown",
   "metadata": {
    "id": "0cz-zg182A4p"
   },
   "source": [
    "# Q2"
   ]
  },
  {
   "cell_type": "code",
   "execution_count": null,
   "metadata": {
    "colab": {
     "background_save": true
    },
    "id": "fheMzRioFpmQ"
   },
   "outputs": [],
   "source": [
    "## Run for 3 epochs \n",
    "EPOCHS = 3\n",
    "max_train_steps_epoch = None\n",
    "max_eval_steps_epoch = None\n",
    "\n",
    "## initiallize a pre-defined model\n",
    "fcn = models.segmentation.fcn_resnet50(pretrained=False, num_classes=1)\n",
    "\n",
    "## convert the first layer to 1 dimension (change as pre-defined for 3 dims on image-net)\n",
    "setattr(list(fcn.named_children())[0][1], 'conv1', nn.Conv2d(1, 64, kernel_size=(7, 7), stride=(2, 2), padding=(3, 3), bias=False))\n",
    "\n",
    "## Define device\n",
    "device = torch.device(\"cuda:0\" if torch.cuda.is_available() else \"cpu\")\n",
    "\n",
    "## initalize optimizer\n",
    "optimizer = optim.SGD(fcn.parameters(), lr=0.001, momentum=0.9)\n",
    "\n",
    "## define loss function \n",
    "loss_fn = nn.BCEWithLogitsLoss()\n",
    "\n",
    "## Training loop\n",
    "train_loss, val_loss, val_js = train_func(fcn, loss_fn, train_data_loader_A, \n",
    "                                          val_data_loader_A, device, EPOCHS, optimizer, \n",
    "                                          max_train_steps_epoch, max_eval_steps_epoch, \n",
    "                                          model_dir=\"./saved_models/q2\")\n",
    "\n",
    "plt.plot(train_loss, label='Train Loss')\n",
    "plt.plot(val_loss, label='Validation Loss')\n",
    "plt.legend()\n",
    "plt.show()\n",
    "\n",
    "plt.plot(val_js, label='Validation jaccard_score')\n",
    "plt.legend()\n",
    "plt.plot()\n",
    "\n",
    "print(train_loss, val_loss, val_js)"
   ]
  },
  {
   "cell_type": "markdown",
   "metadata": {
    "id": "D1J72l48fPF0"
   },
   "source": [
    "### Find output (loading previously trained model)"
   ]
  },
  {
   "cell_type": "code",
   "execution_count": null,
   "metadata": {
    "colab": {
     "background_save": true
    },
    "id": "lRK86eBniYjP"
   },
   "outputs": [],
   "source": [
    "device = torch.device(\"cuda:0\" if torch.cuda.is_available() else \"cpu\")\n",
    "\n",
    "## initiallize a pre-defined model\n",
    "fcn = models.segmentation.fcn_resnet50(pretrained=False, num_classes=1)\n",
    "\n",
    "## convert the first layer to 1 dimension (change as pre-defined for 3 dims on image-net)\n",
    "setattr(list(fcn.named_children())[0][1], 'conv1', nn.Conv2d(1, 64, kernel_size=(7, 7), stride=(2, 2), padding=(3, 3), bias=False))\n",
    "\n",
    "## Load checkpoint\n",
    "checkpoint = torch.load(\"./saved_models/q2_2814.pt\")\n",
    "fcn.load_state_dict(checkpoint['model_state_dict'])\n",
    "\n",
    "fcn.to(device)"
   ]
  },
  {
   "cell_type": "code",
   "execution_count": null,
   "metadata": {
    "id": "IFZkmzvMf5gC"
   },
   "outputs": [],
   "source": [
    "## work on one batch \n",
    "a, b, c = next(iter(train_data_loader_A))\n",
    "a = a.to(device)\n",
    "out = fcn(a)['out']"
   ]
  },
  {
   "cell_type": "code",
   "execution_count": null,
   "metadata": {
    "colab": {
     "background_save": true
    },
    "id": "Wa8xPW2WsFzA"
   },
   "outputs": [],
   "source": [
    "## Plot the predictions\n",
    "for i in range(6):\n",
    "    fig, (ax1, ax2, ax3) = plt.subplots(1, 3)\n",
    "    ax1.imshow(b[i].cpu().detach().numpy()[0])\n",
    "    ax2.imshow(out[i].cpu().detach().numpy()[0])\n",
    "    ax3.imshow(out[i].cpu().detach().numpy()[0]>0.5)\n",
    "    plt.show()"
   ]
  },
  {
   "cell_type": "markdown",
   "metadata": {
    "id": "vCjfZppJeVjR"
   },
   "source": [
    "# Q3"
   ]
  },
  {
   "cell_type": "markdown",
   "metadata": {
    "id": "Y9yq8gJPgJJZ"
   },
   "source": [
    "### Create the model for Q3"
   ]
  },
  {
   "cell_type": "code",
   "execution_count": null,
   "metadata": {
    "id": "eti9N1c44bvs"
   },
   "outputs": [],
   "source": [
    "class Q3_model(nn.Module):\n",
    "    def __init__(self):\n",
    "        super(Q2_model, self).__init__()\n",
    "\n",
    "        ## take the backbone of VGG-19\n",
    "        vgg = models.vgg19(pretrained=False)\n",
    "        setattr(list(vgg.named_children())[0][1], '0', nn.Conv2d(1, 64, kernel_size=(3, 3), stride=(1, 1), padding=(1, 1)))\n",
    "\n",
    "        self.base_model = vgg\n",
    "\n",
    "        ## Output number of classes \n",
    "        self.num_classes = 10\n",
    "\n",
    "        ## radius, center_x, center_y\n",
    "        self.num_reg = 3\n",
    "\n",
    "        ## dropout layer\n",
    "        self.dropout = nn.Dropout(p=0.5, inplace=False)\n",
    "\n",
    "        ## fully connected layer for classification \n",
    "        self.fc_class = nn.Linear(1000, self.num_classes)\n",
    "\n",
    "        ## fully-connected layer for regression\n",
    "        self.fc_reg = nn.Sequential(\n",
    "                                    nn.Linear(1000, 500),\n",
    "                                    nn.ReLU(),\n",
    "                                    nn.Linear(500, self.num_reg)\n",
    "        )\n",
    "\n",
    "    def forward(self, x):\n",
    "        \n",
    "        ## Base VGG\n",
    "        x = self.dropout(nn.functional.relu(self.base_model(x)))\n",
    "\n",
    "        ## logits for classification\n",
    "        x_class = self.fc_class(x)\n",
    "\n",
    "        ## regression output \n",
    "        x_reg = self.fc_reg(x)\n",
    "\n",
    "        return x_class, x_reg"
   ]
  },
  {
   "cell_type": "markdown",
   "metadata": {
    "id": "0QGlDGX7hHjr"
   },
   "source": [
    "### Train model"
   ]
  },
  {
   "cell_type": "code",
   "execution_count": null,
   "metadata": {
    "colab": {
     "base_uri": "https://localhost:8080/",
     "height": 288,
     "referenced_widgets": [
      "e94783cd0de7403d9093341806c29e17",
      "696831244b944b0e96c37494182578be",
      "99eea99663394893ba4b9a80f07d106c",
      "115585177b8a4b7ebd274c55ad24344b",
      "228f402e00164e60aa2c8fafaebd8b8b",
      "a10f200bcc58402facf0dc434d94a7d6",
      "1fa54b452a0c444ead8203523f889285",
      "33e402d9094143c6a88dd679449c45c3",
      "b0249b61623c44728905a28376bbb285",
      "172f6557562f4bcc97f3fd566f4a9778",
      "67c2b2b4694945369d2379f529c25c56",
      "b1bb1c37593e44a1ac219e7a0f5156c3",
      "668e2477a6b84e73887a4171deef5079",
      "86e19a69e82b481cba579522c305861b",
      "9e5a5c002ac748668ea291bd1cecf6ce",
      "29a64a5e8481446c9444caa1036f4907",
      "e9daca86adf94aa7afb699764ac34b89",
      "3207c5f5617e41cc9ed998a13376f9c6",
      "e446d0d560c749789b898636664269f5",
      "37d7374d542443c8adb06b9821b69438",
      "43041e903568405083d5f8f635bb3766",
      "f2c04f022c31481f9d27de13e962b45f",
      "201021980e484491835391b44d9b3b6f",
      "fb6c6cd9ad934fbbb9d0c7f8b8efd8db",
      "780a6934ee53466b88d92f333cf15633",
      "263c241c3d404e41b5d235f634e494fb",
      "417e767d463c466ebf6bca7a3750f95f",
      "967e37dad73b48de8bcb6c222a9ff15e",
      "616f151c02354a48991ef5ee6fce0a38",
      "1f31278c2c3a4214b46425dbb2d9ad08",
      "992ab3c2a18e4164b70cc50c3807e7fd",
      "3ed0b11293dd439ca3358d50cd72f748"
     ]
    },
    "id": "aHDyF4oSdn5d",
    "outputId": "e95cbdf4-b259-45ba-cf18-0037ed013593"
   },
   "outputs": [
    {
     "data": {
      "application/vnd.jupyter.widget-view+json": {
       "model_id": "e94783cd0de7403d9093341806c29e17",
       "version_major": 2,
       "version_minor": 0
      },
      "text/plain": [
       "HBox(children=(FloatProgress(value=0.0, max=1407.0), HTML(value='')))"
      ]
     },
     "metadata": {
      "tags": []
     },
     "output_type": "display_data"
    },
    {
     "data": {
      "application/vnd.jupyter.widget-view+json": {
       "model_id": "b0249b61623c44728905a28376bbb285",
       "version_major": 2,
       "version_minor": 0
      },
      "text/plain": [
       "HBox(children=(FloatProgress(value=0.0, max=79.0), HTML(value='')))"
      ]
     },
     "metadata": {
      "tags": []
     },
     "output_type": "display_data"
    },
    {
     "name": "stdout",
     "output_type": "stream",
     "text": [
      "Evaluation Loss - : 1 --Class --  0.09120873847528349 --Reg --  0.23042940206920046 -- Evaluation Jaccard Score: 0.0932568125898325\n",
      "Training Loss:  500  -- Class -- 0.2342554965326863  -- Class -- 0.07781115246395912\n"
     ]
    },
    {
     "data": {
      "application/vnd.jupyter.widget-view+json": {
       "model_id": "e9daca86adf94aa7afb699764ac34b89",
       "version_major": 2,
       "version_minor": 0
      },
      "text/plain": [
       "HBox(children=(FloatProgress(value=0.0, max=79.0), HTML(value='')))"
      ]
     },
     "metadata": {
      "tags": []
     },
     "output_type": "display_data"
    },
    {
     "name": "stdout",
     "output_type": "stream",
     "text": [
      "Evaluation Loss - : 2 --Class --  0.058030761796037986 --Reg --  0.1688046859035009 -- Evaluation Jaccard Score: 0.18330375227747084\n",
      "Training Loss:  1000  -- Class -- 0.1521093177218591  -- Class -- 0.04834680685833577\n",
      "Training Loss:  1407  -- Class -- 0.12894913203108793  -- Class -- 0.043703736439506126\n"
     ]
    },
    {
     "data": {
      "application/vnd.jupyter.widget-view+json": {
       "model_id": "780a6934ee53466b88d92f333cf15633",
       "version_major": 2,
       "version_minor": 0
      },
      "text/plain": [
       "HBox(children=(FloatProgress(value=0.0, max=79.0), HTML(value='')))"
      ]
     },
     "metadata": {
      "tags": []
     },
     "output_type": "display_data"
    },
    {
     "name": "stdout",
     "output_type": "stream",
     "text": [
      "Evaluation Loss - : 3 --Class --  0.04057603477665424 --Reg --  0.12124412214454217 -- Evaluation Jaccard Score: 0.24625522973416727\n",
      "[0.9804218573483832, 0.18481809971556226, 0.12894913203108793] [0.13933889583738118, 0.061328297286336104, 0.043703736439506126] [0.09120873847528349, 0.058030761796037986, 0.04057603477665424] [0.23042940206920046, 0.1688046859035009, 0.12124412214454217] [0.0932568125898325, 0.18330375227747084, 0.24625522973416727]\n"
     ]
    }
   ],
   "source": [
    "## Run for 3 epochs \n",
    "EPOCHS = 3\n",
    "max_train_steps_epoch = None\n",
    "max_eval_steps_epoch = None\n",
    "\n",
    "## intialize model \n",
    "model = Q3_model()\n",
    "\n",
    "## set device\n",
    "device = torch.device(\"cuda:0\" if torch.cuda.is_available() else \"cpu\")\n",
    "\n",
    "## initialize optimizer\n",
    "optimizer = optim.SGD(model.parameters(), lr=0.001, momentum=0.9)\n",
    "\n",
    "## classification loss\n",
    "loss_class = nn.CrossEntropyLoss()\n",
    "\n",
    "## regression loss\n",
    "loss_reg = nn.L1Loss()\n",
    "\n",
    "## training loop\n",
    "train_losses_class, train_losses_reg, eval_losses_class, eval_losses_reg, evaluation_metric = train_func_3(model, [loss_class, loss_reg], \n",
    "                                                                                                         train_data_loader_B, val_data_loader_B, \n",
    "                                                                                                         device, EPOCHS, optimizer, max_train_steps_epoch, \n",
    "                                                                                                         max_eval_steps_epoch, model_dir=\"./saved_models/q3\")\n",
    "\n",
    "print(train_losses_class, train_losses_reg, eval_losses_class, eval_losses_reg, evaluation_metric)"
   ]
  },
  {
   "cell_type": "code",
   "execution_count": null,
   "metadata": {
    "colab": {
     "base_uri": "https://localhost:8080/",
     "height": 288,
     "referenced_widgets": [
      "a70f56bda7cc494eba60f25edebbd453",
      "41a5fdef91804e7daa7b37e5297df7db",
      "d51c87f02703407f98c273ad45a9f27e",
      "a4caf0546dd94ea2a81b0b95eb3ac9d8",
      "d9d6e3d2ece64ed4ae3a86d8b83e7d48",
      "2049e6ca012645d3b4cc4efc422ce326",
      "6c1b134bb6d2401ba018d98f27de7a4a",
      "9a50aca58b3a4096aa2e424114d59a13",
      "adfe315e11614b9eba608e5739363008",
      "3ae20bf426794401968ad741d8242ead",
      "adbb8e523c5a45fca87194bf82a1398c",
      "f47577a14a6e401781bd9795a9202c65",
      "edddb86ca8d74254b2cc341fe2a1bc8e",
      "55ba73623fbf4edd9b65a1679c332f35",
      "c510939e246147fba9bc26e2131fe436",
      "4691025976ae4ba0b5fccedcc87e3a58",
      "9ac4cb19aade4ef29465e3cc8e994187",
      "97f395673c6e442689c5d64ce434368e",
      "8e2a494915a144ccb70bd7a4cd10c328",
      "271ed3b2c71a444ea683bfd1b77cd13d",
      "2fc634a16b444778a44bca255376f629",
      "9f8b6507331a475999339d9c6980cb0f",
      "28ab700434864ccb95f64b728a2da93e",
      "aba5e32555894029b53c06328897d3f2",
      "046b46d151fd4548bcbbcdf4124ad239",
      "798f53a1c6ff4cdd9887c446cf91f3ef",
      "2f225cc9eaf542f0a90c212a22d8e83e",
      "9f4092a0e5574c08ba7182a812ff409f",
      "7019c354fb204477adcbb2e2aa6c5953",
      "b7f204b704b148af8722d251ac08edd0",
      "361beb255ed246a5be018f15532e44ba",
      "4926242fd3254bc3b371af98167a215a"
     ]
    },
    "id": "dFavG8TvFsQr",
    "outputId": "e60291c7-5cd2-44b7-aff8-fcdf0be53c11"
   },
   "outputs": [
    {
     "data": {
      "application/vnd.jupyter.widget-view+json": {
       "model_id": "a70f56bda7cc494eba60f25edebbd453",
       "version_major": 2,
       "version_minor": 0
      },
      "text/plain": [
       "HBox(children=(FloatProgress(value=0.0, max=1407.0), HTML(value='')))"
      ]
     },
     "metadata": {
      "tags": []
     },
     "output_type": "display_data"
    },
    {
     "data": {
      "application/vnd.jupyter.widget-view+json": {
       "model_id": "adfe315e11614b9eba608e5739363008",
       "version_major": 2,
       "version_minor": 0
      },
      "text/plain": [
       "HBox(children=(FloatProgress(value=0.0, max=79.0), HTML(value='')))"
      ]
     },
     "metadata": {
      "tags": []
     },
     "output_type": "display_data"
    },
    {
     "name": "stdout",
     "output_type": "stream",
     "text": [
      "Evaluation Loss - : 1 --Class --  0.040295759743503946 --Reg --  0.12095310680473907 -- Evaluation Jaccard Score: 0.24629454823988903\n",
      "Training Loss:  500  -- Class -- 0.10064849654032339  -- Class -- 0.0381588252081025\n"
     ]
    },
    {
     "data": {
      "application/vnd.jupyter.widget-view+json": {
       "model_id": "9ac4cb19aade4ef29465e3cc8e994187",
       "version_major": 2,
       "version_minor": 0
      },
      "text/plain": [
       "HBox(children=(FloatProgress(value=0.0, max=79.0), HTML(value='')))"
      ]
     },
     "metadata": {
      "tags": []
     },
     "output_type": "display_data"
    },
    {
     "name": "stdout",
     "output_type": "stream",
     "text": [
      "Evaluation Loss - : 2 --Class --  0.034902003531851154 --Reg --  0.08135091503964195 -- Evaluation Jaccard Score: 0.28840680401536484\n",
      "Training Loss:  1000  -- Class -- 0.08554414996216374  -- Class -- 0.0339479107830313\n",
      "Training Loss:  1407  -- Class -- 0.08580065810127553  -- Class -- 0.03265784603001466\n"
     ]
    },
    {
     "data": {
      "application/vnd.jupyter.widget-view+json": {
       "model_id": "046b46d151fd4548bcbbcdf4124ad239",
       "version_major": 2,
       "version_minor": 0
      },
      "text/plain": [
       "HBox(children=(FloatProgress(value=0.0, max=79.0), HTML(value='')))"
      ]
     },
     "metadata": {
      "tags": []
     },
     "output_type": "display_data"
    },
    {
     "name": "stdout",
     "output_type": "stream",
     "text": [
      "Evaluation Loss - : 3 --Class --  0.02693665253375716 --Reg --  0.06101879378474211 -- Evaluation Jaccard Score: 0.3115327395970308\n",
      "[0.12505522879487924, 0.09930214188945319, 0.08580065810127553] [0.04262956441529016, 0.036097104746554455, 0.03265784603001466] [0.040295759743503946, 0.034902003531851154, 0.02693665253375716] [0.12095310680473907, 0.08135091503964195, 0.06101879378474211] [0.24629454823988903, 0.28840680401536484, 0.3115327395970308]\n"
     ]
    }
   ],
   "source": [
    "## second run \n",
    "EPOCHS = 3\n",
    "max_train_steps_epoch = None\n",
    "max_eval_steps_epoch = None\n",
    "\n",
    "model = Q3_model()\n",
    "\n",
    "## load saved models \n",
    "checkpoint = torch.load(\"./saved_models/q3_1000.pt\")\n",
    "model.load_state_dict(checkpoint['model_state_dict'])\n",
    "\n",
    "device = torch.device(\"cuda:0\" if torch.cuda.is_available() else \"cpu\")\n",
    "\n",
    "optimizer = optim.SGD(model.parameters(), lr=0.001, momentum=0.9)\n",
    "\n",
    "loss_class = nn.CrossEntropyLoss()\n",
    "\n",
    "loss_reg = nn.L1Loss()\n",
    "\n",
    "train_losses_class, train_losses_reg, eval_losses_class, eval_losses_reg, evaluation_metric = train_func_3(model, [loss_class, loss_reg], \n",
    "                                                                                                         train_data_loader_B, val_data_loader_B, \n",
    "                                                                                                         device, EPOCHS, optimizer, max_train_steps_epoch, \n",
    "                                                                                                         max_eval_steps_epoch, model_dir=\"./saved_models/q3_2nd_run\")\n",
    "\n",
    "print(train_losses_class, train_losses_reg, eval_losses_class, eval_losses_reg, evaluation_metric)"
   ]
  },
  {
   "cell_type": "code",
   "execution_count": null,
   "metadata": {
    "colab": {
     "base_uri": "https://localhost:8080/",
     "height": 288,
     "referenced_widgets": [
      "d6795dc52fd644e9be2c39295661fc5c",
      "bce9c8f86044451ab6416fc85b4208fd",
      "37d68fa091b94343ae874e689b418b72",
      "7a7ccba5b98e4c79a2a833f8c000e2bc",
      "6b4ee83ccf7d488dbb20215f855a8506",
      "e9bd4066cfa140e786265340f84dc0f4",
      "6ea24827ae4d494f826bb7215f24aa6e",
      "9e5c04a9552840efa662ae05f59a4e7c",
      "e2051d3215de49769175ffdfd05c5544",
      "326a2537840e439aa42b39889fef5e7b",
      "b61bbd56936048fc814d0442ff2e379b",
      "588c15383a96494ebeb670b23e8483fc",
      "e29ab827aead4b008dc5a4019497902f",
      "78f022406daa40b48b134fd0f40d8376",
      "f46e9d44e5414282b75b8280c7bae859",
      "f8a7f2a4b642488e9bac5bafbc7e041d",
      "b90696b79c5c486cbba02bc10f2711fc",
      "530a49c1bea342009ddbd1d88a99066c",
      "dbd1e395403b4d0e860ae2cfd8180fed",
      "e3e0a81202aa40ba98e1ce9d50bea6d4",
      "f0413841588d4971961c1cd41ceb77fd",
      "bcbaa3f7cf0340ad9d8feeec571db2c2",
      "7692615ad4a746fa841fea0f8db99134",
      "bd148c2032674863839f29114666dde7",
      "60a32092846d483eac8438b8b099bda1",
      "6ae3f5bffcfe44e484cd4564bb4b69ef",
      "2e2bf399e3fb4a84924a46842a3b0eaf",
      "b960361f964646dd9450daf9df23065c",
      "9030274ac7204c9b977addf58378392d",
      "1040685cdfc743bdbf8a4376b48603f1",
      "6b6f8bd88bb7447baa3db9503dae6187",
      "577be1806ba4443db0ab7d455c889677"
     ]
    },
    "id": "0tacYUIOYi__",
    "outputId": "d5589932-5ff7-41fb-ae83-ce7df4c04e1e"
   },
   "outputs": [
    {
     "data": {
      "application/vnd.jupyter.widget-view+json": {
       "model_id": "d6795dc52fd644e9be2c39295661fc5c",
       "version_major": 2,
       "version_minor": 0
      },
      "text/plain": [
       "HBox(children=(FloatProgress(value=0.0, max=1407.0), HTML(value='')))"
      ]
     },
     "metadata": {
      "tags": []
     },
     "output_type": "display_data"
    },
    {
     "data": {
      "application/vnd.jupyter.widget-view+json": {
       "model_id": "e2051d3215de49769175ffdfd05c5544",
       "version_major": 2,
       "version_minor": 0
      },
      "text/plain": [
       "HBox(children=(FloatProgress(value=0.0, max=79.0), HTML(value='')))"
      ]
     },
     "metadata": {
      "tags": []
     },
     "output_type": "display_data"
    },
    {
     "name": "stdout",
     "output_type": "stream",
     "text": [
      "Evaluation Loss - : 1 --Class --  0.023485587665934966 --Reg --  0.04409509208760684 -- Evaluation Jaccard Score: 0.33100705508944356\n",
      "Training Loss:  500  -- Class -- 0.08352595976283474  -- Class -- 0.031129554334667422\n"
     ]
    },
    {
     "data": {
      "application/vnd.jupyter.widget-view+json": {
       "model_id": "b90696b79c5c486cbba02bc10f2711fc",
       "version_major": 2,
       "version_minor": 0
      },
      "text/plain": [
       "HBox(children=(FloatProgress(value=0.0, max=79.0), HTML(value='')))"
      ]
     },
     "metadata": {
      "tags": []
     },
     "output_type": "display_data"
    },
    {
     "name": "stdout",
     "output_type": "stream",
     "text": [
      "Evaluation Loss - : 2 --Class --  0.023147276546319807 --Reg --  0.04246018643054781 -- Evaluation Jaccard Score: 0.33095624627946296\n",
      "Training Loss:  1000  -- Class -- 0.05983968328444227  -- Class -- 0.030256877743428754\n",
      "Training Loss:  1407  -- Class -- 0.06634972103114829  -- Class -- 0.029950519817184284\n"
     ]
    },
    {
     "data": {
      "application/vnd.jupyter.widget-view+json": {
       "model_id": "60a32092846d483eac8438b8b099bda1",
       "version_major": 2,
       "version_minor": 0
      },
      "text/plain": [
       "HBox(children=(FloatProgress(value=0.0, max=79.0), HTML(value='')))"
      ]
     },
     "metadata": {
      "tags": []
     },
     "output_type": "display_data"
    },
    {
     "name": "stdout",
     "output_type": "stream",
     "text": [
      "Evaluation Loss - : 3 --Class --  0.026495761522445593 --Reg --  0.03929165580981894 -- Evaluation Jaccard Score: 0.32999350036246866\n",
      "[0.07867230127837613, 0.07149004029519142, 0.06634972103114829] [0.031027264535617726, 0.030199930333951387, 0.029950519817184284] [0.023485587665934966, 0.023147276546319807, 0.026495761522445593] [0.04409509208760684, 0.04246018643054781, 0.03929165580981894] [0.33100705508944356, 0.33095624627946296, 0.32999350036246866]\n"
     ]
    }
   ],
   "source": [
    "## third run \n",
    "EPOCHS = 3\n",
    "max_train_steps_epoch = None\n",
    "max_eval_steps_epoch = None\n",
    "\n",
    "model = Q3_model()\n",
    "\n",
    "checkpoint = torch.load(\"./saved_models/q3_2nd_run_1407.pt\")\n",
    "model.load_state_dict(checkpoint['model_state_dict'])\n",
    "\n",
    "device = torch.device(\"cuda:0\" if torch.cuda.is_available() else \"cpu\")\n",
    "\n",
    "optimizer = optim.SGD(model.parameters(), lr=0.001, momentum=0.9)\n",
    "\n",
    "loss_class = nn.CrossEntropyLoss()\n",
    "\n",
    "loss_reg = nn.L1Loss()\n",
    "\n",
    "train_losses_class, train_losses_reg, eval_losses_class, eval_losses_reg, evaluation_metric = train_func_3(model, [loss_class, loss_reg], \n",
    "                                                                                                         train_data_loader_B, val_data_loader_B, \n",
    "                                                                                                         device, EPOCHS, optimizer, max_train_steps_epoch, \n",
    "                                                                                                         max_eval_steps_epoch, model_dir=\"./saved_models/q3_3rd_run\")\n",
    "\n",
    "print(train_losses_class, train_losses_reg, eval_losses_class, eval_losses_reg, evaluation_metric)"
   ]
  },
  {
   "cell_type": "markdown",
   "metadata": {
    "id": "fLGgEC_giQyu"
   },
   "source": [
    "### Find output (loading model)"
   ]
  },
  {
   "cell_type": "code",
   "execution_count": null,
   "metadata": {
    "id": "3SA2fAMQvhkq"
   },
   "outputs": [],
   "source": [
    "model = Q3_model()\n",
    "\n",
    "device = torch.device(\"cuda:0\" if torch.cuda.is_available() else \"cpu\")\n",
    "\n",
    "checkpoint = torch.load(\"./saved_models/q3_3rd_run_500.pt\")\n",
    "model.load_state_dict(checkpoint['model_state_dict'])\n",
    "\n",
    "model = model.to(device)"
   ]
  },
  {
   "cell_type": "markdown",
   "metadata": {
    "id": "i4JyjYMZice9"
   },
   "source": [
    "#### find jaccard score wrt groundtruth and predicted circles"
   ]
  },
  {
   "cell_type": "code",
   "execution_count": null,
   "metadata": {
    "colab": {
     "base_uri": "https://localhost:8080/",
     "height": 66,
     "referenced_widgets": [
      "799bbd8e4b614e9ab7577cb02602c203",
      "6e2435b47ab548568834f93af5d5e8aa",
      "05a330675e3e4efeaecfc838ae7a86bb",
      "c1a21695ca05437080621349c2c8b512",
      "74bbc7245ca14b418bcb0530b2beb8fe",
      "168033e20e5646979f7e2b02990619be",
      "a0a83b3535a64733a952cc9200f4e757",
      "4e6386ae1dba47e190fe4b79c025e9b4"
     ]
    },
    "id": "WHoHT8sWzuZq",
    "outputId": "1d29430e-7774-40bb-9c6c-eb4e9cc20275"
   },
   "outputs": [
    {
     "data": {
      "application/vnd.jupyter.widget-view+json": {
       "model_id": "799bbd8e4b614e9ab7577cb02602c203",
       "version_major": 2,
       "version_minor": 0
      },
      "text/plain": [
       "HBox(children=(FloatProgress(value=0.0, max=625.0), HTML(value='')))"
      ]
     },
     "metadata": {
      "tags": []
     },
     "output_type": "display_data"
    },
    {
     "name": "stdout",
     "output_type": "stream",
     "text": [
      "Evaluation Loss - : --Class --  0.041841089320275936 --Reg --  0.029868647027015686 -- Evaluation Jaccard Score: 0.8338091256141663\n"
     ]
    }
   ],
   "source": [
    "## set up evaluation process for 1 epoch \n",
    "max_eval_steps_epoch = len(val_data_loader_B)\n",
    "progress_bar_eval = tqdm(range(max_eval_steps_epoch))\n",
    "completed_steps_epoch_eval = 0\n",
    "progress_bar_eval.set_description(f\"Calculating Jaccard score on evaluation dataset \", refresh=True)\n",
    "\n",
    "## define the two loss function \n",
    "criterion_class = nn.CrossEntropyLoss()\n",
    "criterion_reg = nn.L1Loss()\n",
    "\n",
    "epoch_loss_eval_class = 0\n",
    "epoch_loss_eval_reg = 0\n",
    "metric = 0\n",
    "\n",
    "model.eval()\n",
    "\n",
    "## loop over the batchs \n",
    "for step, batch in enumerate(val_data_loader_B):\n",
    "\n",
    "    ## put each component onto the device \n",
    "    img, bounding_cicle, label = tuple(t.to(device) for t in batch[:3])\n",
    "\n",
    "    with torch.no_grad():\n",
    "        logits_class, out_reg = model(img)\n",
    "\n",
    "    ## calculate loss\n",
    "    loss_class = criterion_class(logits_class, label)\n",
    "    loss_reg = criterion_reg(out_reg, bounding_cicle)\n",
    "\n",
    "    loss = loss_class + loss_reg\n",
    "\n",
    "    epoch_loss_eval_class += loss_class.item()\n",
    "    epoch_loss_eval_reg += loss_reg.item()\n",
    "\n",
    "    completed_steps_epoch_eval += 1\n",
    "\n",
    "    ## convert logits into labels \n",
    "    preds = torch.argmax(logits_class, dim=1).cpu().numpy()\n",
    "\n",
    "    ## Calculate the jaccard score  for the two circle masks \n",
    "    metric += eval_metric(preds, label.cpu().numpy(), out_reg.cpu().numpy(), batch[-1]) \n",
    "\n",
    "    progress_bar_eval.set_postfix(batch_loss=loss.item())\n",
    "    progress_bar_eval.update(1)\n",
    "\n",
    "\n",
    "epoch_loss_eval_class = epoch_loss_eval_class/max_eval_steps_epoch\n",
    "epoch_loss_eval_reg = epoch_loss_eval_reg/max_eval_steps_epoch\n",
    "metric = metric/max_eval_steps_epoch\n",
    "\n",
    "print(\"Evaluation Loss - : --Class -- \", epoch_loss_eval_class, \"--Reg -- \", epoch_loss_eval_reg, \"-- Evaluation Jaccard Score:\", metric)"
   ]
  },
  {
   "cell_type": "markdown",
   "metadata": {
    "id": "nxgYmIkejXxP"
   },
   "source": [
    "#### look at predicted enclosing circles"
   ]
  },
  {
   "cell_type": "code",
   "execution_count": null,
   "metadata": {
    "id": "e9sXtqB2uNIf"
   },
   "outputs": [],
   "source": [
    "## take one batch\n",
    "a, b, c, d = next(iter(train_data_loader_B))\n",
    "a = a.to(device)\n",
    "\n",
    "## find predictions\n",
    "out = model(a)"
   ]
  },
  {
   "cell_type": "code",
   "execution_count": null,
   "metadata": {
    "id": "32DuAIr5urcj"
   },
   "outputs": [],
   "source": [
    "## separate class logits and regression outputs\n",
    "logits_class, out_reg = out\n",
    "\n",
    "## convert logits to labels \n",
    "preds = torch.argmax(logits_class, dim=1).flatten().cpu().numpy()\n",
    "a = a.cpu().numpy()"
   ]
  },
  {
   "cell_type": "code",
   "execution_count": null,
   "metadata": {
    "colab": {
     "base_uri": "https://localhost:8080/",
     "height": 1000
    },
    "id": "esyr7eeduoHh",
    "outputId": "53320bed-232b-420b-fdcc-85181737a315"
   },
   "outputs": [
    {
     "name": "stdout",
     "output_type": "stream",
     "text": [
      "Predicted class: 1| Actual class: 1\n",
      "Predicted center (112, 111) | groundtruth center (111, 116) \n",
      " Predicted radius 85 | groundtruth radius 81 \n",
      "\n"
     ]
    },
    {
     "data": {
      "image/png": "[encoded data removed]",
      "text/plain": [
       "<Figure size 432x288 with 1 Axes>"
      ]
     },
     "metadata": {
      "needs_background": "light",
      "tags": []
     },
     "output_type": "display_data"
    },
    {
     "name": "stdout",
     "output_type": "stream",
     "text": [
      "#######################################################3\n",
      "Predicted class: 7| Actual class: 7\n",
      "Predicted center (114, 138) | groundtruth center (94, 141) \n",
      " Predicted radius 88 | groundtruth radius 95 \n",
      "\n"
     ]
    },
    {
     "data": {
      "image/png": "[encoded data removed]",
      "text/plain": [
       "<Figure size 432x288 with 1 Axes>"
      ]
     },
     "metadata": {
      "needs_background": "light",
      "tags": []
     },
     "output_type": "display_data"
    },
    {
     "name": "stdout",
     "output_type": "stream",
     "text": [
      "#######################################################3\n",
      "Predicted class: 9| Actual class: 9\n",
      "Predicted center (126, 133) | groundtruth center (103, 127) \n",
      " Predicted radius 84 | groundtruth radius 83 \n",
      "\n"
     ]
    },
    {
     "data": {
      "image/png": "[encoded data removed]",
      "text/plain": [
       "<Figure size 432x288 with 1 Axes>"
      ]
     },
     "metadata": {
      "needs_background": "light",
      "tags": []
     },
     "output_type": "display_data"
    },
    {
     "name": "stdout",
     "output_type": "stream",
     "text": [
      "#######################################################3\n",
      "Predicted class: 5| Actual class: 5\n",
      "Predicted center (118, 107) | groundtruth center (110, 99) \n",
      " Predicted radius 88 | groundtruth radius 86 \n",
      "\n"
     ]
    },
    {
     "data": {
      "image/png": "[encoded data removed]",
      "text/plain": [
       "<Figure size 432x288 with 1 Axes>"
      ]
     },
     "metadata": {
      "needs_background": "light",
      "tags": []
     },
     "output_type": "display_data"
    },
    {
     "name": "stdout",
     "output_type": "stream",
     "text": [
      "#######################################################3\n",
      "Predicted class: 8| Actual class: 8\n",
      "Predicted center (121, 121) | groundtruth center (129, 123) \n",
      " Predicted radius 89 | groundtruth radius 89 \n",
      "\n"
     ]
    },
    {
     "data": {
      "image/png": "[encoded data removed]",
      "text/plain": [
       "<Figure size 432x288 with 1 Axes>"
      ]
     },
     "metadata": {
      "needs_background": "light",
      "tags": []
     },
     "output_type": "display_data"
    },
    {
     "name": "stdout",
     "output_type": "stream",
     "text": [
      "#######################################################3\n",
      "Predicted class: 7| Actual class: 7\n",
      "Predicted center (116, 120) | groundtruth center (113, 123) \n",
      " Predicted radius 86 | groundtruth radius 74 \n",
      "\n"
     ]
    },
    {
     "data": {
      "image/png": "[encoded data removed]",
      "text/plain": [
       "<Figure size 432x288 with 1 Axes>"
      ]
     },
     "metadata": {
      "needs_background": "light",
      "tags": []
     },
     "output_type": "display_data"
    },
    {
     "name": "stdout",
     "output_type": "stream",
     "text": [
      "#######################################################3\n"
     ]
    }
   ],
   "source": [
    "preds, labels, out_reg, circle_map = preds, c, out_reg, d\n",
    "\n",
    "## print 6 examples\n",
    "for idx in range(6):\n",
    "    h, w = circle_map.shape[-2:]\n",
    "\n",
    "    ## create an empty mask \n",
    "    mask = np.zeros((circle_map.shape[-2:]))\n",
    "\n",
    "    ## calculate predicted center and radius values \n",
    "    center = (int(out_reg[idx, 0] * h), int(out_reg[idx, 1] * w))\n",
    "    radius = int(out_reg[idx, 2] * ((h**2 + w**2)**0.5)/2)\n",
    "\n",
    "    ## groundtruth values \n",
    "    gt_center = (int(b[idx, 0] * h), int(b[idx, 1] * w))\n",
    "    gt_radius = int(b[idx, 2] * ((h**2 + w**2)**0.5)/2)\n",
    "    \n",
    "    print(f'Predicted class: {preds[idx]}| Actual class: {labels[idx]}')\n",
    "    predicted_circle = cv.circle(mask,center,radius,(255,255), 1)\n",
    "\n",
    "    print(f'Predicted center {center} | groundtruth center {gt_center} \\n Predicted radius {radius} | groundtruth radius {gt_radius} \\n')\n",
    "    final_image = predicted_circle + (a[idx][0]*255)\n",
    "    final_image = final_image > 120\n",
    "    plt.imshow(final_image)\n",
    "    plt.show()\n",
    "    print('#######################################################3')"
   ]
  },
  {
   "cell_type": "markdown",
   "metadata": {
    "id": "-vnsTNVpeZFH"
   },
   "source": [
    "# Q4"
   ]
  },
  {
   "cell_type": "code",
   "execution_count": null,
   "metadata": {
    "colab": {
     "base_uri": "https://localhost:8080/",
     "height": 258,
     "referenced_widgets": [
      "a4127d435cfa43268be20ce798bfb173",
      "f14fa3f07b504248960b856441a0785e",
      "df2a2274418545f9aab60994b6dba4ee",
      "52c8ba30c5e5410f9204f39e22511367",
      "47de95b449ca44d8bbdcd1449abd92a3",
      "6ed85a0af3f9446d950db770242db889",
      "fa7ac9b6bb024021aef0aeab54e80bf6",
      "8c7c38619b5d4b99a223c9d6c1cd905f",
      "f1cc7c9b9ddd43f5a5c68657eff29157",
      "70253911e83a42f58a907b698bc99f4c",
      "64498b33aaf74081bcce4fde00388e3b",
      "9a701a7d1ea644d4a9fbf223d9bdf588",
      "14b2c0980d0e4d129db744500b8609bc",
      "1e9e26bc43f446b4b0a5c2829e749fae",
      "8d442cfd9ecc4fc68c9cd79aa155608d",
      "e07ad1b4f66246cba75dbdea0f5af57d",
      "8ec9d7060a314256a0137f9c1b156aae",
      "d4fc611f4c0c4225b39b55ed195f65e1",
      "1697456b500147378919b1bf4f29b1c7",
      "ee70b05a1b7c4b478fddde57213353cf",
      "667164d7ffe74a75b1ccc38e59e25df6",
      "24a3f24aae27471faa98e67c09651622",
      "8addd4238f0d409baa6daa5eb4142a72",
      "329dfec31cbb49799f23754204977f1c"
     ]
    },
    "id": "cJth8cWheYmg",
    "outputId": "4da15976-ee48-475b-9ddb-2aa76c693ada"
   },
   "outputs": [
    {
     "data": {
      "application/vnd.jupyter.widget-view+json": {
       "model_id": "a4127d435cfa43268be20ce798bfb173",
       "version_major": 2,
       "version_minor": 0
      },
      "text/plain": [
       "HBox(children=(FloatProgress(value=0.0, max=5625.0), HTML(value='')))"
      ]
     },
     "metadata": {
      "tags": []
     },
     "output_type": "display_data"
    },
    {
     "name": "stdout",
     "output_type": "stream",
     "text": [
      "Training Loss:  500  -- 0.2050859679579735\n",
      "Training Loss:  1000  -- 0.13345808175578713\n",
      "Training Loss:  1500  -- 0.10346150029326479\n"
     ]
    },
    {
     "data": {
      "application/vnd.jupyter.widget-view+json": {
       "model_id": "f1cc7c9b9ddd43f5a5c68657eff29157",
       "version_major": 2,
       "version_minor": 0
      },
      "text/plain": [
       "HBox(children=(FloatProgress(value=0.0, max=1875.0), HTML(value='')))"
      ]
     },
     "metadata": {
      "tags": []
     },
     "output_type": "display_data"
    },
    {
     "name": "stdout",
     "output_type": "stream",
     "text": [
      "Evaluation Loss: 1 -- 0.030049562719464303 -- Evaluation Jaccard Score: 0.9796881197700361\n",
      "Training Loss:  2000  -- 0.03419701769948005\n",
      "Training Loss:  2500  -- 0.031247120663523673\n",
      "Training Loss:  3000  -- 0.029224600449204444\n",
      "Training Loss:  3500  -- 0.027672353363380982\n"
     ]
    },
    {
     "data": {
      "application/vnd.jupyter.widget-view+json": {
       "model_id": "8ec9d7060a314256a0137f9c1b156aae",
       "version_major": 2,
       "version_minor": 0
      },
      "text/plain": [
       "HBox(children=(FloatProgress(value=0.0, max=1875.0), HTML(value='')))"
      ]
     },
     "metadata": {
      "tags": []
     },
     "output_type": "display_data"
    },
    {
     "name": "stdout",
     "output_type": "stream",
     "text": [
      "Evaluation Loss: 2 -- 0.019065229164560635 -- Evaluation Jaccard Score: 0.9868786288132684\n"
     ]
    }
   ],
   "source": [
    "## Run for 3 epochs (got disconnected in between)\n",
    "EPOCHS = 3\n",
    "max_train_steps_epoch = None\n",
    "max_eval_steps_epoch = None\n",
    "\n",
    "## Intiallize pre-defined model \n",
    "fcn = models.segmentation.fcn_resnet50(pretrained=False, num_classes=11)\n",
    "\n",
    "## convert the first layer to 1 dimension (change as pre-defined for 3 dims on image-net)\n",
    "setattr(list(fcn.named_children())[0][1], 'conv1', nn.Conv2d(1, 64, kernel_size=(7, 7), stride=(2, 2), padding=(3, 3), bias=False))\n",
    "\n",
    "## Set the device \n",
    "device = torch.device(\"cuda:0\" if torch.cuda.is_available() else \"cpu\")\n",
    "\n",
    "optimizer = optim.SGD(fcn.parameters(), lr=0.001, momentum=0.9)\n",
    "\n",
    "## Loss function \n",
    "loss_fn = nn.CrossEntropyLoss()\n",
    "\n",
    "## training loop\n",
    "train_loss, val_loss, val_js = train_func_4(fcn, loss_fn, train_data_loader_C, \n",
    "                                          val_data_loader_C, device, EPOCHS, optimizer, \n",
    "                                          max_train_steps_epoch, max_eval_steps_epoch, \n",
    "                                          model_dir=\"./saved_models/q4_new\")\n",
    "\n",
    "plt.plot(train_loss, label='Train Loss')\n",
    "plt.plot(val_loss, label='Validation Loss')\n",
    "plt.legend()\n",
    "plt.show()\n",
    "\n",
    "plt.plot(val_js, label='Validation jaccard_score')\n",
    "plt.legend()\n",
    "plt.plot()\n",
    "\n",
    "print(train_loss, val_loss, val_js)"
   ]
  },
  {
   "cell_type": "code",
   "execution_count": null,
   "metadata": {
    "colab": {
     "base_uri": "https://localhost:8080/",
     "height": 985,
     "referenced_widgets": [
      "754fe7b3368b473abd94a413c38325f9",
      "7abe4f100e60444d815d00391dd7a5e2",
      "1c57fbe8f404497aa78af0bdbee8b917",
      "21d54c557a1b4af18489703e490f03e2",
      "9e830c1666dd4e5aa4156c7a1850286c",
      "1e446483005846ac9f907cf4b92203b6",
      "d7e0fc27eda54a8faf1fce5b37026b98",
      "830d426b53f64f92b975b764519ad445",
      "13ae60431a044b438588c1c2fcede240",
      "47a0463572e94e5081b0b6069aceea74",
      "93a89c6482b14a648b58c6a110beeacb",
      "0e766f70f55544bdb159ebb614b70032",
      "9a5ca67b0986413783f52cefa90844bb",
      "37e7ddf03cc44c12936dabe793af5c32",
      "ac46a4187e2f425aba048ffa4db5dd7c",
      "508a04242715402eb1b8a7506a6c7d2b",
      "5a8a586c1af04aad8a5044e38e9279ee",
      "6f29e512d32c4434865f5f7270f07e5d",
      "d6f39a391af643a49516331d57196654",
      "9ac82172627a4da89ed08570ca16b10e",
      "de47277f7185455d9550f6b828734b0d",
      "e79b175d5d7140ba821b1999577ad39d",
      "6f7a67aa9353465caf5117dda38bbfac",
      "96ba8ac617854bc38e0a6d45218e137d",
      "8f2d6da5366048e496f82cfd18dbbf0e",
      "d8b8b344a8034af9a06cceaa0c8c62ee",
      "9433d37116404c68bc65ac504231efa6",
      "5881142d9250441b9122b6c98ff562c5",
      "1ca1b1878898416b9808b830318bd68a",
      "caee8a05e6d44ef5b32b917cc3dc5fee",
      "d5a2ba21fd834f56898c54a2f1f57f9b",
      "62bb073ea1124cec87dd84a732a9abf0",
      "837399eb02c64712a8e83924525cc43f",
      "8fe1f897c1264b95b8c2563aa13d4d0f",
      "c6aa4249f96b47d5bca1333743601cb6",
      "82d96e3cb41f47218df1c43f31ca78fa",
      "f521acac2bce48c49e36e638e3045582",
      "0ba4da57922b4a308b44bc52d0a785ac",
      "fbf07586209e48a984ae154e393dcd8a",
      "6eb859a87f6e4ae8bd98b817b2e765c7"
     ]
    },
    "id": "OyZ4xCSNCuf4",
    "outputId": "1d978d7a-0394-4d71-a881-6027d14104cb"
   },
   "outputs": [
    {
     "name": "stderr",
     "output_type": "stream",
     "text": [
      "Downloading: \"https://download.pytorch.org/models/resnet50-19c8e357.pth\" to /root/.cache/torch/hub/checkpoints/resnet50-19c8e357.pth\n"
     ]
    },
    {
     "data": {
      "application/vnd.jupyter.widget-view+json": {
       "model_id": "754fe7b3368b473abd94a413c38325f9",
       "version_major": 2,
       "version_minor": 0
      },
      "text/plain": [
       "HBox(children=(FloatProgress(value=0.0, max=102502400.0), HTML(value='')))"
      ]
     },
     "metadata": {
      "tags": []
     },
     "output_type": "display_data"
    },
    {
     "name": "stdout",
     "output_type": "stream",
     "text": [
      "\n"
     ]
    },
    {
     "data": {
      "application/vnd.jupyter.widget-view+json": {
       "model_id": "13ae60431a044b438588c1c2fcede240",
       "version_major": 2,
       "version_minor": 0
      },
      "text/plain": [
       "HBox(children=(FloatProgress(value=0.0, max=5625.0), HTML(value='')))"
      ]
     },
     "metadata": {
      "tags": []
     },
     "output_type": "display_data"
    },
    {
     "name": "stdout",
     "output_type": "stream",
     "text": [
      "Training Loss:  500  -- 0.021973892757669092\n",
      "Training Loss:  1000  -- 0.021007003918290138\n",
      "Training Loss:  1500  -- 0.02047469298231105\n"
     ]
    },
    {
     "data": {
      "application/vnd.jupyter.widget-view+json": {
       "model_id": "5a8a586c1af04aad8a5044e38e9279ee",
       "version_major": 2,
       "version_minor": 0
      },
      "text/plain": [
       "HBox(children=(FloatProgress(value=0.0, max=1875.0), HTML(value='')))"
      ]
     },
     "metadata": {
      "tags": []
     },
     "output_type": "display_data"
    },
    {
     "name": "stdout",
     "output_type": "stream",
     "text": [
      "Evaluation Loss: 1 -- 0.015466451747715474 -- Evaluation Jaccard Score: 0.9894209009750092\n",
      "Training Loss:  2000  -- 0.01699028593301773\n",
      "Training Loss:  2500  -- 0.01697497900277376\n",
      "Training Loss:  3000  -- 0.016757856653796303\n",
      "Training Loss:  3500  -- 0.016398098414907088\n"
     ]
    },
    {
     "data": {
      "application/vnd.jupyter.widget-view+json": {
       "model_id": "8f2d6da5366048e496f82cfd18dbbf0e",
       "version_major": 2,
       "version_minor": 0
      },
      "text/plain": [
       "HBox(children=(FloatProgress(value=0.0, max=1875.0), HTML(value='')))"
      ]
     },
     "metadata": {
      "tags": []
     },
     "output_type": "display_data"
    },
    {
     "name": "stdout",
     "output_type": "stream",
     "text": [
      "Evaluation Loss: 2 -- 0.012732319739460944 -- Evaluation Jaccard Score: 0.9912603010992661\n",
      "Training Loss:  4000  -- 0.01381272365897894\n",
      "Training Loss:  4500  -- 0.014130112908780575\n",
      "Training Loss:  5000  -- 0.013806869278103113\n",
      "Training Loss:  5500  -- 0.013632913842265094\n",
      "Training Loss:  5625  -- 0.013559894005457561\n"
     ]
    },
    {
     "data": {
      "application/vnd.jupyter.widget-view+json": {
       "model_id": "837399eb02c64712a8e83924525cc43f",
       "version_major": 2,
       "version_minor": 0
      },
      "text/plain": [
       "HBox(children=(FloatProgress(value=0.0, max=1875.0), HTML(value='')))"
      ]
     },
     "metadata": {
      "tags": []
     },
     "output_type": "display_data"
    },
    {
     "name": "stdout",
     "output_type": "stream",
     "text": [
      "Evaluation Loss: 3 -- 0.010922931196292241 -- Evaluation Jaccard Score: 0.9925160827276229\n"
     ]
    },
    {
     "data": {
      "image/png": "[encoded data removed]",
      "text/plain": [
       "<Figure size 432x288 with 1 Axes>"
      ]
     },
     "metadata": {
      "needs_background": "light",
      "tags": []
     },
     "output_type": "display_data"
    },
    {
     "name": "stdout",
     "output_type": "stream",
     "text": [
      "[0.019890019983549913, 0.016228977424899736, 0.013559894005457561] [0.015466451747715474, 0.012732319739460944, 0.010922931196292241] [0.9894209009750092, 0.9912603010992661, 0.9925160827276229]\n"
     ]
    },
    {
     "data": {
      "image/png": "[encoded data removed]",
      "text/plain": [
       "<Figure size 432x288 with 1 Axes>"
      ]
     },
     "metadata": {
      "needs_background": "light",
      "tags": []
     },
     "output_type": "display_data"
    }
   ],
   "source": [
    "## 2nd run loading previous model from check point \n",
    "EPOCHS = 3\n",
    "max_train_steps_epoch = None\n",
    "max_eval_steps_epoch = None\n",
    "\n",
    "## init the model \n",
    "fcn = models.segmentation.fcn_resnet50(pretrained=False, num_classes=11)\n",
    "\n",
    "## convert the first layer to 1 dimension (change as pre-defined for 3 dims on image-net)\n",
    "setattr(list(fcn.named_children())[0][1], 'conv1', nn.Conv2d(1, 64, kernel_size=(7, 7), stride=(2, 2), padding=(3, 3), bias=False))\n",
    "\n",
    "## load the model from checkpoint \n",
    "checkpoint = torch.load(\"./saved_models/q4_new_3500.pt\")\n",
    "fcn.load_state_dict(checkpoint['model_state_dict'])\n",
    "\n",
    "## set the device\n",
    "device = torch.device(\"cuda:0\" if torch.cuda.is_available() else \"cpu\")\n",
    "\n",
    "optimizer = optim.SGD(fcn.parameters(), lr=0.001, momentum=0.9)\n",
    "\n",
    "## loss function \n",
    "loss_fn = nn.CrossEntropyLoss()\n",
    "\n",
    "## training loop\n",
    "train_loss, val_loss, val_js = train_func_4(fcn, loss_fn, train_data_loader_C, \n",
    "                                          val_data_loader_C, device, EPOCHS, optimizer, \n",
    "                                          max_train_steps_epoch, max_eval_steps_epoch, \n",
    "                                          model_dir=\"./saved_models/q4_new_2\")\n",
    "\n",
    "plt.plot(train_loss, label='Train Loss')\n",
    "plt.plot(val_loss, label='Validation Loss')\n",
    "plt.legend()\n",
    "plt.show()\n",
    "\n",
    "plt.plot(val_js, label='Validation jaccard_score')\n",
    "plt.legend()\n",
    "plt.plot()\n",
    "\n",
    "print(train_loss, val_loss, val_js)"
   ]
  },
  {
   "cell_type": "markdown",
   "metadata": {
    "id": "4Y6Fyiwvk9PE"
   },
   "source": [
    "### look at generated outputs"
   ]
  },
  {
   "cell_type": "code",
   "execution_count": null,
   "metadata": {
    "id": "lxDsljAtKc75"
   },
   "outputs": [],
   "source": [
    "## initialize models \n",
    "fcn = models.segmentation.fcn_resnet50(pretrained=False, num_classes=11)\n",
    "\n",
    "## convert the first layer to 1 dimension (change as pre-defined for 3 dims on image-net)\n",
    "setattr(list(fcn.named_children())[0][1], 'conv1', nn.Conv2d(1, 64, kernel_size=(7, 7), stride=(2, 2), padding=(3, 3), bias=False))\n",
    "\n",
    "## load model from checkpoint\n",
    "checkpoint = torch.load(\"./saved_models/q4_new_2_5625.pt\")\n",
    "fcn.load_state_dict(checkpoint['model_state_dict'])\n",
    "\n",
    "device = torch.device(\"cuda:0\" if torch.cuda.is_available() else \"cpu\")"
   ]
  },
  {
   "cell_type": "code",
   "execution_count": null,
   "metadata": {
    "id": "DDm57t2rLNUa"
   },
   "outputs": [],
   "source": [
    "fcn = fcn.to(device)"
   ]
  },
  {
   "cell_type": "code",
   "execution_count": null,
   "metadata": {
    "id": "sFN4K7fFLINK"
   },
   "outputs": [],
   "source": [
    "## take one batch \n",
    "a, b, c = next(iter(train_data_loader_C))\n",
    "a = a.to(device)\n",
    "\n",
    "## calculate logits for them\n",
    "out = fcn(a)['out']"
   ]
  },
  {
   "cell_type": "code",
   "execution_count": null,
   "metadata": {
    "id": "bTkRWoNcLtLl"
   },
   "outputs": [],
   "source": [
    "## convert them into semantic segmentation maps \n",
    "preds = torch.argmax(out, dim=1).cpu().numpy()"
   ]
  },
  {
   "cell_type": "code",
   "execution_count": null,
   "metadata": {
    "colab": {
     "base_uri": "https://localhost:8080/",
     "height": 1000
    },
    "id": "sRx15seuMgKC",
    "outputId": "1b0531e5-7f0f-46e3-9c94-3e0a202aba22"
   },
   "outputs": [
    {
     "name": "stdout",
     "output_type": "stream",
     "text": [
      "Different labels present in the groundtruth segmentation label: [0. 4. 5. 8. 9.]\n",
      "Different labels present in the predicted segmentation label: [0 4 5 8 9]\n"
     ]
    },
    {
     "data": {
      "image/png": "[encoded data removed]",
      "text/plain": [
       "<Figure size 432x288 with 2 Axes>"
      ]
     },
     "metadata": {
      "needs_background": "light",
      "tags": []
     },
     "output_type": "display_data"
    },
    {
     "name": "stdout",
     "output_type": "stream",
     "text": [
      "Different labels present in the groundtruth segmentation label: [0. 4. 7. 8.]\n",
      "Different labels present in the predicted segmentation label: [0 4 7 8]\n"
     ]
    },
    {
     "data": {
      "image/png": "[encoded data removed]",
      "text/plain": [
       "<Figure size 432x288 with 2 Axes>"
      ]
     },
     "metadata": {
      "needs_background": "light",
      "tags": []
     },
     "output_type": "display_data"
    },
    {
     "name": "stdout",
     "output_type": "stream",
     "text": [
      "Different labels present in the groundtruth segmentation label: [ 0.  1.  3.  7. 10.]\n",
      "Different labels present in the predicted segmentation label: [ 0  1  3  7  8 10]\n"
     ]
    },
    {
     "data": {
      "image/png": "[encoded data removed]",
      "text/plain": [
       "<Figure size 432x288 with 2 Axes>"
      ]
     },
     "metadata": {
      "needs_background": "light",
      "tags": []
     },
     "output_type": "display_data"
    },
    {
     "name": "stdout",
     "output_type": "stream",
     "text": [
      "Different labels present in the groundtruth segmentation label: [0. 5. 8. 9.]\n",
      "Different labels present in the predicted segmentation label: [0 5 8 9]\n"
     ]
    },
    {
     "data": {
      "image/png": "[encoded data removed]",
      "text/plain": [
       "<Figure size 432x288 with 2 Axes>"
      ]
     },
     "metadata": {
      "needs_background": "light",
      "tags": []
     },
     "output_type": "display_data"
    },
    {
     "name": "stdout",
     "output_type": "stream",
     "text": [
      "Different labels present in the groundtruth segmentation label: [ 0.  6.  9. 10.]\n",
      "Different labels present in the predicted segmentation label: [ 0  6  9 10]\n"
     ]
    },
    {
     "data": {
      "image/png": "[encoded data removed]",
      "text/plain": [
       "<Figure size 432x288 with 2 Axes>"
      ]
     },
     "metadata": {
      "needs_background": "light",
      "tags": []
     },
     "output_type": "display_data"
    },
    {
     "name": "stdout",
     "output_type": "stream",
     "text": [
      "Different labels present in the groundtruth segmentation label: [ 0.  2.  3. 10.]\n",
      "Different labels present in the predicted segmentation label: [ 0  2  3 10]\n"
     ]
    },
    {
     "data": {
      "image/png": "[encoded data removed]",
      "text/plain": [
       "<Figure size 432x288 with 2 Axes>"
      ]
     },
     "metadata": {
      "needs_background": "light",
      "tags": []
     },
     "output_type": "display_data"
    }
   ],
   "source": [
    "## show 6 examples \n",
    "for i in range(6):\n",
    "    print(f'Different labels present in the groundtruth segmentation label: {np.unique(b[i][0], return_counts=False)}')\n",
    "    print(f'Different labels present in the predicted segmentation label: {np.unique(preds[i], return_counts=False)}')\n",
    "    fig, (ax1, ax2) = plt.subplots(1, 2)\n",
    "    ax1.imshow(b[i][0])\n",
    "    ax2.imshow(preds[i])\n",
    "    plt.show()"
   ]
  }
 ],
 "metadata": {
  "accelerator": "GPU",
  "colab": {
   "collapsed_sections": [
    "cj8UzYce_T0W",
    "QaNKf0VbWE3g",
    "NpRLvCol_fuQ",
    "cE9Msy8I_mtO",
    "GaFHP5wSAQed",
    "T9Q1uDm_HtBw",
    "2v1hcllpEjIM",
    "BsxV7Y0NEmkB",
    "sgZ4CpEsFaLi",
    "pItxRL-GWT3i",
    "Fg7I-kH9FrlR",
    "I2DA-Z6QGgOe",
    "J1IlavUx8SU4",
    "amq0NIAu8y1V",
    "xcVUXDxSJ2Rx",
    "fpt0KeGPKfaA",
    "wZr1Phm4iRaQ",
    "0cz-zg182A4p",
    "vCjfZppJeVjR",
    "Y9yq8gJPgJJZ",
    "0QGlDGX7hHjr",
    "fLGgEC_giQyu",
    "i4JyjYMZice9",
    "nxgYmIkejXxP",
    "-vnsTNVpeZFH",
    "4Y6Fyiwvk9PE"
   ],
   "name": "Copy of 2018159_Assignment-3.ipynb",
   "provenance": [],
   "toc_visible": true
  },
  "kernelspec": {
   "display_name": "Python 3",
   "language": "python",
   "name": "python3"
  },
  "language_info": {
   "codemirror_mode": {
    "name": "ipython",
    "version": 3
   },
   "file_extension": ".py",
   "mimetype": "text/x-python",
   "name": "python",
   "nbconvert_exporter": "python",
   "pygments_lexer": "ipython3",
   "version": "3.6.10"
  },
  "widgets": {
   "application/vnd.jupyter.widget-state+json": {
    "046b46d151fd4548bcbbcdf4124ad239": {
     "model_module": "@jupyter-widgets/controls",
     "model_name": "HBoxModel",
     "state": {
      "_dom_classes": [],
      "_model_module": "@jupyter-widgets/controls",
      "_model_module_version": "1.5.0",
      "_model_name": "HBoxModel",
      "_view_count": null,
      "_view_module": "@jupyter-widgets/controls",
      "_view_module_version": "1.5.0",
      "_view_name": "HBoxView",
      "box_style": "",
      "children": [
       "IPY_MODEL_798f53a1c6ff4cdd9887c446cf91f3ef",
       "IPY_MODEL_2f225cc9eaf542f0a90c212a22d8e83e"
      ],
      "layout": "IPY_MODEL_9f4092a0e5574c08ba7182a812ff409f"
     }
    },
    "05a330675e3e4efeaecfc838ae7a86bb": {
     "model_module": "@jupyter-widgets/controls",
     "model_name": "FloatProgressModel",
     "state": {
      "_dom_classes": [],
      "_model_module": "@jupyter-widgets/controls",
      "_model_module_version": "1.5.0",
      "_model_name": "FloatProgressModel",
      "_view_count": null,
      "_view_module": "@jupyter-widgets/controls",
      "_view_module_version": "1.5.0",
      "_view_name": "ProgressView",
      "bar_style": "",
      "description": "Calculating Jaccard score on evaluation dataset : 100%",
      "description_tooltip": null,
      "layout": "IPY_MODEL_168033e20e5646979f7e2b02990619be",
      "max": 625,
      "min": 0,
      "orientation": "horizontal",
      "style": "IPY_MODEL_74bbc7245ca14b418bcb0530b2beb8fe",
      "value": 625
     }
    },
    "0ba4da57922b4a308b44bc52d0a785ac": {
     "model_module": "@jupyter-widgets/base",
     "model_name": "LayoutModel",
     "state": {
      "_model_module": "@jupyter-widgets/base",
      "_model_module_version": "1.2.0",
      "_model_name": "LayoutModel",
      "_view_count": null,
      "_view_module": "@jupyter-widgets/base",
      "_view_module_version": "1.2.0",
      "_view_name": "LayoutView",
      "align_content": null,
      "align_items": null,
      "align_self": null,
      "border": null,
      "bottom": null,
      "display": null,
      "flex": null,
      "flex_flow": null,
      "grid_area": null,
      "grid_auto_columns": null,
      "grid_auto_flow": null,
      "grid_auto_rows": null,
      "grid_column": null,
      "grid_gap": null,
      "grid_row": null,
      "grid_template_areas": null,
      "grid_template_columns": null,
      "grid_template_rows": null,
      "height": null,
      "justify_content": null,
      "justify_items": null,
      "left": null,
      "margin": null,
      "max_height": null,
      "max_width": null,
      "min_height": null,
      "min_width": null,
      "object_fit": null,
      "object_position": null,
      "order": null,
      "overflow": null,
      "overflow_x": null,
      "overflow_y": null,
      "padding": null,
      "right": null,
      "top": null,
      "visibility": null,
      "width": null
     }
    },
    "0e766f70f55544bdb159ebb614b70032": {
     "model_module": "@jupyter-widgets/controls",
     "model_name": "HTMLModel",
     "state": {
      "_dom_classes": [],
      "_model_module": "@jupyter-widgets/controls",
      "_model_module_version": "1.5.0",
      "_model_name": "HTMLModel",
      "_view_count": null,
      "_view_module": "@jupyter-widgets/controls",
      "_view_module_version": "1.5.0",
      "_view_name": "HTMLView",
      "description": "",
      "description_tooltip": null,
      "layout": "IPY_MODEL_508a04242715402eb1b8a7506a6c7d2b",
      "placeholder": "​",
      "style": "IPY_MODEL_ac46a4187e2f425aba048ffa4db5dd7c",
      "value": " 5625/5625 [4:51:10&lt;00:00,  2.15s/it, batch_loss=0.0106]"
     }
    },
    "1040685cdfc743bdbf8a4376b48603f1": {
     "model_module": "@jupyter-widgets/controls",
     "model_name": "ProgressStyleModel",
     "state": {
      "_model_module": "@jupyter-widgets/controls",
      "_model_module_version": "1.5.0",
      "_model_name": "ProgressStyleModel",
      "_view_count": null,
      "_view_module": "@jupyter-widgets/base",
      "_view_module_version": "1.2.0",
      "_view_name": "StyleView",
      "bar_color": null,
      "description_width": "initial"
     }
    },
    "115585177b8a4b7ebd274c55ad24344b": {
     "model_module": "@jupyter-widgets/base",
     "model_name": "LayoutModel",
     "state": {
      "_model_module": "@jupyter-widgets/base",
      "_model_module_version": "1.2.0",
      "_model_name": "LayoutModel",
      "_view_count": null,
      "_view_module": "@jupyter-widgets/base",
      "_view_module_version": "1.2.0",
      "_view_name": "LayoutView",
      "align_content": null,
      "align_items": null,
      "align_self": null,
      "border": null,
      "bottom": null,
      "display": null,
      "flex": null,
      "flex_flow": null,
      "grid_area": null,
      "grid_auto_columns": null,
      "grid_auto_flow": null,
      "grid_auto_rows": null,
      "grid_column": null,
      "grid_gap": null,
      "grid_row": null,
      "grid_template_areas": null,
      "grid_template_columns": null,
      "grid_template_rows": null,
      "height": null,
      "justify_content": null,
      "justify_items": null,
      "left": null,
      "margin": null,
      "max_height": null,
      "max_width": null,
      "min_height": null,
      "min_width": null,
      "object_fit": null,
      "object_position": null,
      "order": null,
      "overflow": null,
      "overflow_x": null,
      "overflow_y": null,
      "padding": null,
      "right": null,
      "top": null,
      "visibility": null,
      "width": null
     }
    },
    "13ae60431a044b438588c1c2fcede240": {
     "model_module": "@jupyter-widgets/controls",
     "model_name": "HBoxModel",
     "state": {
      "_dom_classes": [],
      "_model_module": "@jupyter-widgets/controls",
      "_model_module_version": "1.5.0",
      "_model_name": "HBoxModel",
      "_view_count": null,
      "_view_module": "@jupyter-widgets/controls",
      "_view_module_version": "1.5.0",
      "_view_name": "HBoxView",
      "box_style": "",
      "children": [
       "IPY_MODEL_93a89c6482b14a648b58c6a110beeacb",
       "IPY_MODEL_0e766f70f55544bdb159ebb614b70032"
      ],
      "layout": "IPY_MODEL_47a0463572e94e5081b0b6069aceea74"
     }
    },
    "14b2c0980d0e4d129db744500b8609bc": {
     "model_module": "@jupyter-widgets/controls",
     "model_name": "ProgressStyleModel",
     "state": {
      "_model_module": "@jupyter-widgets/controls",
      "_model_module_version": "1.5.0",
      "_model_name": "ProgressStyleModel",
      "_view_count": null,
      "_view_module": "@jupyter-widgets/base",
      "_view_module_version": "1.2.0",
      "_view_name": "StyleView",
      "bar_color": null,
      "description_width": "initial"
     }
    },
    "168033e20e5646979f7e2b02990619be": {
     "model_module": "@jupyter-widgets/base",
     "model_name": "LayoutModel",
     "state": {
      "_model_module": "@jupyter-widgets/base",
      "_model_module_version": "1.2.0",
      "_model_name": "LayoutModel",
      "_view_count": null,
      "_view_module": "@jupyter-widgets/base",
      "_view_module_version": "1.2.0",
      "_view_name": "LayoutView",
      "align_content": null,
      "align_items": null,
      "align_self": null,
      "border": null,
      "bottom": null,
      "display": null,
      "flex": null,
      "flex_flow": null,
      "grid_area": null,
      "grid_auto_columns": null,
      "grid_auto_flow": null,
      "grid_auto_rows": null,
      "grid_column": null,
      "grid_gap": null,
      "grid_row": null,
      "grid_template_areas": null,
      "grid_template_columns": null,
      "grid_template_rows": null,
      "height": null,
      "justify_content": null,
      "justify_items": null,
      "left": null,
      "margin": null,
      "max_height": null,
      "max_width": null,
      "min_height": null,
      "min_width": null,
      "object_fit": null,
      "object_position": null,
      "order": null,
      "overflow": null,
      "overflow_x": null,
      "overflow_y": null,
      "padding": null,
      "right": null,
      "top": null,
      "visibility": null,
      "width": null
     }
    },
    "1697456b500147378919b1bf4f29b1c7": {
     "model_module": "@jupyter-widgets/controls",
     "model_name": "FloatProgressModel",
     "state": {
      "_dom_classes": [],
      "_model_module": "@jupyter-widgets/controls",
      "_model_module_version": "1.5.0",
      "_model_name": "FloatProgressModel",
      "_view_count": null,
      "_view_module": "@jupyter-widgets/controls",
      "_view_module_version": "1.5.0",
      "_view_name": "ProgressView",
      "bar_style": "",
      "description": "Evaluation after 1 Epoch: 100%",
      "description_tooltip": null,
      "layout": "IPY_MODEL_24a3f24aae27471faa98e67c09651622",
      "max": 1875,
      "min": 0,
      "orientation": "horizontal",
      "style": "IPY_MODEL_667164d7ffe74a75b1ccc38e59e25df6",
      "value": 1875
     }
    },
    "172f6557562f4bcc97f3fd566f4a9778": {
     "model_module": "@jupyter-widgets/controls",
     "model_name": "FloatProgressModel",
     "state": {
      "_dom_classes": [],
      "_model_module": "@jupyter-widgets/controls",
      "_model_module_version": "1.5.0",
      "_model_name": "FloatProgressModel",
      "_view_count": null,
      "_view_module": "@jupyter-widgets/controls",
      "_view_module_version": "1.5.0",
      "_view_name": "ProgressView",
      "bar_style": "",
      "description": "Evaluation after 0 Epoch: 100%",
      "description_tooltip": null,
      "layout": "IPY_MODEL_668e2477a6b84e73887a4171deef5079",
      "max": 79,
      "min": 0,
      "orientation": "horizontal",
      "style": "IPY_MODEL_86e19a69e82b481cba579522c305861b",
      "value": 79
     }
    },
    "1c57fbe8f404497aa78af0bdbee8b917": {
     "model_module": "@jupyter-widgets/controls",
     "model_name": "FloatProgressModel",
     "state": {
      "_dom_classes": [],
      "_model_module": "@jupyter-widgets/controls",
      "_model_module_version": "1.5.0",
      "_model_name": "FloatProgressModel",
      "_view_count": null,
      "_view_module": "@jupyter-widgets/controls",
      "_view_module_version": "1.5.0",
      "_view_name": "ProgressView",
      "bar_style": "success",
      "description": "100%",
      "description_tooltip": null,
      "layout": "IPY_MODEL_1e446483005846ac9f907cf4b92203b6",
      "max": 102502400,
      "min": 0,
      "orientation": "horizontal",
      "style": "IPY_MODEL_9e830c1666dd4e5aa4156c7a1850286c",
      "value": 102502400
     }
    },
    "1ca1b1878898416b9808b830318bd68a": {
     "model_module": "@jupyter-widgets/controls",
     "model_name": "ProgressStyleModel",
     "state": {
      "_model_module": "@jupyter-widgets/controls",
      "_model_module_version": "1.5.0",
      "_model_name": "ProgressStyleModel",
      "_view_count": null,
      "_view_module": "@jupyter-widgets/base",
      "_view_module_version": "1.2.0",
      "_view_name": "StyleView",
      "bar_color": null,
      "description_width": "initial"
     }
    },
    "1e446483005846ac9f907cf4b92203b6": {
     "model_module": "@jupyter-widgets/base",
     "model_name": "LayoutModel",
     "state": {
      "_model_module": "@jupyter-widgets/base",
      "_model_module_version": "1.2.0",
      "_model_name": "LayoutModel",
      "_view_count": null,
      "_view_module": "@jupyter-widgets/base",
      "_view_module_version": "1.2.0",
      "_view_name": "LayoutView",
      "align_content": null,
      "align_items": null,
      "align_self": null,
      "border": null,
      "bottom": null,
      "display": null,
      "flex": null,
      "flex_flow": null,
      "grid_area": null,
      "grid_auto_columns": null,
      "grid_auto_flow": null,
      "grid_auto_rows": null,
      "grid_column": null,
      "grid_gap": null,
      "grid_row": null,
      "grid_template_areas": null,
      "grid_template_columns": null,
      "grid_template_rows": null,
      "height": null,
      "justify_content": null,
      "justify_items": null,
      "left": null,
      "margin": null,
      "max_height": null,
      "max_width": null,
      "min_height": null,
      "min_width": null,
      "object_fit": null,
      "object_position": null,
      "order": null,
      "overflow": null,
      "overflow_x": null,
      "overflow_y": null,
      "padding": null,
      "right": null,
      "top": null,
      "visibility": null,
      "width": null
     }
    },
    "1e9e26bc43f446b4b0a5c2829e749fae": {
     "model_module": "@jupyter-widgets/base",
     "model_name": "LayoutModel",
     "state": {
      "_model_module": "@jupyter-widgets/base",
      "_model_module_version": "1.2.0",
      "_model_name": "LayoutModel",
      "_view_count": null,
      "_view_module": "@jupyter-widgets/base",
      "_view_module_version": "1.2.0",
      "_view_name": "LayoutView",
      "align_content": null,
      "align_items": null,
      "align_self": null,
      "border": null,
      "bottom": null,
      "display": null,
      "flex": null,
      "flex_flow": null,
      "grid_area": null,
      "grid_auto_columns": null,
      "grid_auto_flow": null,
      "grid_auto_rows": null,
      "grid_column": null,
      "grid_gap": null,
      "grid_row": null,
      "grid_template_areas": null,
      "grid_template_columns": null,
      "grid_template_rows": null,
      "height": null,
      "justify_content": null,
      "justify_items": null,
      "left": null,
      "margin": null,
      "max_height": null,
      "max_width": null,
      "min_height": null,
      "min_width": null,
      "object_fit": null,
      "object_position": null,
      "order": null,
      "overflow": null,
      "overflow_x": null,
      "overflow_y": null,
      "padding": null,
      "right": null,
      "top": null,
      "visibility": null,
      "width": null
     }
    },
    "1f31278c2c3a4214b46425dbb2d9ad08": {
     "model_module": "@jupyter-widgets/controls",
     "model_name": "ProgressStyleModel",
     "state": {
      "_model_module": "@jupyter-widgets/controls",
      "_model_module_version": "1.5.0",
      "_model_name": "ProgressStyleModel",
      "_view_count": null,
      "_view_module": "@jupyter-widgets/base",
      "_view_module_version": "1.2.0",
      "_view_name": "StyleView",
      "bar_color": null,
      "description_width": "initial"
     }
    },
    "1fa54b452a0c444ead8203523f889285": {
     "model_module": "@jupyter-widgets/base",
     "model_name": "LayoutModel",
     "state": {
      "_model_module": "@jupyter-widgets/base",
      "_model_module_version": "1.2.0",
      "_model_name": "LayoutModel",
      "_view_count": null,
      "_view_module": "@jupyter-widgets/base",
      "_view_module_version": "1.2.0",
      "_view_name": "LayoutView",
      "align_content": null,
      "align_items": null,
      "align_self": null,
      "border": null,
      "bottom": null,
      "display": null,
      "flex": null,
      "flex_flow": null,
      "grid_area": null,
      "grid_auto_columns": null,
      "grid_auto_flow": null,
      "grid_auto_rows": null,
      "grid_column": null,
      "grid_gap": null,
      "grid_row": null,
      "grid_template_areas": null,
      "grid_template_columns": null,
      "grid_template_rows": null,
      "height": null,
      "justify_content": null,
      "justify_items": null,
      "left": null,
      "margin": null,
      "max_height": null,
      "max_width": null,
      "min_height": null,
      "min_width": null,
      "object_fit": null,
      "object_position": null,
      "order": null,
      "overflow": null,
      "overflow_x": null,
      "overflow_y": null,
      "padding": null,
      "right": null,
      "top": null,
      "visibility": null,
      "width": null
     }
    },
    "201021980e484491835391b44d9b3b6f": {
     "model_module": "@jupyter-widgets/base",
     "model_name": "LayoutModel",
     "state": {
      "_model_module": "@jupyter-widgets/base",
      "_model_module_version": "1.2.0",
      "_model_name": "LayoutModel",
      "_view_count": null,
      "_view_module": "@jupyter-widgets/base",
      "_view_module_version": "1.2.0",
      "_view_name": "LayoutView",
      "align_content": null,
      "align_items": null,
      "align_self": null,
      "border": null,
      "bottom": null,
      "display": null,
      "flex": null,
      "flex_flow": null,
      "grid_area": null,
      "grid_auto_columns": null,
      "grid_auto_flow": null,
      "grid_auto_rows": null,
      "grid_column": null,
      "grid_gap": null,
      "grid_row": null,
      "grid_template_areas": null,
      "grid_template_columns": null,
      "grid_template_rows": null,
      "height": null,
      "justify_content": null,
      "justify_items": null,
      "left": null,
      "margin": null,
      "max_height": null,
      "max_width": null,
      "min_height": null,
      "min_width": null,
      "object_fit": null,
      "object_position": null,
      "order": null,
      "overflow": null,
      "overflow_x": null,
      "overflow_y": null,
      "padding": null,
      "right": null,
      "top": null,
      "visibility": null,
      "width": null
     }
    },
    "2049e6ca012645d3b4cc4efc422ce326": {
     "model_module": "@jupyter-widgets/controls",
     "model_name": "ProgressStyleModel",
     "state": {
      "_model_module": "@jupyter-widgets/controls",
      "_model_module_version": "1.5.0",
      "_model_name": "ProgressStyleModel",
      "_view_count": null,
      "_view_module": "@jupyter-widgets/base",
      "_view_module_version": "1.2.0",
      "_view_name": "StyleView",
      "bar_color": null,
      "description_width": "initial"
     }
    },
    "21d54c557a1b4af18489703e490f03e2": {
     "model_module": "@jupyter-widgets/controls",
     "model_name": "HTMLModel",
     "state": {
      "_dom_classes": [],
      "_model_module": "@jupyter-widgets/controls",
      "_model_module_version": "1.5.0",
      "_model_name": "HTMLModel",
      "_view_count": null,
      "_view_module": "@jupyter-widgets/controls",
      "_view_module_version": "1.5.0",
      "_view_name": "HTMLView",
      "description": "",
      "description_tooltip": null,
      "layout": "IPY_MODEL_830d426b53f64f92b975b764519ad445",
      "placeholder": "​",
      "style": "IPY_MODEL_d7e0fc27eda54a8faf1fce5b37026b98",
      "value": " 97.8M/97.8M [00:15&lt;00:00, 6.43MB/s]"
     }
    },
    "228f402e00164e60aa2c8fafaebd8b8b": {
     "model_module": "@jupyter-widgets/base",
     "model_name": "LayoutModel",
     "state": {
      "_model_module": "@jupyter-widgets/base",
      "_model_module_version": "1.2.0",
      "_model_name": "LayoutModel",
      "_view_count": null,
      "_view_module": "@jupyter-widgets/base",
      "_view_module_version": "1.2.0",
      "_view_name": "LayoutView",
      "align_content": null,
      "align_items": null,
      "align_self": null,
      "border": null,
      "bottom": null,
      "display": null,
      "flex": null,
      "flex_flow": null,
      "grid_area": null,
      "grid_auto_columns": null,
      "grid_auto_flow": null,
      "grid_auto_rows": null,
      "grid_column": null,
      "grid_gap": null,
      "grid_row": null,
      "grid_template_areas": null,
      "grid_template_columns": null,
      "grid_template_rows": null,
      "height": null,
      "justify_content": null,
      "justify_items": null,
      "left": null,
      "margin": null,
      "max_height": null,
      "max_width": null,
      "min_height": null,
      "min_width": null,
      "object_fit": null,
      "object_position": null,
      "order": null,
      "overflow": null,
      "overflow_x": null,
      "overflow_y": null,
      "padding": null,
      "right": null,
      "top": null,
      "visibility": null,
      "width": null
     }
    },
    "24a3f24aae27471faa98e67c09651622": {
     "model_module": "@jupyter-widgets/base",
     "model_name": "LayoutModel",
     "state": {
      "_model_module": "@jupyter-widgets/base",
      "_model_module_version": "1.2.0",
      "_model_name": "LayoutModel",
      "_view_count": null,
      "_view_module": "@jupyter-widgets/base",
      "_view_module_version": "1.2.0",
      "_view_name": "LayoutView",
      "align_content": null,
      "align_items": null,
      "align_self": null,
      "border": null,
      "bottom": null,
      "display": null,
      "flex": null,
      "flex_flow": null,
      "grid_area": null,
      "grid_auto_columns": null,
      "grid_auto_flow": null,
      "grid_auto_rows": null,
      "grid_column": null,
      "grid_gap": null,
      "grid_row": null,
      "grid_template_areas": null,
      "grid_template_columns": null,
      "grid_template_rows": null,
      "height": null,
      "justify_content": null,
      "justify_items": null,
      "left": null,
      "margin": null,
      "max_height": null,
      "max_width": null,
      "min_height": null,
      "min_width": null,
      "object_fit": null,
      "object_position": null,
      "order": null,
      "overflow": null,
      "overflow_x": null,
      "overflow_y": null,
      "padding": null,
      "right": null,
      "top": null,
      "visibility": null,
      "width": null
     }
    },
    "263c241c3d404e41b5d235f634e494fb": {
     "model_module": "@jupyter-widgets/controls",
     "model_name": "FloatProgressModel",
     "state": {
      "_dom_classes": [],
      "_model_module": "@jupyter-widgets/controls",
      "_model_module_version": "1.5.0",
      "_model_name": "FloatProgressModel",
      "_view_count": null,
      "_view_module": "@jupyter-widgets/controls",
      "_view_module_version": "1.5.0",
      "_view_name": "ProgressView",
      "bar_style": "",
      "description": "Evaluation after 2 Epoch: 100%",
      "description_tooltip": null,
      "layout": "IPY_MODEL_616f151c02354a48991ef5ee6fce0a38",
      "max": 79,
      "min": 0,
      "orientation": "horizontal",
      "style": "IPY_MODEL_1f31278c2c3a4214b46425dbb2d9ad08",
      "value": 79
     }
    },
    "271ed3b2c71a444ea683bfd1b77cd13d": {
     "model_module": "@jupyter-widgets/base",
     "model_name": "LayoutModel",
     "state": {
      "_model_module": "@jupyter-widgets/base",
      "_model_module_version": "1.2.0",
      "_model_name": "LayoutModel",
      "_view_count": null,
      "_view_module": "@jupyter-widgets/base",
      "_view_module_version": "1.2.0",
      "_view_name": "LayoutView",
      "align_content": null,
      "align_items": null,
      "align_self": null,
      "border": null,
      "bottom": null,
      "display": null,
      "flex": null,
      "flex_flow": null,
      "grid_area": null,
      "grid_auto_columns": null,
      "grid_auto_flow": null,
      "grid_auto_rows": null,
      "grid_column": null,
      "grid_gap": null,
      "grid_row": null,
      "grid_template_areas": null,
      "grid_template_columns": null,
      "grid_template_rows": null,
      "height": null,
      "justify_content": null,
      "justify_items": null,
      "left": null,
      "margin": null,
      "max_height": null,
      "max_width": null,
      "min_height": null,
      "min_width": null,
      "object_fit": null,
      "object_position": null,
      "order": null,
      "overflow": null,
      "overflow_x": null,
      "overflow_y": null,
      "padding": null,
      "right": null,
      "top": null,
      "visibility": null,
      "width": null
     }
    },
    "28ab700434864ccb95f64b728a2da93e": {
     "model_module": "@jupyter-widgets/base",
     "model_name": "LayoutModel",
     "state": {
      "_model_module": "@jupyter-widgets/base",
      "_model_module_version": "1.2.0",
      "_model_name": "LayoutModel",
      "_view_count": null,
      "_view_module": "@jupyter-widgets/base",
      "_view_module_version": "1.2.0",
      "_view_name": "LayoutView",
      "align_content": null,
      "align_items": null,
      "align_self": null,
      "border": null,
      "bottom": null,
      "display": null,
      "flex": null,
      "flex_flow": null,
      "grid_area": null,
      "grid_auto_columns": null,
      "grid_auto_flow": null,
      "grid_auto_rows": null,
      "grid_column": null,
      "grid_gap": null,
      "grid_row": null,
      "grid_template_areas": null,
      "grid_template_columns": null,
      "grid_template_rows": null,
      "height": null,
      "justify_content": null,
      "justify_items": null,
      "left": null,
      "margin": null,
      "max_height": null,
      "max_width": null,
      "min_height": null,
      "min_width": null,
      "object_fit": null,
      "object_position": null,
      "order": null,
      "overflow": null,
      "overflow_x": null,
      "overflow_y": null,
      "padding": null,
      "right": null,
      "top": null,
      "visibility": null,
      "width": null
     }
    },
    "29a64a5e8481446c9444caa1036f4907": {
     "model_module": "@jupyter-widgets/controls",
     "model_name": "DescriptionStyleModel",
     "state": {
      "_model_module": "@jupyter-widgets/controls",
      "_model_module_version": "1.5.0",
      "_model_name": "DescriptionStyleModel",
      "_view_count": null,
      "_view_module": "@jupyter-widgets/base",
      "_view_module_version": "1.2.0",
      "_view_name": "StyleView",
      "description_width": ""
     }
    },
    "2e2bf399e3fb4a84924a46842a3b0eaf": {
     "model_module": "@jupyter-widgets/controls",
     "model_name": "HTMLModel",
     "state": {
      "_dom_classes": [],
      "_model_module": "@jupyter-widgets/controls",
      "_model_module_version": "1.5.0",
      "_model_name": "HTMLModel",
      "_view_count": null,
      "_view_module": "@jupyter-widgets/controls",
      "_view_module_version": "1.5.0",
      "_view_name": "HTMLView",
      "description": "",
      "description_tooltip": null,
      "layout": "IPY_MODEL_6b6f8bd88bb7447baa3db9503dae6187",
      "placeholder": "​",
      "style": "IPY_MODEL_577be1806ba4443db0ab7d455c889677",
      "value": " 79/79 [02:44&lt;00:00,  1.06s/it, batch_loss=0.0428]"
     }
    },
    "2f225cc9eaf542f0a90c212a22d8e83e": {
     "model_module": "@jupyter-widgets/controls",
     "model_name": "HTMLModel",
     "state": {
      "_dom_classes": [],
      "_model_module": "@jupyter-widgets/controls",
      "_model_module_version": "1.5.0",
      "_model_name": "HTMLModel",
      "_view_count": null,
      "_view_module": "@jupyter-widgets/controls",
      "_view_module_version": "1.5.0",
      "_view_name": "HTMLView",
      "description": "",
      "description_tooltip": null,
      "layout": "IPY_MODEL_361beb255ed246a5be018f15532e44ba",
      "placeholder": "​",
      "style": "IPY_MODEL_4926242fd3254bc3b371af98167a215a",
      "value": " 79/79 [1:41:22&lt;00:00,  1.11it/s, batch_loss=0.136]"
     }
    },
    "2fc634a16b444778a44bca255376f629": {
     "model_module": "@jupyter-widgets/base",
     "model_name": "LayoutModel",
     "state": {
      "_model_module": "@jupyter-widgets/base",
      "_model_module_version": "1.2.0",
      "_model_name": "LayoutModel",
      "_view_count": null,
      "_view_module": "@jupyter-widgets/base",
      "_view_module_version": "1.2.0",
      "_view_name": "LayoutView",
      "align_content": null,
      "align_items": null,
      "align_self": null,
      "border": null,
      "bottom": null,
      "display": null,
      "flex": null,
      "flex_flow": null,
      "grid_area": null,
      "grid_auto_columns": null,
      "grid_auto_flow": null,
      "grid_auto_rows": null,
      "grid_column": null,
      "grid_gap": null,
      "grid_row": null,
      "grid_template_areas": null,
      "grid_template_columns": null,
      "grid_template_rows": null,
      "height": null,
      "justify_content": null,
      "justify_items": null,
      "left": null,
      "margin": null,
      "max_height": null,
      "max_width": null,
      "min_height": null,
      "min_width": null,
      "object_fit": null,
      "object_position": null,
      "order": null,
      "overflow": null,
      "overflow_x": null,
      "overflow_y": null,
      "padding": null,
      "right": null,
      "top": null,
      "visibility": null,
      "width": null
     }
    },
    "3207c5f5617e41cc9ed998a13376f9c6": {
     "model_module": "@jupyter-widgets/controls",
     "model_name": "FloatProgressModel",
     "state": {
      "_dom_classes": [],
      "_model_module": "@jupyter-widgets/controls",
      "_model_module_version": "1.5.0",
      "_model_name": "FloatProgressModel",
      "_view_count": null,
      "_view_module": "@jupyter-widgets/controls",
      "_view_module_version": "1.5.0",
      "_view_name": "ProgressView",
      "bar_style": "",
      "description": "Evaluation after 1 Epoch: 100%",
      "description_tooltip": null,
      "layout": "IPY_MODEL_43041e903568405083d5f8f635bb3766",
      "max": 79,
      "min": 0,
      "orientation": "horizontal",
      "style": "IPY_MODEL_f2c04f022c31481f9d27de13e962b45f",
      "value": 79
     }
    },
    "326a2537840e439aa42b39889fef5e7b": {
     "model_module": "@jupyter-widgets/controls",
     "model_name": "FloatProgressModel",
     "state": {
      "_dom_classes": [],
      "_model_module": "@jupyter-widgets/controls",
      "_model_module_version": "1.5.0",
      "_model_name": "FloatProgressModel",
      "_view_count": null,
      "_view_module": "@jupyter-widgets/controls",
      "_view_module_version": "1.5.0",
      "_view_name": "ProgressView",
      "bar_style": "",
      "description": "Evaluation after 0 Epoch: 100%",
      "description_tooltip": null,
      "layout": "IPY_MODEL_e29ab827aead4b008dc5a4019497902f",
      "max": 79,
      "min": 0,
      "orientation": "horizontal",
      "style": "IPY_MODEL_78f022406daa40b48b134fd0f40d8376",
      "value": 79
     }
    },
    "329dfec31cbb49799f23754204977f1c": {
     "model_module": "@jupyter-widgets/base",
     "model_name": "LayoutModel",
     "state": {
      "_model_module": "@jupyter-widgets/base",
      "_model_module_version": "1.2.0",
      "_model_name": "LayoutModel",
      "_view_count": null,
      "_view_module": "@jupyter-widgets/base",
      "_view_module_version": "1.2.0",
      "_view_name": "LayoutView",
      "align_content": null,
      "align_items": null,
      "align_self": null,
      "border": null,
      "bottom": null,
      "display": null,
      "flex": null,
      "flex_flow": null,
      "grid_area": null,
      "grid_auto_columns": null,
      "grid_auto_flow": null,
      "grid_auto_rows": null,
      "grid_column": null,
      "grid_gap": null,
      "grid_row": null,
      "grid_template_areas": null,
      "grid_template_columns": null,
      "grid_template_rows": null,
      "height": null,
      "justify_content": null,
      "justify_items": null,
      "left": null,
      "margin": null,
      "max_height": null,
      "max_width": null,
      "min_height": null,
      "min_width": null,
      "object_fit": null,
      "object_position": null,
      "order": null,
      "overflow": null,
      "overflow_x": null,
      "overflow_y": null,
      "padding": null,
      "right": null,
      "top": null,
      "visibility": null,
      "width": null
     }
    },
    "33e402d9094143c6a88dd679449c45c3": {
     "model_module": "@jupyter-widgets/controls",
     "model_name": "DescriptionStyleModel",
     "state": {
      "_model_module": "@jupyter-widgets/controls",
      "_model_module_version": "1.5.0",
      "_model_name": "DescriptionStyleModel",
      "_view_count": null,
      "_view_module": "@jupyter-widgets/base",
      "_view_module_version": "1.2.0",
      "_view_name": "StyleView",
      "description_width": ""
     }
    },
    "361beb255ed246a5be018f15532e44ba": {
     "model_module": "@jupyter-widgets/base",
     "model_name": "LayoutModel",
     "state": {
      "_model_module": "@jupyter-widgets/base",
      "_model_module_version": "1.2.0",
      "_model_name": "LayoutModel",
      "_view_count": null,
      "_view_module": "@jupyter-widgets/base",
      "_view_module_version": "1.2.0",
      "_view_name": "LayoutView",
      "align_content": null,
      "align_items": null,
      "align_self": null,
      "border": null,
      "bottom": null,
      "display": null,
      "flex": null,
      "flex_flow": null,
      "grid_area": null,
      "grid_auto_columns": null,
      "grid_auto_flow": null,
      "grid_auto_rows": null,
      "grid_column": null,
      "grid_gap": null,
      "grid_row": null,
      "grid_template_areas": null,
      "grid_template_columns": null,
      "grid_template_rows": null,
      "height": null,
      "justify_content": null,
      "justify_items": null,
      "left": null,
      "margin": null,
      "max_height": null,
      "max_width": null,
      "min_height": null,
      "min_width": null,
      "object_fit": null,
      "object_position": null,
      "order": null,
      "overflow": null,
      "overflow_x": null,
      "overflow_y": null,
      "padding": null,
      "right": null,
      "top": null,
      "visibility": null,
      "width": null
     }
    },
    "37d68fa091b94343ae874e689b418b72": {
     "model_module": "@jupyter-widgets/controls",
     "model_name": "HTMLModel",
     "state": {
      "_dom_classes": [],
      "_model_module": "@jupyter-widgets/controls",
      "_model_module_version": "1.5.0",
      "_model_name": "HTMLModel",
      "_view_count": null,
      "_view_module": "@jupyter-widgets/controls",
      "_view_module_version": "1.5.0",
      "_view_name": "HTMLView",
      "description": "",
      "description_tooltip": null,
      "layout": "IPY_MODEL_6ea24827ae4d494f826bb7215f24aa6e",
      "placeholder": "​",
      "style": "IPY_MODEL_9e5c04a9552840efa662ae05f59a4e7c",
      "value": " 1407/1407 [1:37:24&lt;00:00,  4.15s/it, batch_loss=0.0389]"
     }
    },
    "37d7374d542443c8adb06b9821b69438": {
     "model_module": "@jupyter-widgets/base",
     "model_name": "LayoutModel",
     "state": {
      "_model_module": "@jupyter-widgets/base",
      "_model_module_version": "1.2.0",
      "_model_name": "LayoutModel",
      "_view_count": null,
      "_view_module": "@jupyter-widgets/base",
      "_view_module_version": "1.2.0",
      "_view_name": "LayoutView",
      "align_content": null,
      "align_items": null,
      "align_self": null,
      "border": null,
      "bottom": null,
      "display": null,
      "flex": null,
      "flex_flow": null,
      "grid_area": null,
      "grid_auto_columns": null,
      "grid_auto_flow": null,
      "grid_auto_rows": null,
      "grid_column": null,
      "grid_gap": null,
      "grid_row": null,
      "grid_template_areas": null,
      "grid_template_columns": null,
      "grid_template_rows": null,
      "height": null,
      "justify_content": null,
      "justify_items": null,
      "left": null,
      "margin": null,
      "max_height": null,
      "max_width": null,
      "min_height": null,
      "min_width": null,
      "object_fit": null,
      "object_position": null,
      "order": null,
      "overflow": null,
      "overflow_x": null,
      "overflow_y": null,
      "padding": null,
      "right": null,
      "top": null,
      "visibility": null,
      "width": null
     }
    },
    "37e7ddf03cc44c12936dabe793af5c32": {
     "model_module": "@jupyter-widgets/base",
     "model_name": "LayoutModel",
     "state": {
      "_model_module": "@jupyter-widgets/base",
      "_model_module_version": "1.2.0",
      "_model_name": "LayoutModel",
      "_view_count": null,
      "_view_module": "@jupyter-widgets/base",
      "_view_module_version": "1.2.0",
      "_view_name": "LayoutView",
      "align_content": null,
      "align_items": null,
      "align_self": null,
      "border": null,
      "bottom": null,
      "display": null,
      "flex": null,
      "flex_flow": null,
      "grid_area": null,
      "grid_auto_columns": null,
      "grid_auto_flow": null,
      "grid_auto_rows": null,
      "grid_column": null,
      "grid_gap": null,
      "grid_row": null,
      "grid_template_areas": null,
      "grid_template_columns": null,
      "grid_template_rows": null,
      "height": null,
      "justify_content": null,
      "justify_items": null,
      "left": null,
      "margin": null,
      "max_height": null,
      "max_width": null,
      "min_height": null,
      "min_width": null,
      "object_fit": null,
      "object_position": null,
      "order": null,
      "overflow": null,
      "overflow_x": null,
      "overflow_y": null,
      "padding": null,
      "right": null,
      "top": null,
      "visibility": null,
      "width": null
     }
    },
    "3ae20bf426794401968ad741d8242ead": {
     "model_module": "@jupyter-widgets/controls",
     "model_name": "FloatProgressModel",
     "state": {
      "_dom_classes": [],
      "_model_module": "@jupyter-widgets/controls",
      "_model_module_version": "1.5.0",
      "_model_name": "FloatProgressModel",
      "_view_count": null,
      "_view_module": "@jupyter-widgets/controls",
      "_view_module_version": "1.5.0",
      "_view_name": "ProgressView",
      "bar_style": "",
      "description": "Evaluation after 0 Epoch: 100%",
      "description_tooltip": null,
      "layout": "IPY_MODEL_edddb86ca8d74254b2cc341fe2a1bc8e",
      "max": 79,
      "min": 0,
      "orientation": "horizontal",
      "style": "IPY_MODEL_55ba73623fbf4edd9b65a1679c332f35",
      "value": 79
     }
    },
    "3ed0b11293dd439ca3358d50cd72f748": {
     "model_module": "@jupyter-widgets/controls",
     "model_name": "DescriptionStyleModel",
     "state": {
      "_model_module": "@jupyter-widgets/controls",
      "_model_module_version": "1.5.0",
      "_model_name": "DescriptionStyleModel",
      "_view_count": null,
      "_view_module": "@jupyter-widgets/base",
      "_view_module_version": "1.2.0",
      "_view_name": "StyleView",
      "description_width": ""
     }
    },
    "417e767d463c466ebf6bca7a3750f95f": {
     "model_module": "@jupyter-widgets/controls",
     "model_name": "HTMLModel",
     "state": {
      "_dom_classes": [],
      "_model_module": "@jupyter-widgets/controls",
      "_model_module_version": "1.5.0",
      "_model_name": "HTMLModel",
      "_view_count": null,
      "_view_module": "@jupyter-widgets/controls",
      "_view_module_version": "1.5.0",
      "_view_name": "HTMLView",
      "description": "",
      "description_tooltip": null,
      "layout": "IPY_MODEL_992ab3c2a18e4164b70cc50c3807e7fd",
      "placeholder": "​",
      "style": "IPY_MODEL_3ed0b11293dd439ca3358d50cd72f748",
      "value": " 79/79 [02:55&lt;00:00,  1.15it/s, batch_loss=0.286]"
     }
    },
    "41a5fdef91804e7daa7b37e5297df7db": {
     "model_module": "@jupyter-widgets/controls",
     "model_name": "FloatProgressModel",
     "state": {
      "_dom_classes": [],
      "_model_module": "@jupyter-widgets/controls",
      "_model_module_version": "1.5.0",
      "_model_name": "FloatProgressModel",
      "_view_count": null,
      "_view_module": "@jupyter-widgets/controls",
      "_view_module_version": "1.5.0",
      "_view_name": "ProgressView",
      "bar_style": "success",
      "description": "Traing Epoch 3: 100%",
      "description_tooltip": null,
      "layout": "IPY_MODEL_d9d6e3d2ece64ed4ae3a86d8b83e7d48",
      "max": 1407,
      "min": 0,
      "orientation": "horizontal",
      "style": "IPY_MODEL_2049e6ca012645d3b4cc4efc422ce326",
      "value": 1407
     }
    },
    "43041e903568405083d5f8f635bb3766": {
     "model_module": "@jupyter-widgets/base",
     "model_name": "LayoutModel",
     "state": {
      "_model_module": "@jupyter-widgets/base",
      "_model_module_version": "1.2.0",
      "_model_name": "LayoutModel",
      "_view_count": null,
      "_view_module": "@jupyter-widgets/base",
      "_view_module_version": "1.2.0",
      "_view_name": "LayoutView",
      "align_content": null,
      "align_items": null,
      "align_self": null,
      "border": null,
      "bottom": null,
      "display": null,
      "flex": null,
      "flex_flow": null,
      "grid_area": null,
      "grid_auto_columns": null,
      "grid_auto_flow": null,
      "grid_auto_rows": null,
      "grid_column": null,
      "grid_gap": null,
      "grid_row": null,
      "grid_template_areas": null,
      "grid_template_columns": null,
      "grid_template_rows": null,
      "height": null,
      "justify_content": null,
      "justify_items": null,
      "left": null,
      "margin": null,
      "max_height": null,
      "max_width": null,
      "min_height": null,
      "min_width": null,
      "object_fit": null,
      "object_position": null,
      "order": null,
      "overflow": null,
      "overflow_x": null,
      "overflow_y": null,
      "padding": null,
      "right": null,
      "top": null,
      "visibility": null,
      "width": null
     }
    },
    "4691025976ae4ba0b5fccedcc87e3a58": {
     "model_module": "@jupyter-widgets/controls",
     "model_name": "DescriptionStyleModel",
     "state": {
      "_model_module": "@jupyter-widgets/controls",
      "_model_module_version": "1.5.0",
      "_model_name": "DescriptionStyleModel",
      "_view_count": null,
      "_view_module": "@jupyter-widgets/base",
      "_view_module_version": "1.2.0",
      "_view_name": "StyleView",
      "description_width": ""
     }
    },
    "47a0463572e94e5081b0b6069aceea74": {
     "model_module": "@jupyter-widgets/base",
     "model_name": "LayoutModel",
     "state": {
      "_model_module": "@jupyter-widgets/base",
      "_model_module_version": "1.2.0",
      "_model_name": "LayoutModel",
      "_view_count": null,
      "_view_module": "@jupyter-widgets/base",
      "_view_module_version": "1.2.0",
      "_view_name": "LayoutView",
      "align_content": null,
      "align_items": null,
      "align_self": null,
      "border": null,
      "bottom": null,
      "display": null,
      "flex": null,
      "flex_flow": null,
      "grid_area": null,
      "grid_auto_columns": null,
      "grid_auto_flow": null,
      "grid_auto_rows": null,
      "grid_column": null,
      "grid_gap": null,
      "grid_row": null,
      "grid_template_areas": null,
      "grid_template_columns": null,
      "grid_template_rows": null,
      "height": null,
      "justify_content": null,
      "justify_items": null,
      "left": null,
      "margin": null,
      "max_height": null,
      "max_width": null,
      "min_height": null,
      "min_width": null,
      "object_fit": null,
      "object_position": null,
      "order": null,
      "overflow": null,
      "overflow_x": null,
      "overflow_y": null,
      "padding": null,
      "right": null,
      "top": null,
      "visibility": null,
      "width": null
     }
    },
    "47de95b449ca44d8bbdcd1449abd92a3": {
     "model_module": "@jupyter-widgets/controls",
     "model_name": "ProgressStyleModel",
     "state": {
      "_model_module": "@jupyter-widgets/controls",
      "_model_module_version": "1.5.0",
      "_model_name": "ProgressStyleModel",
      "_view_count": null,
      "_view_module": "@jupyter-widgets/base",
      "_view_module_version": "1.2.0",
      "_view_name": "StyleView",
      "bar_color": null,
      "description_width": "initial"
     }
    },
    "4926242fd3254bc3b371af98167a215a": {
     "model_module": "@jupyter-widgets/controls",
     "model_name": "DescriptionStyleModel",
     "state": {
      "_model_module": "@jupyter-widgets/controls",
      "_model_module_version": "1.5.0",
      "_model_name": "DescriptionStyleModel",
      "_view_count": null,
      "_view_module": "@jupyter-widgets/base",
      "_view_module_version": "1.2.0",
      "_view_name": "StyleView",
      "description_width": ""
     }
    },
    "4e6386ae1dba47e190fe4b79c025e9b4": {
     "model_module": "@jupyter-widgets/base",
     "model_name": "LayoutModel",
     "state": {
      "_model_module": "@jupyter-widgets/base",
      "_model_module_version": "1.2.0",
      "_model_name": "LayoutModel",
      "_view_count": null,
      "_view_module": "@jupyter-widgets/base",
      "_view_module_version": "1.2.0",
      "_view_name": "LayoutView",
      "align_content": null,
      "align_items": null,
      "align_self": null,
      "border": null,
      "bottom": null,
      "display": null,
      "flex": null,
      "flex_flow": null,
      "grid_area": null,
      "grid_auto_columns": null,
      "grid_auto_flow": null,
      "grid_auto_rows": null,
      "grid_column": null,
      "grid_gap": null,
      "grid_row": null,
      "grid_template_areas": null,
      "grid_template_columns": null,
      "grid_template_rows": null,
      "height": null,
      "justify_content": null,
      "justify_items": null,
      "left": null,
      "margin": null,
      "max_height": null,
      "max_width": null,
      "min_height": null,
      "min_width": null,
      "object_fit": null,
      "object_position": null,
      "order": null,
      "overflow": null,
      "overflow_x": null,
      "overflow_y": null,
      "padding": null,
      "right": null,
      "top": null,
      "visibility": null,
      "width": null
     }
    },
    "508a04242715402eb1b8a7506a6c7d2b": {
     "model_module": "@jupyter-widgets/base",
     "model_name": "LayoutModel",
     "state": {
      "_model_module": "@jupyter-widgets/base",
      "_model_module_version": "1.2.0",
      "_model_name": "LayoutModel",
      "_view_count": null,
      "_view_module": "@jupyter-widgets/base",
      "_view_module_version": "1.2.0",
      "_view_name": "LayoutView",
      "align_content": null,
      "align_items": null,
      "align_self": null,
      "border": null,
      "bottom": null,
      "display": null,
      "flex": null,
      "flex_flow": null,
      "grid_area": null,
      "grid_auto_columns": null,
      "grid_auto_flow": null,
      "grid_auto_rows": null,
      "grid_column": null,
      "grid_gap": null,
      "grid_row": null,
      "grid_template_areas": null,
      "grid_template_columns": null,
      "grid_template_rows": null,
      "height": null,
      "justify_content": null,
      "justify_items": null,
      "left": null,
      "margin": null,
      "max_height": null,
      "max_width": null,
      "min_height": null,
      "min_width": null,
      "object_fit": null,
      "object_position": null,
      "order": null,
      "overflow": null,
      "overflow_x": null,
      "overflow_y": null,
      "padding": null,
      "right": null,
      "top": null,
      "visibility": null,
      "width": null
     }
    },
    "52c8ba30c5e5410f9204f39e22511367": {
     "model_module": "@jupyter-widgets/controls",
     "model_name": "HTMLModel",
     "state": {
      "_dom_classes": [],
      "_model_module": "@jupyter-widgets/controls",
      "_model_module_version": "1.5.0",
      "_model_name": "HTMLModel",
      "_view_count": null,
      "_view_module": "@jupyter-widgets/controls",
      "_view_module_version": "1.5.0",
      "_view_name": "HTMLView",
      "description": "",
      "description_tooltip": null,
      "layout": "IPY_MODEL_8c7c38619b5d4b99a223c9d6c1cd905f",
      "placeholder": "​",
      "style": "IPY_MODEL_fa7ac9b6bb024021aef0aeab54e80bf6",
      "value": " 3914/5625 [3:52:28&lt;1:01:21,  2.15s/it, batch_loss=0.0223]"
     }
    },
    "530a49c1bea342009ddbd1d88a99066c": {
     "model_module": "@jupyter-widgets/controls",
     "model_name": "FloatProgressModel",
     "state": {
      "_dom_classes": [],
      "_model_module": "@jupyter-widgets/controls",
      "_model_module_version": "1.5.0",
      "_model_name": "FloatProgressModel",
      "_view_count": null,
      "_view_module": "@jupyter-widgets/controls",
      "_view_module_version": "1.5.0",
      "_view_name": "ProgressView",
      "bar_style": "",
      "description": "Evaluation after 1 Epoch: 100%",
      "description_tooltip": null,
      "layout": "IPY_MODEL_f0413841588d4971961c1cd41ceb77fd",
      "max": 79,
      "min": 0,
      "orientation": "horizontal",
      "style": "IPY_MODEL_bcbaa3f7cf0340ad9d8feeec571db2c2",
      "value": 79
     }
    },
    "55ba73623fbf4edd9b65a1679c332f35": {
     "model_module": "@jupyter-widgets/controls",
     "model_name": "ProgressStyleModel",
     "state": {
      "_model_module": "@jupyter-widgets/controls",
      "_model_module_version": "1.5.0",
      "_model_name": "ProgressStyleModel",
      "_view_count": null,
      "_view_module": "@jupyter-widgets/base",
      "_view_module_version": "1.2.0",
      "_view_name": "StyleView",
      "bar_color": null,
      "description_width": "initial"
     }
    },
    "577be1806ba4443db0ab7d455c889677": {
     "model_module": "@jupyter-widgets/controls",
     "model_name": "DescriptionStyleModel",
     "state": {
      "_model_module": "@jupyter-widgets/controls",
      "_model_module_version": "1.5.0",
      "_model_name": "DescriptionStyleModel",
      "_view_count": null,
      "_view_module": "@jupyter-widgets/base",
      "_view_module_version": "1.2.0",
      "_view_name": "StyleView",
      "description_width": ""
     }
    },
    "5881142d9250441b9122b6c98ff562c5": {
     "model_module": "@jupyter-widgets/controls",
     "model_name": "HTMLModel",
     "state": {
      "_dom_classes": [],
      "_model_module": "@jupyter-widgets/controls",
      "_model_module_version": "1.5.0",
      "_model_name": "HTMLModel",
      "_view_count": null,
      "_view_module": "@jupyter-widgets/controls",
      "_view_module_version": "1.5.0",
      "_view_name": "HTMLView",
      "description": "",
      "description_tooltip": null,
      "layout": "IPY_MODEL_62bb073ea1124cec87dd84a732a9abf0",
      "placeholder": "​",
      "style": "IPY_MODEL_d5a2ba21fd834f56898c54a2f1f57f9b",
      "value": " 1875/1875 [47:46&lt;00:00,  1.52s/it, batch_loss=0.0146]"
     }
    },
    "588c15383a96494ebeb670b23e8483fc": {
     "model_module": "@jupyter-widgets/base",
     "model_name": "LayoutModel",
     "state": {
      "_model_module": "@jupyter-widgets/base",
      "_model_module_version": "1.2.0",
      "_model_name": "LayoutModel",
      "_view_count": null,
      "_view_module": "@jupyter-widgets/base",
      "_view_module_version": "1.2.0",
      "_view_name": "LayoutView",
      "align_content": null,
      "align_items": null,
      "align_self": null,
      "border": null,
      "bottom": null,
      "display": null,
      "flex": null,
      "flex_flow": null,
      "grid_area": null,
      "grid_auto_columns": null,
      "grid_auto_flow": null,
      "grid_auto_rows": null,
      "grid_column": null,
      "grid_gap": null,
      "grid_row": null,
      "grid_template_areas": null,
      "grid_template_columns": null,
      "grid_template_rows": null,
      "height": null,
      "justify_content": null,
      "justify_items": null,
      "left": null,
      "margin": null,
      "max_height": null,
      "max_width": null,
      "min_height": null,
      "min_width": null,
      "object_fit": null,
      "object_position": null,
      "order": null,
      "overflow": null,
      "overflow_x": null,
      "overflow_y": null,
      "padding": null,
      "right": null,
      "top": null,
      "visibility": null,
      "width": null
     }
    },
    "5a8a586c1af04aad8a5044e38e9279ee": {
     "model_module": "@jupyter-widgets/controls",
     "model_name": "HBoxModel",
     "state": {
      "_dom_classes": [],
      "_model_module": "@jupyter-widgets/controls",
      "_model_module_version": "1.5.0",
      "_model_name": "HBoxModel",
      "_view_count": null,
      "_view_module": "@jupyter-widgets/controls",
      "_view_module_version": "1.5.0",
      "_view_name": "HBoxView",
      "box_style": "",
      "children": [
       "IPY_MODEL_d6f39a391af643a49516331d57196654",
       "IPY_MODEL_9ac82172627a4da89ed08570ca16b10e"
      ],
      "layout": "IPY_MODEL_6f29e512d32c4434865f5f7270f07e5d"
     }
    },
    "60a32092846d483eac8438b8b099bda1": {
     "model_module": "@jupyter-widgets/controls",
     "model_name": "HBoxModel",
     "state": {
      "_dom_classes": [],
      "_model_module": "@jupyter-widgets/controls",
      "_model_module_version": "1.5.0",
      "_model_name": "HBoxModel",
      "_view_count": null,
      "_view_module": "@jupyter-widgets/controls",
      "_view_module_version": "1.5.0",
      "_view_name": "HBoxView",
      "box_style": "",
      "children": [
       "IPY_MODEL_6ae3f5bffcfe44e484cd4564bb4b69ef",
       "IPY_MODEL_2e2bf399e3fb4a84924a46842a3b0eaf"
      ],
      "layout": "IPY_MODEL_b960361f964646dd9450daf9df23065c"
     }
    },
    "616f151c02354a48991ef5ee6fce0a38": {
     "model_module": "@jupyter-widgets/base",
     "model_name": "LayoutModel",
     "state": {
      "_model_module": "@jupyter-widgets/base",
      "_model_module_version": "1.2.0",
      "_model_name": "LayoutModel",
      "_view_count": null,
      "_view_module": "@jupyter-widgets/base",
      "_view_module_version": "1.2.0",
      "_view_name": "LayoutView",
      "align_content": null,
      "align_items": null,
      "align_self": null,
      "border": null,
      "bottom": null,
      "display": null,
      "flex": null,
      "flex_flow": null,
      "grid_area": null,
      "grid_auto_columns": null,
      "grid_auto_flow": null,
      "grid_auto_rows": null,
      "grid_column": null,
      "grid_gap": null,
      "grid_row": null,
      "grid_template_areas": null,
      "grid_template_columns": null,
      "grid_template_rows": null,
      "height": null,
      "justify_content": null,
      "justify_items": null,
      "left": null,
      "margin": null,
      "max_height": null,
      "max_width": null,
      "min_height": null,
      "min_width": null,
      "object_fit": null,
      "object_position": null,
      "order": null,
      "overflow": null,
      "overflow_x": null,
      "overflow_y": null,
      "padding": null,
      "right": null,
      "top": null,
      "visibility": null,
      "width": null
     }
    },
    "62bb073ea1124cec87dd84a732a9abf0": {
     "model_module": "@jupyter-widgets/base",
     "model_name": "LayoutModel",
     "state": {
      "_model_module": "@jupyter-widgets/base",
      "_model_module_version": "1.2.0",
      "_model_name": "LayoutModel",
      "_view_count": null,
      "_view_module": "@jupyter-widgets/base",
      "_view_module_version": "1.2.0",
      "_view_name": "LayoutView",
      "align_content": null,
      "align_items": null,
      "align_self": null,
      "border": null,
      "bottom": null,
      "display": null,
      "flex": null,
      "flex_flow": null,
      "grid_area": null,
      "grid_auto_columns": null,
      "grid_auto_flow": null,
      "grid_auto_rows": null,
      "grid_column": null,
      "grid_gap": null,
      "grid_row": null,
      "grid_template_areas": null,
      "grid_template_columns": null,
      "grid_template_rows": null,
      "height": null,
      "justify_content": null,
      "justify_items": null,
      "left": null,
      "margin": null,
      "max_height": null,
      "max_width": null,
      "min_height": null,
      "min_width": null,
      "object_fit": null,
      "object_position": null,
      "order": null,
      "overflow": null,
      "overflow_x": null,
      "overflow_y": null,
      "padding": null,
      "right": null,
      "top": null,
      "visibility": null,
      "width": null
     }
    },
    "64498b33aaf74081bcce4fde00388e3b": {
     "model_module": "@jupyter-widgets/controls",
     "model_name": "FloatProgressModel",
     "state": {
      "_dom_classes": [],
      "_model_module": "@jupyter-widgets/controls",
      "_model_module_version": "1.5.0",
      "_model_name": "FloatProgressModel",
      "_view_count": null,
      "_view_module": "@jupyter-widgets/controls",
      "_view_module_version": "1.5.0",
      "_view_name": "ProgressView",
      "bar_style": "",
      "description": "Evaluation after 0 Epoch: 100%",
      "description_tooltip": null,
      "layout": "IPY_MODEL_1e9e26bc43f446b4b0a5c2829e749fae",
      "max": 1875,
      "min": 0,
      "orientation": "horizontal",
      "style": "IPY_MODEL_14b2c0980d0e4d129db744500b8609bc",
      "value": 1875
     }
    },
    "667164d7ffe74a75b1ccc38e59e25df6": {
     "model_module": "@jupyter-widgets/controls",
     "model_name": "ProgressStyleModel",
     "state": {
      "_model_module": "@jupyter-widgets/controls",
      "_model_module_version": "1.5.0",
      "_model_name": "ProgressStyleModel",
      "_view_count": null,
      "_view_module": "@jupyter-widgets/base",
      "_view_module_version": "1.2.0",
      "_view_name": "StyleView",
      "bar_color": null,
      "description_width": "initial"
     }
    },
    "668e2477a6b84e73887a4171deef5079": {
     "model_module": "@jupyter-widgets/base",
     "model_name": "LayoutModel",
     "state": {
      "_model_module": "@jupyter-widgets/base",
      "_model_module_version": "1.2.0",
      "_model_name": "LayoutModel",
      "_view_count": null,
      "_view_module": "@jupyter-widgets/base",
      "_view_module_version": "1.2.0",
      "_view_name": "LayoutView",
      "align_content": null,
      "align_items": null,
      "align_self": null,
      "border": null,
      "bottom": null,
      "display": null,
      "flex": null,
      "flex_flow": null,
      "grid_area": null,
      "grid_auto_columns": null,
      "grid_auto_flow": null,
      "grid_auto_rows": null,
      "grid_column": null,
      "grid_gap": null,
      "grid_row": null,
      "grid_template_areas": null,
      "grid_template_columns": null,
      "grid_template_rows": null,
      "height": null,
      "justify_content": null,
      "justify_items": null,
      "left": null,
      "margin": null,
      "max_height": null,
      "max_width": null,
      "min_height": null,
      "min_width": null,
      "object_fit": null,
      "object_position": null,
      "order": null,
      "overflow": null,
      "overflow_x": null,
      "overflow_y": null,
      "padding": null,
      "right": null,
      "top": null,
      "visibility": null,
      "width": null
     }
    },
    "67c2b2b4694945369d2379f529c25c56": {
     "model_module": "@jupyter-widgets/controls",
     "model_name": "HTMLModel",
     "state": {
      "_dom_classes": [],
      "_model_module": "@jupyter-widgets/controls",
      "_model_module_version": "1.5.0",
      "_model_name": "HTMLModel",
      "_view_count": null,
      "_view_module": "@jupyter-widgets/controls",
      "_view_module_version": "1.5.0",
      "_view_name": "HTMLView",
      "description": "",
      "description_tooltip": null,
      "layout": "IPY_MODEL_9e5a5c002ac748668ea291bd1cecf6ce",
      "placeholder": "​",
      "style": "IPY_MODEL_29a64a5e8481446c9444caa1036f4907",
      "value": " 79/79 [50:24&lt;00:00,  1.18it/s, batch_loss=0.355]"
     }
    },
    "696831244b944b0e96c37494182578be": {
     "model_module": "@jupyter-widgets/controls",
     "model_name": "FloatProgressModel",
     "state": {
      "_dom_classes": [],
      "_model_module": "@jupyter-widgets/controls",
      "_model_module_version": "1.5.0",
      "_model_name": "FloatProgressModel",
      "_view_count": null,
      "_view_module": "@jupyter-widgets/controls",
      "_view_module_version": "1.5.0",
      "_view_name": "ProgressView",
      "bar_style": "success",
      "description": "Traing Epoch 3: 100%",
      "description_tooltip": null,
      "layout": "IPY_MODEL_228f402e00164e60aa2c8fafaebd8b8b",
      "max": 1407,
      "min": 0,
      "orientation": "horizontal",
      "style": "IPY_MODEL_a10f200bcc58402facf0dc434d94a7d6",
      "value": 1407
     }
    },
    "6ae3f5bffcfe44e484cd4564bb4b69ef": {
     "model_module": "@jupyter-widgets/controls",
     "model_name": "FloatProgressModel",
     "state": {
      "_dom_classes": [],
      "_model_module": "@jupyter-widgets/controls",
      "_model_module_version": "1.5.0",
      "_model_name": "FloatProgressModel",
      "_view_count": null,
      "_view_module": "@jupyter-widgets/controls",
      "_view_module_version": "1.5.0",
      "_view_name": "ProgressView",
      "bar_style": "",
      "description": "Evaluation after 2 Epoch: 100%",
      "description_tooltip": null,
      "layout": "IPY_MODEL_9030274ac7204c9b977addf58378392d",
      "max": 79,
      "min": 0,
      "orientation": "horizontal",
      "style": "IPY_MODEL_1040685cdfc743bdbf8a4376b48603f1",
      "value": 79
     }
    },
    "6b4ee83ccf7d488dbb20215f855a8506": {
     "model_module": "@jupyter-widgets/base",
     "model_name": "LayoutModel",
     "state": {
      "_model_module": "@jupyter-widgets/base",
      "_model_module_version": "1.2.0",
      "_model_name": "LayoutModel",
      "_view_count": null,
      "_view_module": "@jupyter-widgets/base",
      "_view_module_version": "1.2.0",
      "_view_name": "LayoutView",
      "align_content": null,
      "align_items": null,
      "align_self": null,
      "border": null,
      "bottom": null,
      "display": null,
      "flex": null,
      "flex_flow": null,
      "grid_area": null,
      "grid_auto_columns": null,
      "grid_auto_flow": null,
      "grid_auto_rows": null,
      "grid_column": null,
      "grid_gap": null,
      "grid_row": null,
      "grid_template_areas": null,
      "grid_template_columns": null,
      "grid_template_rows": null,
      "height": null,
      "justify_content": null,
      "justify_items": null,
      "left": null,
      "margin": null,
      "max_height": null,
      "max_width": null,
      "min_height": null,
      "min_width": null,
      "object_fit": null,
      "object_position": null,
      "order": null,
      "overflow": null,
      "overflow_x": null,
      "overflow_y": null,
      "padding": null,
      "right": null,
      "top": null,
      "visibility": null,
      "width": null
     }
    },
    "6b6f8bd88bb7447baa3db9503dae6187": {
     "model_module": "@jupyter-widgets/base",
     "model_name": "LayoutModel",
     "state": {
      "_model_module": "@jupyter-widgets/base",
      "_model_module_version": "1.2.0",
      "_model_name": "LayoutModel",
      "_view_count": null,
      "_view_module": "@jupyter-widgets/base",
      "_view_module_version": "1.2.0",
      "_view_name": "LayoutView",
      "align_content": null,
      "align_items": null,
      "align_self": null,
      "border": null,
      "bottom": null,
      "display": null,
      "flex": null,
      "flex_flow": null,
      "grid_area": null,
      "grid_auto_columns": null,
      "grid_auto_flow": null,
      "grid_auto_rows": null,
      "grid_column": null,
      "grid_gap": null,
      "grid_row": null,
      "grid_template_areas": null,
      "grid_template_columns": null,
      "grid_template_rows": null,
      "height": null,
      "justify_content": null,
      "justify_items": null,
      "left": null,
      "margin": null,
      "max_height": null,
      "max_width": null,
      "min_height": null,
      "min_width": null,
      "object_fit": null,
      "object_position": null,
      "order": null,
      "overflow": null,
      "overflow_x": null,
      "overflow_y": null,
      "padding": null,
      "right": null,
      "top": null,
      "visibility": null,
      "width": null
     }
    },
    "6c1b134bb6d2401ba018d98f27de7a4a": {
     "model_module": "@jupyter-widgets/base",
     "model_name": "LayoutModel",
     "state": {
      "_model_module": "@jupyter-widgets/base",
      "_model_module_version": "1.2.0",
      "_model_name": "LayoutModel",
      "_view_count": null,
      "_view_module": "@jupyter-widgets/base",
      "_view_module_version": "1.2.0",
      "_view_name": "LayoutView",
      "align_content": null,
      "align_items": null,
      "align_self": null,
      "border": null,
      "bottom": null,
      "display": null,
      "flex": null,
      "flex_flow": null,
      "grid_area": null,
      "grid_auto_columns": null,
      "grid_auto_flow": null,
      "grid_auto_rows": null,
      "grid_column": null,
      "grid_gap": null,
      "grid_row": null,
      "grid_template_areas": null,
      "grid_template_columns": null,
      "grid_template_rows": null,
      "height": null,
      "justify_content": null,
      "justify_items": null,
      "left": null,
      "margin": null,
      "max_height": null,
      "max_width": null,
      "min_height": null,
      "min_width": null,
      "object_fit": null,
      "object_position": null,
      "order": null,
      "overflow": null,
      "overflow_x": null,
      "overflow_y": null,
      "padding": null,
      "right": null,
      "top": null,
      "visibility": null,
      "width": null
     }
    },
    "6e2435b47ab548568834f93af5d5e8aa": {
     "model_module": "@jupyter-widgets/base",
     "model_name": "LayoutModel",
     "state": {
      "_model_module": "@jupyter-widgets/base",
      "_model_module_version": "1.2.0",
      "_model_name": "LayoutModel",
      "_view_count": null,
      "_view_module": "@jupyter-widgets/base",
      "_view_module_version": "1.2.0",
      "_view_name": "LayoutView",
      "align_content": null,
      "align_items": null,
      "align_self": null,
      "border": null,
      "bottom": null,
      "display": null,
      "flex": null,
      "flex_flow": null,
      "grid_area": null,
      "grid_auto_columns": null,
      "grid_auto_flow": null,
      "grid_auto_rows": null,
      "grid_column": null,
      "grid_gap": null,
      "grid_row": null,
      "grid_template_areas": null,
      "grid_template_columns": null,
      "grid_template_rows": null,
      "height": null,
      "justify_content": null,
      "justify_items": null,
      "left": null,
      "margin": null,
      "max_height": null,
      "max_width": null,
      "min_height": null,
      "min_width": null,
      "object_fit": null,
      "object_position": null,
      "order": null,
      "overflow": null,
      "overflow_x": null,
      "overflow_y": null,
      "padding": null,
      "right": null,
      "top": null,
      "visibility": null,
      "width": null
     }
    },
    "6ea24827ae4d494f826bb7215f24aa6e": {
     "model_module": "@jupyter-widgets/base",
     "model_name": "LayoutModel",
     "state": {
      "_model_module": "@jupyter-widgets/base",
      "_model_module_version": "1.2.0",
      "_model_name": "LayoutModel",
      "_view_count": null,
      "_view_module": "@jupyter-widgets/base",
      "_view_module_version": "1.2.0",
      "_view_name": "LayoutView",
      "align_content": null,
      "align_items": null,
      "align_self": null,
      "border": null,
      "bottom": null,
      "display": null,
      "flex": null,
      "flex_flow": null,
      "grid_area": null,
      "grid_auto_columns": null,
      "grid_auto_flow": null,
      "grid_auto_rows": null,
      "grid_column": null,
      "grid_gap": null,
      "grid_row": null,
      "grid_template_areas": null,
      "grid_template_columns": null,
      "grid_template_rows": null,
      "height": null,
      "justify_content": null,
      "justify_items": null,
      "left": null,
      "margin": null,
      "max_height": null,
      "max_width": null,
      "min_height": null,
      "min_width": null,
      "object_fit": null,
      "object_position": null,
      "order": null,
      "overflow": null,
      "overflow_x": null,
      "overflow_y": null,
      "padding": null,
      "right": null,
      "top": null,
      "visibility": null,
      "width": null
     }
    },
    "6eb859a87f6e4ae8bd98b817b2e765c7": {
     "model_module": "@jupyter-widgets/base",
     "model_name": "LayoutModel",
     "state": {
      "_model_module": "@jupyter-widgets/base",
      "_model_module_version": "1.2.0",
      "_model_name": "LayoutModel",
      "_view_count": null,
      "_view_module": "@jupyter-widgets/base",
      "_view_module_version": "1.2.0",
      "_view_name": "LayoutView",
      "align_content": null,
      "align_items": null,
      "align_self": null,
      "border": null,
      "bottom": null,
      "display": null,
      "flex": null,
      "flex_flow": null,
      "grid_area": null,
      "grid_auto_columns": null,
      "grid_auto_flow": null,
      "grid_auto_rows": null,
      "grid_column": null,
      "grid_gap": null,
      "grid_row": null,
      "grid_template_areas": null,
      "grid_template_columns": null,
      "grid_template_rows": null,
      "height": null,
      "justify_content": null,
      "justify_items": null,
      "left": null,
      "margin": null,
      "max_height": null,
      "max_width": null,
      "min_height": null,
      "min_width": null,
      "object_fit": null,
      "object_position": null,
      "order": null,
      "overflow": null,
      "overflow_x": null,
      "overflow_y": null,
      "padding": null,
      "right": null,
      "top": null,
      "visibility": null,
      "width": null
     }
    },
    "6ed85a0af3f9446d950db770242db889": {
     "model_module": "@jupyter-widgets/base",
     "model_name": "LayoutModel",
     "state": {
      "_model_module": "@jupyter-widgets/base",
      "_model_module_version": "1.2.0",
      "_model_name": "LayoutModel",
      "_view_count": null,
      "_view_module": "@jupyter-widgets/base",
      "_view_module_version": "1.2.0",
      "_view_name": "LayoutView",
      "align_content": null,
      "align_items": null,
      "align_self": null,
      "border": null,
      "bottom": null,
      "display": null,
      "flex": null,
      "flex_flow": null,
      "grid_area": null,
      "grid_auto_columns": null,
      "grid_auto_flow": null,
      "grid_auto_rows": null,
      "grid_column": null,
      "grid_gap": null,
      "grid_row": null,
      "grid_template_areas": null,
      "grid_template_columns": null,
      "grid_template_rows": null,
      "height": null,
      "justify_content": null,
      "justify_items": null,
      "left": null,
      "margin": null,
      "max_height": null,
      "max_width": null,
      "min_height": null,
      "min_width": null,
      "object_fit": null,
      "object_position": null,
      "order": null,
      "overflow": null,
      "overflow_x": null,
      "overflow_y": null,
      "padding": null,
      "right": null,
      "top": null,
      "visibility": null,
      "width": null
     }
    },
    "6f29e512d32c4434865f5f7270f07e5d": {
     "model_module": "@jupyter-widgets/base",
     "model_name": "LayoutModel",
     "state": {
      "_model_module": "@jupyter-widgets/base",
      "_model_module_version": "1.2.0",
      "_model_name": "LayoutModel",
      "_view_count": null,
      "_view_module": "@jupyter-widgets/base",
      "_view_module_version": "1.2.0",
      "_view_name": "LayoutView",
      "align_content": null,
      "align_items": null,
      "align_self": null,
      "border": null,
      "bottom": null,
      "display": null,
      "flex": null,
      "flex_flow": null,
      "grid_area": null,
      "grid_auto_columns": null,
      "grid_auto_flow": null,
      "grid_auto_rows": null,
      "grid_column": null,
      "grid_gap": null,
      "grid_row": null,
      "grid_template_areas": null,
      "grid_template_columns": null,
      "grid_template_rows": null,
      "height": null,
      "justify_content": null,
      "justify_items": null,
      "left": null,
      "margin": null,
      "max_height": null,
      "max_width": null,
      "min_height": null,
      "min_width": null,
      "object_fit": null,
      "object_position": null,
      "order": null,
      "overflow": null,
      "overflow_x": null,
      "overflow_y": null,
      "padding": null,
      "right": null,
      "top": null,
      "visibility": null,
      "width": null
     }
    },
    "6f7a67aa9353465caf5117dda38bbfac": {
     "model_module": "@jupyter-widgets/controls",
     "model_name": "DescriptionStyleModel",
     "state": {
      "_model_module": "@jupyter-widgets/controls",
      "_model_module_version": "1.5.0",
      "_model_name": "DescriptionStyleModel",
      "_view_count": null,
      "_view_module": "@jupyter-widgets/base",
      "_view_module_version": "1.2.0",
      "_view_name": "StyleView",
      "description_width": ""
     }
    },
    "7019c354fb204477adcbb2e2aa6c5953": {
     "model_module": "@jupyter-widgets/base",
     "model_name": "LayoutModel",
     "state": {
      "_model_module": "@jupyter-widgets/base",
      "_model_module_version": "1.2.0",
      "_model_name": "LayoutModel",
      "_view_count": null,
      "_view_module": "@jupyter-widgets/base",
      "_view_module_version": "1.2.0",
      "_view_name": "LayoutView",
      "align_content": null,
      "align_items": null,
      "align_self": null,
      "border": null,
      "bottom": null,
      "display": null,
      "flex": null,
      "flex_flow": null,
      "grid_area": null,
      "grid_auto_columns": null,
      "grid_auto_flow": null,
      "grid_auto_rows": null,
      "grid_column": null,
      "grid_gap": null,
      "grid_row": null,
      "grid_template_areas": null,
      "grid_template_columns": null,
      "grid_template_rows": null,
      "height": null,
      "justify_content": null,
      "justify_items": null,
      "left": null,
      "margin": null,
      "max_height": null,
      "max_width": null,
      "min_height": null,
      "min_width": null,
      "object_fit": null,
      "object_position": null,
      "order": null,
      "overflow": null,
      "overflow_x": null,
      "overflow_y": null,
      "padding": null,
      "right": null,
      "top": null,
      "visibility": null,
      "width": null
     }
    },
    "70253911e83a42f58a907b698bc99f4c": {
     "model_module": "@jupyter-widgets/base",
     "model_name": "LayoutModel",
     "state": {
      "_model_module": "@jupyter-widgets/base",
      "_model_module_version": "1.2.0",
      "_model_name": "LayoutModel",
      "_view_count": null,
      "_view_module": "@jupyter-widgets/base",
      "_view_module_version": "1.2.0",
      "_view_name": "LayoutView",
      "align_content": null,
      "align_items": null,
      "align_self": null,
      "border": null,
      "bottom": null,
      "display": null,
      "flex": null,
      "flex_flow": null,
      "grid_area": null,
      "grid_auto_columns": null,
      "grid_auto_flow": null,
      "grid_auto_rows": null,
      "grid_column": null,
      "grid_gap": null,
      "grid_row": null,
      "grid_template_areas": null,
      "grid_template_columns": null,
      "grid_template_rows": null,
      "height": null,
      "justify_content": null,
      "justify_items": null,
      "left": null,
      "margin": null,
      "max_height": null,
      "max_width": null,
      "min_height": null,
      "min_width": null,
      "object_fit": null,
      "object_position": null,
      "order": null,
      "overflow": null,
      "overflow_x": null,
      "overflow_y": null,
      "padding": null,
      "right": null,
      "top": null,
      "visibility": null,
      "width": null
     }
    },
    "74bbc7245ca14b418bcb0530b2beb8fe": {
     "model_module": "@jupyter-widgets/controls",
     "model_name": "ProgressStyleModel",
     "state": {
      "_model_module": "@jupyter-widgets/controls",
      "_model_module_version": "1.5.0",
      "_model_name": "ProgressStyleModel",
      "_view_count": null,
      "_view_module": "@jupyter-widgets/base",
      "_view_module_version": "1.2.0",
      "_view_name": "StyleView",
      "bar_color": null,
      "description_width": "initial"
     }
    },
    "754fe7b3368b473abd94a413c38325f9": {
     "model_module": "@jupyter-widgets/controls",
     "model_name": "HBoxModel",
     "state": {
      "_dom_classes": [],
      "_model_module": "@jupyter-widgets/controls",
      "_model_module_version": "1.5.0",
      "_model_name": "HBoxModel",
      "_view_count": null,
      "_view_module": "@jupyter-widgets/controls",
      "_view_module_version": "1.5.0",
      "_view_name": "HBoxView",
      "box_style": "",
      "children": [
       "IPY_MODEL_1c57fbe8f404497aa78af0bdbee8b917",
       "IPY_MODEL_21d54c557a1b4af18489703e490f03e2"
      ],
      "layout": "IPY_MODEL_7abe4f100e60444d815d00391dd7a5e2"
     }
    },
    "7692615ad4a746fa841fea0f8db99134": {
     "model_module": "@jupyter-widgets/base",
     "model_name": "LayoutModel",
     "state": {
      "_model_module": "@jupyter-widgets/base",
      "_model_module_version": "1.2.0",
      "_model_name": "LayoutModel",
      "_view_count": null,
      "_view_module": "@jupyter-widgets/base",
      "_view_module_version": "1.2.0",
      "_view_name": "LayoutView",
      "align_content": null,
      "align_items": null,
      "align_self": null,
      "border": null,
      "bottom": null,
      "display": null,
      "flex": null,
      "flex_flow": null,
      "grid_area": null,
      "grid_auto_columns": null,
      "grid_auto_flow": null,
      "grid_auto_rows": null,
      "grid_column": null,
      "grid_gap": null,
      "grid_row": null,
      "grid_template_areas": null,
      "grid_template_columns": null,
      "grid_template_rows": null,
      "height": null,
      "justify_content": null,
      "justify_items": null,
      "left": null,
      "margin": null,
      "max_height": null,
      "max_width": null,
      "min_height": null,
      "min_width": null,
      "object_fit": null,
      "object_position": null,
      "order": null,
      "overflow": null,
      "overflow_x": null,
      "overflow_y": null,
      "padding": null,
      "right": null,
      "top": null,
      "visibility": null,
      "width": null
     }
    },
    "780a6934ee53466b88d92f333cf15633": {
     "model_module": "@jupyter-widgets/controls",
     "model_name": "HBoxModel",
     "state": {
      "_dom_classes": [],
      "_model_module": "@jupyter-widgets/controls",
      "_model_module_version": "1.5.0",
      "_model_name": "HBoxModel",
      "_view_count": null,
      "_view_module": "@jupyter-widgets/controls",
      "_view_module_version": "1.5.0",
      "_view_name": "HBoxView",
      "box_style": "",
      "children": [
       "IPY_MODEL_263c241c3d404e41b5d235f634e494fb",
       "IPY_MODEL_417e767d463c466ebf6bca7a3750f95f"
      ],
      "layout": "IPY_MODEL_967e37dad73b48de8bcb6c222a9ff15e"
     }
    },
    "78f022406daa40b48b134fd0f40d8376": {
     "model_module": "@jupyter-widgets/controls",
     "model_name": "ProgressStyleModel",
     "state": {
      "_model_module": "@jupyter-widgets/controls",
      "_model_module_version": "1.5.0",
      "_model_name": "ProgressStyleModel",
      "_view_count": null,
      "_view_module": "@jupyter-widgets/base",
      "_view_module_version": "1.2.0",
      "_view_name": "StyleView",
      "bar_color": null,
      "description_width": "initial"
     }
    },
    "798f53a1c6ff4cdd9887c446cf91f3ef": {
     "model_module": "@jupyter-widgets/controls",
     "model_name": "FloatProgressModel",
     "state": {
      "_dom_classes": [],
      "_model_module": "@jupyter-widgets/controls",
      "_model_module_version": "1.5.0",
      "_model_name": "FloatProgressModel",
      "_view_count": null,
      "_view_module": "@jupyter-widgets/controls",
      "_view_module_version": "1.5.0",
      "_view_name": "ProgressView",
      "bar_style": "",
      "description": "Evaluation after 2 Epoch: 100%",
      "description_tooltip": null,
      "layout": "IPY_MODEL_7019c354fb204477adcbb2e2aa6c5953",
      "max": 79,
      "min": 0,
      "orientation": "horizontal",
      "style": "IPY_MODEL_b7f204b704b148af8722d251ac08edd0",
      "value": 79
     }
    },
    "799bbd8e4b614e9ab7577cb02602c203": {
     "model_module": "@jupyter-widgets/controls",
     "model_name": "HBoxModel",
     "state": {
      "_dom_classes": [],
      "_model_module": "@jupyter-widgets/controls",
      "_model_module_version": "1.5.0",
      "_model_name": "HBoxModel",
      "_view_count": null,
      "_view_module": "@jupyter-widgets/controls",
      "_view_module_version": "1.5.0",
      "_view_name": "HBoxView",
      "box_style": "",
      "children": [
       "IPY_MODEL_05a330675e3e4efeaecfc838ae7a86bb",
       "IPY_MODEL_c1a21695ca05437080621349c2c8b512"
      ],
      "layout": "IPY_MODEL_6e2435b47ab548568834f93af5d5e8aa"
     }
    },
    "7a7ccba5b98e4c79a2a833f8c000e2bc": {
     "model_module": "@jupyter-widgets/base",
     "model_name": "LayoutModel",
     "state": {
      "_model_module": "@jupyter-widgets/base",
      "_model_module_version": "1.2.0",
      "_model_name": "LayoutModel",
      "_view_count": null,
      "_view_module": "@jupyter-widgets/base",
      "_view_module_version": "1.2.0",
      "_view_name": "LayoutView",
      "align_content": null,
      "align_items": null,
      "align_self": null,
      "border": null,
      "bottom": null,
      "display": null,
      "flex": null,
      "flex_flow": null,
      "grid_area": null,
      "grid_auto_columns": null,
      "grid_auto_flow": null,
      "grid_auto_rows": null,
      "grid_column": null,
      "grid_gap": null,
      "grid_row": null,
      "grid_template_areas": null,
      "grid_template_columns": null,
      "grid_template_rows": null,
      "height": null,
      "justify_content": null,
      "justify_items": null,
      "left": null,
      "margin": null,
      "max_height": null,
      "max_width": null,
      "min_height": null,
      "min_width": null,
      "object_fit": null,
      "object_position": null,
      "order": null,
      "overflow": null,
      "overflow_x": null,
      "overflow_y": null,
      "padding": null,
      "right": null,
      "top": null,
      "visibility": null,
      "width": null
     }
    },
    "7abe4f100e60444d815d00391dd7a5e2": {
     "model_module": "@jupyter-widgets/base",
     "model_name": "LayoutModel",
     "state": {
      "_model_module": "@jupyter-widgets/base",
      "_model_module_version": "1.2.0",
      "_model_name": "LayoutModel",
      "_view_count": null,
      "_view_module": "@jupyter-widgets/base",
      "_view_module_version": "1.2.0",
      "_view_name": "LayoutView",
      "align_content": null,
      "align_items": null,
      "align_self": null,
      "border": null,
      "bottom": null,
      "display": null,
      "flex": null,
      "flex_flow": null,
      "grid_area": null,
      "grid_auto_columns": null,
      "grid_auto_flow": null,
      "grid_auto_rows": null,
      "grid_column": null,
      "grid_gap": null,
      "grid_row": null,
      "grid_template_areas": null,
      "grid_template_columns": null,
      "grid_template_rows": null,
      "height": null,
      "justify_content": null,
      "justify_items": null,
      "left": null,
      "margin": null,
      "max_height": null,
      "max_width": null,
      "min_height": null,
      "min_width": null,
      "object_fit": null,
      "object_position": null,
      "order": null,
      "overflow": null,
      "overflow_x": null,
      "overflow_y": null,
      "padding": null,
      "right": null,
      "top": null,
      "visibility": null,
      "width": null
     }
    },
    "82d96e3cb41f47218df1c43f31ca78fa": {
     "model_module": "@jupyter-widgets/controls",
     "model_name": "HTMLModel",
     "state": {
      "_dom_classes": [],
      "_model_module": "@jupyter-widgets/controls",
      "_model_module_version": "1.5.0",
      "_model_name": "HTMLModel",
      "_view_count": null,
      "_view_module": "@jupyter-widgets/controls",
      "_view_module_version": "1.5.0",
      "_view_name": "HTMLView",
      "description": "",
      "description_tooltip": null,
      "layout": "IPY_MODEL_6eb859a87f6e4ae8bd98b817b2e765c7",
      "placeholder": "​",
      "style": "IPY_MODEL_fbf07586209e48a984ae154e393dcd8a",
      "value": " 1875/1875 [50:11&lt;00:00,  1.62s/it, batch_loss=0.00956]"
     }
    },
    "830d426b53f64f92b975b764519ad445": {
     "model_module": "@jupyter-widgets/base",
     "model_name": "LayoutModel",
     "state": {
      "_model_module": "@jupyter-widgets/base",
      "_model_module_version": "1.2.0",
      "_model_name": "LayoutModel",
      "_view_count": null,
      "_view_module": "@jupyter-widgets/base",
      "_view_module_version": "1.2.0",
      "_view_name": "LayoutView",
      "align_content": null,
      "align_items": null,
      "align_self": null,
      "border": null,
      "bottom": null,
      "display": null,
      "flex": null,
      "flex_flow": null,
      "grid_area": null,
      "grid_auto_columns": null,
      "grid_auto_flow": null,
      "grid_auto_rows": null,
      "grid_column": null,
      "grid_gap": null,
      "grid_row": null,
      "grid_template_areas": null,
      "grid_template_columns": null,
      "grid_template_rows": null,
      "height": null,
      "justify_content": null,
      "justify_items": null,
      "left": null,
      "margin": null,
      "max_height": null,
      "max_width": null,
      "min_height": null,
      "min_width": null,
      "object_fit": null,
      "object_position": null,
      "order": null,
      "overflow": null,
      "overflow_x": null,
      "overflow_y": null,
      "padding": null,
      "right": null,
      "top": null,
      "visibility": null,
      "width": null
     }
    },
    "837399eb02c64712a8e83924525cc43f": {
     "model_module": "@jupyter-widgets/controls",
     "model_name": "HBoxModel",
     "state": {
      "_dom_classes": [],
      "_model_module": "@jupyter-widgets/controls",
      "_model_module_version": "1.5.0",
      "_model_name": "HBoxModel",
      "_view_count": null,
      "_view_module": "@jupyter-widgets/controls",
      "_view_module_version": "1.5.0",
      "_view_name": "HBoxView",
      "box_style": "",
      "children": [
       "IPY_MODEL_c6aa4249f96b47d5bca1333743601cb6",
       "IPY_MODEL_82d96e3cb41f47218df1c43f31ca78fa"
      ],
      "layout": "IPY_MODEL_8fe1f897c1264b95b8c2563aa13d4d0f"
     }
    },
    "86e19a69e82b481cba579522c305861b": {
     "model_module": "@jupyter-widgets/controls",
     "model_name": "ProgressStyleModel",
     "state": {
      "_model_module": "@jupyter-widgets/controls",
      "_model_module_version": "1.5.0",
      "_model_name": "ProgressStyleModel",
      "_view_count": null,
      "_view_module": "@jupyter-widgets/base",
      "_view_module_version": "1.2.0",
      "_view_name": "StyleView",
      "bar_color": null,
      "description_width": "initial"
     }
    },
    "8addd4238f0d409baa6daa5eb4142a72": {
     "model_module": "@jupyter-widgets/controls",
     "model_name": "DescriptionStyleModel",
     "state": {
      "_model_module": "@jupyter-widgets/controls",
      "_model_module_version": "1.5.0",
      "_model_name": "DescriptionStyleModel",
      "_view_count": null,
      "_view_module": "@jupyter-widgets/base",
      "_view_module_version": "1.2.0",
      "_view_name": "StyleView",
      "description_width": ""
     }
    },
    "8c7c38619b5d4b99a223c9d6c1cd905f": {
     "model_module": "@jupyter-widgets/base",
     "model_name": "LayoutModel",
     "state": {
      "_model_module": "@jupyter-widgets/base",
      "_model_module_version": "1.2.0",
      "_model_name": "LayoutModel",
      "_view_count": null,
      "_view_module": "@jupyter-widgets/base",
      "_view_module_version": "1.2.0",
      "_view_name": "LayoutView",
      "align_content": null,
      "align_items": null,
      "align_self": null,
      "border": null,
      "bottom": null,
      "display": null,
      "flex": null,
      "flex_flow": null,
      "grid_area": null,
      "grid_auto_columns": null,
      "grid_auto_flow": null,
      "grid_auto_rows": null,
      "grid_column": null,
      "grid_gap": null,
      "grid_row": null,
      "grid_template_areas": null,
      "grid_template_columns": null,
      "grid_template_rows": null,
      "height": null,
      "justify_content": null,
      "justify_items": null,
      "left": null,
      "margin": null,
      "max_height": null,
      "max_width": null,
      "min_height": null,
      "min_width": null,
      "object_fit": null,
      "object_position": null,
      "order": null,
      "overflow": null,
      "overflow_x": null,
      "overflow_y": null,
      "padding": null,
      "right": null,
      "top": null,
      "visibility": null,
      "width": null
     }
    },
    "8d442cfd9ecc4fc68c9cd79aa155608d": {
     "model_module": "@jupyter-widgets/controls",
     "model_name": "DescriptionStyleModel",
     "state": {
      "_model_module": "@jupyter-widgets/controls",
      "_model_module_version": "1.5.0",
      "_model_name": "DescriptionStyleModel",
      "_view_count": null,
      "_view_module": "@jupyter-widgets/base",
      "_view_module_version": "1.2.0",
      "_view_name": "StyleView",
      "description_width": ""
     }
    },
    "8e2a494915a144ccb70bd7a4cd10c328": {
     "model_module": "@jupyter-widgets/controls",
     "model_name": "HTMLModel",
     "state": {
      "_dom_classes": [],
      "_model_module": "@jupyter-widgets/controls",
      "_model_module_version": "1.5.0",
      "_model_name": "HTMLModel",
      "_view_count": null,
      "_view_module": "@jupyter-widgets/controls",
      "_view_module_version": "1.5.0",
      "_view_name": "HTMLView",
      "description": "",
      "description_tooltip": null,
      "layout": "IPY_MODEL_28ab700434864ccb95f64b728a2da93e",
      "placeholder": "​",
      "style": "IPY_MODEL_aba5e32555894029b53c06328897d3f2",
      "value": " 79/79 [2:06:30&lt;00:00,  1.15it/s, batch_loss=0.07]"
     }
    },
    "8ec9d7060a314256a0137f9c1b156aae": {
     "model_module": "@jupyter-widgets/controls",
     "model_name": "HBoxModel",
     "state": {
      "_dom_classes": [],
      "_model_module": "@jupyter-widgets/controls",
      "_model_module_version": "1.5.0",
      "_model_name": "HBoxModel",
      "_view_count": null,
      "_view_module": "@jupyter-widgets/controls",
      "_view_module_version": "1.5.0",
      "_view_name": "HBoxView",
      "box_style": "",
      "children": [
       "IPY_MODEL_1697456b500147378919b1bf4f29b1c7",
       "IPY_MODEL_ee70b05a1b7c4b478fddde57213353cf"
      ],
      "layout": "IPY_MODEL_d4fc611f4c0c4225b39b55ed195f65e1"
     }
    },
    "8f2d6da5366048e496f82cfd18dbbf0e": {
     "model_module": "@jupyter-widgets/controls",
     "model_name": "HBoxModel",
     "state": {
      "_dom_classes": [],
      "_model_module": "@jupyter-widgets/controls",
      "_model_module_version": "1.5.0",
      "_model_name": "HBoxModel",
      "_view_count": null,
      "_view_module": "@jupyter-widgets/controls",
      "_view_module_version": "1.5.0",
      "_view_name": "HBoxView",
      "box_style": "",
      "children": [
       "IPY_MODEL_9433d37116404c68bc65ac504231efa6",
       "IPY_MODEL_5881142d9250441b9122b6c98ff562c5"
      ],
      "layout": "IPY_MODEL_d8b8b344a8034af9a06cceaa0c8c62ee"
     }
    },
    "8fe1f897c1264b95b8c2563aa13d4d0f": {
     "model_module": "@jupyter-widgets/base",
     "model_name": "LayoutModel",
     "state": {
      "_model_module": "@jupyter-widgets/base",
      "_model_module_version": "1.2.0",
      "_model_name": "LayoutModel",
      "_view_count": null,
      "_view_module": "@jupyter-widgets/base",
      "_view_module_version": "1.2.0",
      "_view_name": "LayoutView",
      "align_content": null,
      "align_items": null,
      "align_self": null,
      "border": null,
      "bottom": null,
      "display": null,
      "flex": null,
      "flex_flow": null,
      "grid_area": null,
      "grid_auto_columns": null,
      "grid_auto_flow": null,
      "grid_auto_rows": null,
      "grid_column": null,
      "grid_gap": null,
      "grid_row": null,
      "grid_template_areas": null,
      "grid_template_columns": null,
      "grid_template_rows": null,
      "height": null,
      "justify_content": null,
      "justify_items": null,
      "left": null,
      "margin": null,
      "max_height": null,
      "max_width": null,
      "min_height": null,
      "min_width": null,
      "object_fit": null,
      "object_position": null,
      "order": null,
      "overflow": null,
      "overflow_x": null,
      "overflow_y": null,
      "padding": null,
      "right": null,
      "top": null,
      "visibility": null,
      "width": null
     }
    },
    "9030274ac7204c9b977addf58378392d": {
     "model_module": "@jupyter-widgets/base",
     "model_name": "LayoutModel",
     "state": {
      "_model_module": "@jupyter-widgets/base",
      "_model_module_version": "1.2.0",
      "_model_name": "LayoutModel",
      "_view_count": null,
      "_view_module": "@jupyter-widgets/base",
      "_view_module_version": "1.2.0",
      "_view_name": "LayoutView",
      "align_content": null,
      "align_items": null,
      "align_self": null,
      "border": null,
      "bottom": null,
      "display": null,
      "flex": null,
      "flex_flow": null,
      "grid_area": null,
      "grid_auto_columns": null,
      "grid_auto_flow": null,
      "grid_auto_rows": null,
      "grid_column": null,
      "grid_gap": null,
      "grid_row": null,
      "grid_template_areas": null,
      "grid_template_columns": null,
      "grid_template_rows": null,
      "height": null,
      "justify_content": null,
      "justify_items": null,
      "left": null,
      "margin": null,
      "max_height": null,
      "max_width": null,
      "min_height": null,
      "min_width": null,
      "object_fit": null,
      "object_position": null,
      "order": null,
      "overflow": null,
      "overflow_x": null,
      "overflow_y": null,
      "padding": null,
      "right": null,
      "top": null,
      "visibility": null,
      "width": null
     }
    },
    "93a89c6482b14a648b58c6a110beeacb": {
     "model_module": "@jupyter-widgets/controls",
     "model_name": "FloatProgressModel",
     "state": {
      "_dom_classes": [],
      "_model_module": "@jupyter-widgets/controls",
      "_model_module_version": "1.5.0",
      "_model_name": "FloatProgressModel",
      "_view_count": null,
      "_view_module": "@jupyter-widgets/controls",
      "_view_module_version": "1.5.0",
      "_view_name": "ProgressView",
      "bar_style": "",
      "description": "Traing Epoch 3: 100%",
      "description_tooltip": null,
      "layout": "IPY_MODEL_37e7ddf03cc44c12936dabe793af5c32",
      "max": 5625,
      "min": 0,
      "orientation": "horizontal",
      "style": "IPY_MODEL_9a5ca67b0986413783f52cefa90844bb",
      "value": 5625
     }
    },
    "9433d37116404c68bc65ac504231efa6": {
     "model_module": "@jupyter-widgets/controls",
     "model_name": "FloatProgressModel",
     "state": {
      "_dom_classes": [],
      "_model_module": "@jupyter-widgets/controls",
      "_model_module_version": "1.5.0",
      "_model_name": "FloatProgressModel",
      "_view_count": null,
      "_view_module": "@jupyter-widgets/controls",
      "_view_module_version": "1.5.0",
      "_view_name": "ProgressView",
      "bar_style": "",
      "description": "Evaluation after 1 Epoch: 100%",
      "description_tooltip": null,
      "layout": "IPY_MODEL_caee8a05e6d44ef5b32b917cc3dc5fee",
      "max": 1875,
      "min": 0,
      "orientation": "horizontal",
      "style": "IPY_MODEL_1ca1b1878898416b9808b830318bd68a",
      "value": 1875
     }
    },
    "967e37dad73b48de8bcb6c222a9ff15e": {
     "model_module": "@jupyter-widgets/base",
     "model_name": "LayoutModel",
     "state": {
      "_model_module": "@jupyter-widgets/base",
      "_model_module_version": "1.2.0",
      "_model_name": "LayoutModel",
      "_view_count": null,
      "_view_module": "@jupyter-widgets/base",
      "_view_module_version": "1.2.0",
      "_view_name": "LayoutView",
      "align_content": null,
      "align_items": null,
      "align_self": null,
      "border": null,
      "bottom": null,
      "display": null,
      "flex": null,
      "flex_flow": null,
      "grid_area": null,
      "grid_auto_columns": null,
      "grid_auto_flow": null,
      "grid_auto_rows": null,
      "grid_column": null,
      "grid_gap": null,
      "grid_row": null,
      "grid_template_areas": null,
      "grid_template_columns": null,
      "grid_template_rows": null,
      "height": null,
      "justify_content": null,
      "justify_items": null,
      "left": null,
      "margin": null,
      "max_height": null,
      "max_width": null,
      "min_height": null,
      "min_width": null,
      "object_fit": null,
      "object_position": null,
      "order": null,
      "overflow": null,
      "overflow_x": null,
      "overflow_y": null,
      "padding": null,
      "right": null,
      "top": null,
      "visibility": null,
      "width": null
     }
    },
    "96ba8ac617854bc38e0a6d45218e137d": {
     "model_module": "@jupyter-widgets/base",
     "model_name": "LayoutModel",
     "state": {
      "_model_module": "@jupyter-widgets/base",
      "_model_module_version": "1.2.0",
      "_model_name": "LayoutModel",
      "_view_count": null,
      "_view_module": "@jupyter-widgets/base",
      "_view_module_version": "1.2.0",
      "_view_name": "LayoutView",
      "align_content": null,
      "align_items": null,
      "align_self": null,
      "border": null,
      "bottom": null,
      "display": null,
      "flex": null,
      "flex_flow": null,
      "grid_area": null,
      "grid_auto_columns": null,
      "grid_auto_flow": null,
      "grid_auto_rows": null,
      "grid_column": null,
      "grid_gap": null,
      "grid_row": null,
      "grid_template_areas": null,
      "grid_template_columns": null,
      "grid_template_rows": null,
      "height": null,
      "justify_content": null,
      "justify_items": null,
      "left": null,
      "margin": null,
      "max_height": null,
      "max_width": null,
      "min_height": null,
      "min_width": null,
      "object_fit": null,
      "object_position": null,
      "order": null,
      "overflow": null,
      "overflow_x": null,
      "overflow_y": null,
      "padding": null,
      "right": null,
      "top": null,
      "visibility": null,
      "width": null
     }
    },
    "97f395673c6e442689c5d64ce434368e": {
     "model_module": "@jupyter-widgets/controls",
     "model_name": "FloatProgressModel",
     "state": {
      "_dom_classes": [],
      "_model_module": "@jupyter-widgets/controls",
      "_model_module_version": "1.5.0",
      "_model_name": "FloatProgressModel",
      "_view_count": null,
      "_view_module": "@jupyter-widgets/controls",
      "_view_module_version": "1.5.0",
      "_view_name": "ProgressView",
      "bar_style": "",
      "description": "Evaluation after 1 Epoch: 100%",
      "description_tooltip": null,
      "layout": "IPY_MODEL_2fc634a16b444778a44bca255376f629",
      "max": 79,
      "min": 0,
      "orientation": "horizontal",
      "style": "IPY_MODEL_9f8b6507331a475999339d9c6980cb0f",
      "value": 79
     }
    },
    "992ab3c2a18e4164b70cc50c3807e7fd": {
     "model_module": "@jupyter-widgets/base",
     "model_name": "LayoutModel",
     "state": {
      "_model_module": "@jupyter-widgets/base",
      "_model_module_version": "1.2.0",
      "_model_name": "LayoutModel",
      "_view_count": null,
      "_view_module": "@jupyter-widgets/base",
      "_view_module_version": "1.2.0",
      "_view_name": "LayoutView",
      "align_content": null,
      "align_items": null,
      "align_self": null,
      "border": null,
      "bottom": null,
      "display": null,
      "flex": null,
      "flex_flow": null,
      "grid_area": null,
      "grid_auto_columns": null,
      "grid_auto_flow": null,
      "grid_auto_rows": null,
      "grid_column": null,
      "grid_gap": null,
      "grid_row": null,
      "grid_template_areas": null,
      "grid_template_columns": null,
      "grid_template_rows": null,
      "height": null,
      "justify_content": null,
      "justify_items": null,
      "left": null,
      "margin": null,
      "max_height": null,
      "max_width": null,
      "min_height": null,
      "min_width": null,
      "object_fit": null,
      "object_position": null,
      "order": null,
      "overflow": null,
      "overflow_x": null,
      "overflow_y": null,
      "padding": null,
      "right": null,
      "top": null,
      "visibility": null,
      "width": null
     }
    },
    "99eea99663394893ba4b9a80f07d106c": {
     "model_module": "@jupyter-widgets/controls",
     "model_name": "HTMLModel",
     "state": {
      "_dom_classes": [],
      "_model_module": "@jupyter-widgets/controls",
      "_model_module_version": "1.5.0",
      "_model_name": "HTMLModel",
      "_view_count": null,
      "_view_module": "@jupyter-widgets/controls",
      "_view_module_version": "1.5.0",
      "_view_name": "HTMLView",
      "description": "",
      "description_tooltip": null,
      "layout": "IPY_MODEL_1fa54b452a0c444ead8203523f889285",
      "placeholder": "​",
      "style": "IPY_MODEL_33e402d9094143c6a88dd679449c45c3",
      "value": " 1407/1407 [1:12:32&lt;00:00,  3.09s/it, batch_loss=0.11]"
     }
    },
    "9a50aca58b3a4096aa2e424114d59a13": {
     "model_module": "@jupyter-widgets/controls",
     "model_name": "DescriptionStyleModel",
     "state": {
      "_model_module": "@jupyter-widgets/controls",
      "_model_module_version": "1.5.0",
      "_model_name": "DescriptionStyleModel",
      "_view_count": null,
      "_view_module": "@jupyter-widgets/base",
      "_view_module_version": "1.2.0",
      "_view_name": "StyleView",
      "description_width": ""
     }
    },
    "9a5ca67b0986413783f52cefa90844bb": {
     "model_module": "@jupyter-widgets/controls",
     "model_name": "ProgressStyleModel",
     "state": {
      "_model_module": "@jupyter-widgets/controls",
      "_model_module_version": "1.5.0",
      "_model_name": "ProgressStyleModel",
      "_view_count": null,
      "_view_module": "@jupyter-widgets/base",
      "_view_module_version": "1.2.0",
      "_view_name": "StyleView",
      "bar_color": null,
      "description_width": "initial"
     }
    },
    "9a701a7d1ea644d4a9fbf223d9bdf588": {
     "model_module": "@jupyter-widgets/controls",
     "model_name": "HTMLModel",
     "state": {
      "_dom_classes": [],
      "_model_module": "@jupyter-widgets/controls",
      "_model_module_version": "1.5.0",
      "_model_name": "HTMLModel",
      "_view_count": null,
      "_view_module": "@jupyter-widgets/controls",
      "_view_module_version": "1.5.0",
      "_view_name": "HTMLView",
      "description": "",
      "description_tooltip": null,
      "layout": "IPY_MODEL_e07ad1b4f66246cba75dbdea0f5af57d",
      "placeholder": "​",
      "style": "IPY_MODEL_8d442cfd9ecc4fc68c9cd79aa155608d",
      "value": " 1875/1875 [47:39&lt;00:00,  1.48s/it, batch_loss=0.0249]"
     }
    },
    "9ac4cb19aade4ef29465e3cc8e994187": {
     "model_module": "@jupyter-widgets/controls",
     "model_name": "HBoxModel",
     "state": {
      "_dom_classes": [],
      "_model_module": "@jupyter-widgets/controls",
      "_model_module_version": "1.5.0",
      "_model_name": "HBoxModel",
      "_view_count": null,
      "_view_module": "@jupyter-widgets/controls",
      "_view_module_version": "1.5.0",
      "_view_name": "HBoxView",
      "box_style": "",
      "children": [
       "IPY_MODEL_97f395673c6e442689c5d64ce434368e",
       "IPY_MODEL_8e2a494915a144ccb70bd7a4cd10c328"
      ],
      "layout": "IPY_MODEL_271ed3b2c71a444ea683bfd1b77cd13d"
     }
    },
    "9ac82172627a4da89ed08570ca16b10e": {
     "model_module": "@jupyter-widgets/controls",
     "model_name": "HTMLModel",
     "state": {
      "_dom_classes": [],
      "_model_module": "@jupyter-widgets/controls",
      "_model_module_version": "1.5.0",
      "_model_name": "HTMLModel",
      "_view_count": null,
      "_view_module": "@jupyter-widgets/controls",
      "_view_module_version": "1.5.0",
      "_view_name": "HTMLView",
      "description": "",
      "description_tooltip": null,
      "layout": "IPY_MODEL_96ba8ac617854bc38e0a6d45218e137d",
      "placeholder": "​",
      "style": "IPY_MODEL_6f7a67aa9353465caf5117dda38bbfac",
      "value": " 1875/1875 [47:04&lt;00:00,  1.56s/it, batch_loss=0.0125]"
     }
    },
    "9e5a5c002ac748668ea291bd1cecf6ce": {
     "model_module": "@jupyter-widgets/base",
     "model_name": "LayoutModel",
     "state": {
      "_model_module": "@jupyter-widgets/base",
      "_model_module_version": "1.2.0",
      "_model_name": "LayoutModel",
      "_view_count": null,
      "_view_module": "@jupyter-widgets/base",
      "_view_module_version": "1.2.0",
      "_view_name": "LayoutView",
      "align_content": null,
      "align_items": null,
      "align_self": null,
      "border": null,
      "bottom": null,
      "display": null,
      "flex": null,
      "flex_flow": null,
      "grid_area": null,
      "grid_auto_columns": null,
      "grid_auto_flow": null,
      "grid_auto_rows": null,
      "grid_column": null,
      "grid_gap": null,
      "grid_row": null,
      "grid_template_areas": null,
      "grid_template_columns": null,
      "grid_template_rows": null,
      "height": null,
      "justify_content": null,
      "justify_items": null,
      "left": null,
      "margin": null,
      "max_height": null,
      "max_width": null,
      "min_height": null,
      "min_width": null,
      "object_fit": null,
      "object_position": null,
      "order": null,
      "overflow": null,
      "overflow_x": null,
      "overflow_y": null,
      "padding": null,
      "right": null,
      "top": null,
      "visibility": null,
      "width": null
     }
    },
    "9e5c04a9552840efa662ae05f59a4e7c": {
     "model_module": "@jupyter-widgets/controls",
     "model_name": "DescriptionStyleModel",
     "state": {
      "_model_module": "@jupyter-widgets/controls",
      "_model_module_version": "1.5.0",
      "_model_name": "DescriptionStyleModel",
      "_view_count": null,
      "_view_module": "@jupyter-widgets/base",
      "_view_module_version": "1.2.0",
      "_view_name": "StyleView",
      "description_width": ""
     }
    },
    "9e830c1666dd4e5aa4156c7a1850286c": {
     "model_module": "@jupyter-widgets/controls",
     "model_name": "ProgressStyleModel",
     "state": {
      "_model_module": "@jupyter-widgets/controls",
      "_model_module_version": "1.5.0",
      "_model_name": "ProgressStyleModel",
      "_view_count": null,
      "_view_module": "@jupyter-widgets/base",
      "_view_module_version": "1.2.0",
      "_view_name": "StyleView",
      "bar_color": null,
      "description_width": "initial"
     }
    },
    "9f4092a0e5574c08ba7182a812ff409f": {
     "model_module": "@jupyter-widgets/base",
     "model_name": "LayoutModel",
     "state": {
      "_model_module": "@jupyter-widgets/base",
      "_model_module_version": "1.2.0",
      "_model_name": "LayoutModel",
      "_view_count": null,
      "_view_module": "@jupyter-widgets/base",
      "_view_module_version": "1.2.0",
      "_view_name": "LayoutView",
      "align_content": null,
      "align_items": null,
      "align_self": null,
      "border": null,
      "bottom": null,
      "display": null,
      "flex": null,
      "flex_flow": null,
      "grid_area": null,
      "grid_auto_columns": null,
      "grid_auto_flow": null,
      "grid_auto_rows": null,
      "grid_column": null,
      "grid_gap": null,
      "grid_row": null,
      "grid_template_areas": null,
      "grid_template_columns": null,
      "grid_template_rows": null,
      "height": null,
      "justify_content": null,
      "justify_items": null,
      "left": null,
      "margin": null,
      "max_height": null,
      "max_width": null,
      "min_height": null,
      "min_width": null,
      "object_fit": null,
      "object_position": null,
      "order": null,
      "overflow": null,
      "overflow_x": null,
      "overflow_y": null,
      "padding": null,
      "right": null,
      "top": null,
      "visibility": null,
      "width": null
     }
    },
    "9f8b6507331a475999339d9c6980cb0f": {
     "model_module": "@jupyter-widgets/controls",
     "model_name": "ProgressStyleModel",
     "state": {
      "_model_module": "@jupyter-widgets/controls",
      "_model_module_version": "1.5.0",
      "_model_name": "ProgressStyleModel",
      "_view_count": null,
      "_view_module": "@jupyter-widgets/base",
      "_view_module_version": "1.2.0",
      "_view_name": "StyleView",
      "bar_color": null,
      "description_width": "initial"
     }
    },
    "a0a83b3535a64733a952cc9200f4e757": {
     "model_module": "@jupyter-widgets/controls",
     "model_name": "DescriptionStyleModel",
     "state": {
      "_model_module": "@jupyter-widgets/controls",
      "_model_module_version": "1.5.0",
      "_model_name": "DescriptionStyleModel",
      "_view_count": null,
      "_view_module": "@jupyter-widgets/base",
      "_view_module_version": "1.2.0",
      "_view_name": "StyleView",
      "description_width": ""
     }
    },
    "a10f200bcc58402facf0dc434d94a7d6": {
     "model_module": "@jupyter-widgets/controls",
     "model_name": "ProgressStyleModel",
     "state": {
      "_model_module": "@jupyter-widgets/controls",
      "_model_module_version": "1.5.0",
      "_model_name": "ProgressStyleModel",
      "_view_count": null,
      "_view_module": "@jupyter-widgets/base",
      "_view_module_version": "1.2.0",
      "_view_name": "StyleView",
      "bar_color": null,
      "description_width": "initial"
     }
    },
    "a4127d435cfa43268be20ce798bfb173": {
     "model_module": "@jupyter-widgets/controls",
     "model_name": "HBoxModel",
     "state": {
      "_dom_classes": [],
      "_model_module": "@jupyter-widgets/controls",
      "_model_module_version": "1.5.0",
      "_model_name": "HBoxModel",
      "_view_count": null,
      "_view_module": "@jupyter-widgets/controls",
      "_view_module_version": "1.5.0",
      "_view_name": "HBoxView",
      "box_style": "",
      "children": [
       "IPY_MODEL_df2a2274418545f9aab60994b6dba4ee",
       "IPY_MODEL_52c8ba30c5e5410f9204f39e22511367"
      ],
      "layout": "IPY_MODEL_f14fa3f07b504248960b856441a0785e"
     }
    },
    "a4caf0546dd94ea2a81b0b95eb3ac9d8": {
     "model_module": "@jupyter-widgets/base",
     "model_name": "LayoutModel",
     "state": {
      "_model_module": "@jupyter-widgets/base",
      "_model_module_version": "1.2.0",
      "_model_name": "LayoutModel",
      "_view_count": null,
      "_view_module": "@jupyter-widgets/base",
      "_view_module_version": "1.2.0",
      "_view_name": "LayoutView",
      "align_content": null,
      "align_items": null,
      "align_self": null,
      "border": null,
      "bottom": null,
      "display": null,
      "flex": null,
      "flex_flow": null,
      "grid_area": null,
      "grid_auto_columns": null,
      "grid_auto_flow": null,
      "grid_auto_rows": null,
      "grid_column": null,
      "grid_gap": null,
      "grid_row": null,
      "grid_template_areas": null,
      "grid_template_columns": null,
      "grid_template_rows": null,
      "height": null,
      "justify_content": null,
      "justify_items": null,
      "left": null,
      "margin": null,
      "max_height": null,
      "max_width": null,
      "min_height": null,
      "min_width": null,
      "object_fit": null,
      "object_position": null,
      "order": null,
      "overflow": null,
      "overflow_x": null,
      "overflow_y": null,
      "padding": null,
      "right": null,
      "top": null,
      "visibility": null,
      "width": null
     }
    },
    "a70f56bda7cc494eba60f25edebbd453": {
     "model_module": "@jupyter-widgets/controls",
     "model_name": "HBoxModel",
     "state": {
      "_dom_classes": [],
      "_model_module": "@jupyter-widgets/controls",
      "_model_module_version": "1.5.0",
      "_model_name": "HBoxModel",
      "_view_count": null,
      "_view_module": "@jupyter-widgets/controls",
      "_view_module_version": "1.5.0",
      "_view_name": "HBoxView",
      "box_style": "",
      "children": [
       "IPY_MODEL_41a5fdef91804e7daa7b37e5297df7db",
       "IPY_MODEL_d51c87f02703407f98c273ad45a9f27e"
      ],
      "layout": "IPY_MODEL_a4caf0546dd94ea2a81b0b95eb3ac9d8"
     }
    },
    "aba5e32555894029b53c06328897d3f2": {
     "model_module": "@jupyter-widgets/controls",
     "model_name": "DescriptionStyleModel",
     "state": {
      "_model_module": "@jupyter-widgets/controls",
      "_model_module_version": "1.5.0",
      "_model_name": "DescriptionStyleModel",
      "_view_count": null,
      "_view_module": "@jupyter-widgets/base",
      "_view_module_version": "1.2.0",
      "_view_name": "StyleView",
      "description_width": ""
     }
    },
    "ac46a4187e2f425aba048ffa4db5dd7c": {
     "model_module": "@jupyter-widgets/controls",
     "model_name": "DescriptionStyleModel",
     "state": {
      "_model_module": "@jupyter-widgets/controls",
      "_model_module_version": "1.5.0",
      "_model_name": "DescriptionStyleModel",
      "_view_count": null,
      "_view_module": "@jupyter-widgets/base",
      "_view_module_version": "1.2.0",
      "_view_name": "StyleView",
      "description_width": ""
     }
    },
    "adbb8e523c5a45fca87194bf82a1398c": {
     "model_module": "@jupyter-widgets/controls",
     "model_name": "HTMLModel",
     "state": {
      "_dom_classes": [],
      "_model_module": "@jupyter-widgets/controls",
      "_model_module_version": "1.5.0",
      "_model_name": "HTMLModel",
      "_view_count": null,
      "_view_module": "@jupyter-widgets/controls",
      "_view_module_version": "1.5.0",
      "_view_name": "HTMLView",
      "description": "",
      "description_tooltip": null,
      "layout": "IPY_MODEL_c510939e246147fba9bc26e2131fe436",
      "placeholder": "​",
      "style": "IPY_MODEL_4691025976ae4ba0b5fccedcc87e3a58",
      "value": " 79/79 [2:31:25&lt;00:00,  1.14it/s, batch_loss=0.124]"
     }
    },
    "adfe315e11614b9eba608e5739363008": {
     "model_module": "@jupyter-widgets/controls",
     "model_name": "HBoxModel",
     "state": {
      "_dom_classes": [],
      "_model_module": "@jupyter-widgets/controls",
      "_model_module_version": "1.5.0",
      "_model_name": "HBoxModel",
      "_view_count": null,
      "_view_module": "@jupyter-widgets/controls",
      "_view_module_version": "1.5.0",
      "_view_name": "HBoxView",
      "box_style": "",
      "children": [
       "IPY_MODEL_3ae20bf426794401968ad741d8242ead",
       "IPY_MODEL_adbb8e523c5a45fca87194bf82a1398c"
      ],
      "layout": "IPY_MODEL_f47577a14a6e401781bd9795a9202c65"
     }
    },
    "b0249b61623c44728905a28376bbb285": {
     "model_module": "@jupyter-widgets/controls",
     "model_name": "HBoxModel",
     "state": {
      "_dom_classes": [],
      "_model_module": "@jupyter-widgets/controls",
      "_model_module_version": "1.5.0",
      "_model_name": "HBoxModel",
      "_view_count": null,
      "_view_module": "@jupyter-widgets/controls",
      "_view_module_version": "1.5.0",
      "_view_name": "HBoxView",
      "box_style": "",
      "children": [
       "IPY_MODEL_172f6557562f4bcc97f3fd566f4a9778",
       "IPY_MODEL_67c2b2b4694945369d2379f529c25c56"
      ],
      "layout": "IPY_MODEL_b1bb1c37593e44a1ac219e7a0f5156c3"
     }
    },
    "b1bb1c37593e44a1ac219e7a0f5156c3": {
     "model_module": "@jupyter-widgets/base",
     "model_name": "LayoutModel",
     "state": {
      "_model_module": "@jupyter-widgets/base",
      "_model_module_version": "1.2.0",
      "_model_name": "LayoutModel",
      "_view_count": null,
      "_view_module": "@jupyter-widgets/base",
      "_view_module_version": "1.2.0",
      "_view_name": "LayoutView",
      "align_content": null,
      "align_items": null,
      "align_self": null,
      "border": null,
      "bottom": null,
      "display": null,
      "flex": null,
      "flex_flow": null,
      "grid_area": null,
      "grid_auto_columns": null,
      "grid_auto_flow": null,
      "grid_auto_rows": null,
      "grid_column": null,
      "grid_gap": null,
      "grid_row": null,
      "grid_template_areas": null,
      "grid_template_columns": null,
      "grid_template_rows": null,
      "height": null,
      "justify_content": null,
      "justify_items": null,
      "left": null,
      "margin": null,
      "max_height": null,
      "max_width": null,
      "min_height": null,
      "min_width": null,
      "object_fit": null,
      "object_position": null,
      "order": null,
      "overflow": null,
      "overflow_x": null,
      "overflow_y": null,
      "padding": null,
      "right": null,
      "top": null,
      "visibility": null,
      "width": null
     }
    },
    "b61bbd56936048fc814d0442ff2e379b": {
     "model_module": "@jupyter-widgets/controls",
     "model_name": "HTMLModel",
     "state": {
      "_dom_classes": [],
      "_model_module": "@jupyter-widgets/controls",
      "_model_module_version": "1.5.0",
      "_model_name": "HTMLModel",
      "_view_count": null,
      "_view_module": "@jupyter-widgets/controls",
      "_view_module_version": "1.5.0",
      "_view_name": "HTMLView",
      "description": "",
      "description_tooltip": null,
      "layout": "IPY_MODEL_f46e9d44e5414282b75b8280c7bae859",
      "placeholder": "​",
      "style": "IPY_MODEL_f8a7f2a4b642488e9bac5bafbc7e041d",
      "value": " 79/79 [1:07:08&lt;00:00,  1.04s/it, batch_loss=0.0724]"
     }
    },
    "b7f204b704b148af8722d251ac08edd0": {
     "model_module": "@jupyter-widgets/controls",
     "model_name": "ProgressStyleModel",
     "state": {
      "_model_module": "@jupyter-widgets/controls",
      "_model_module_version": "1.5.0",
      "_model_name": "ProgressStyleModel",
      "_view_count": null,
      "_view_module": "@jupyter-widgets/base",
      "_view_module_version": "1.2.0",
      "_view_name": "StyleView",
      "bar_color": null,
      "description_width": "initial"
     }
    },
    "b90696b79c5c486cbba02bc10f2711fc": {
     "model_module": "@jupyter-widgets/controls",
     "model_name": "HBoxModel",
     "state": {
      "_dom_classes": [],
      "_model_module": "@jupyter-widgets/controls",
      "_model_module_version": "1.5.0",
      "_model_name": "HBoxModel",
      "_view_count": null,
      "_view_module": "@jupyter-widgets/controls",
      "_view_module_version": "1.5.0",
      "_view_name": "HBoxView",
      "box_style": "",
      "children": [
       "IPY_MODEL_530a49c1bea342009ddbd1d88a99066c",
       "IPY_MODEL_dbd1e395403b4d0e860ae2cfd8180fed"
      ],
      "layout": "IPY_MODEL_e3e0a81202aa40ba98e1ce9d50bea6d4"
     }
    },
    "b960361f964646dd9450daf9df23065c": {
     "model_module": "@jupyter-widgets/base",
     "model_name": "LayoutModel",
     "state": {
      "_model_module": "@jupyter-widgets/base",
      "_model_module_version": "1.2.0",
      "_model_name": "LayoutModel",
      "_view_count": null,
      "_view_module": "@jupyter-widgets/base",
      "_view_module_version": "1.2.0",
      "_view_name": "LayoutView",
      "align_content": null,
      "align_items": null,
      "align_self": null,
      "border": null,
      "bottom": null,
      "display": null,
      "flex": null,
      "flex_flow": null,
      "grid_area": null,
      "grid_auto_columns": null,
      "grid_auto_flow": null,
      "grid_auto_rows": null,
      "grid_column": null,
      "grid_gap": null,
      "grid_row": null,
      "grid_template_areas": null,
      "grid_template_columns": null,
      "grid_template_rows": null,
      "height": null,
      "justify_content": null,
      "justify_items": null,
      "left": null,
      "margin": null,
      "max_height": null,
      "max_width": null,
      "min_height": null,
      "min_width": null,
      "object_fit": null,
      "object_position": null,
      "order": null,
      "overflow": null,
      "overflow_x": null,
      "overflow_y": null,
      "padding": null,
      "right": null,
      "top": null,
      "visibility": null,
      "width": null
     }
    },
    "bcbaa3f7cf0340ad9d8feeec571db2c2": {
     "model_module": "@jupyter-widgets/controls",
     "model_name": "ProgressStyleModel",
     "state": {
      "_model_module": "@jupyter-widgets/controls",
      "_model_module_version": "1.5.0",
      "_model_name": "ProgressStyleModel",
      "_view_count": null,
      "_view_module": "@jupyter-widgets/base",
      "_view_module_version": "1.2.0",
      "_view_name": "StyleView",
      "bar_color": null,
      "description_width": "initial"
     }
    },
    "bce9c8f86044451ab6416fc85b4208fd": {
     "model_module": "@jupyter-widgets/controls",
     "model_name": "FloatProgressModel",
     "state": {
      "_dom_classes": [],
      "_model_module": "@jupyter-widgets/controls",
      "_model_module_version": "1.5.0",
      "_model_name": "FloatProgressModel",
      "_view_count": null,
      "_view_module": "@jupyter-widgets/controls",
      "_view_module_version": "1.5.0",
      "_view_name": "ProgressView",
      "bar_style": "success",
      "description": "Traing Epoch 3: 100%",
      "description_tooltip": null,
      "layout": "IPY_MODEL_6b4ee83ccf7d488dbb20215f855a8506",
      "max": 1407,
      "min": 0,
      "orientation": "horizontal",
      "style": "IPY_MODEL_e9bd4066cfa140e786265340f84dc0f4",
      "value": 1407
     }
    },
    "bd148c2032674863839f29114666dde7": {
     "model_module": "@jupyter-widgets/controls",
     "model_name": "DescriptionStyleModel",
     "state": {
      "_model_module": "@jupyter-widgets/controls",
      "_model_module_version": "1.5.0",
      "_model_name": "DescriptionStyleModel",
      "_view_count": null,
      "_view_module": "@jupyter-widgets/base",
      "_view_module_version": "1.2.0",
      "_view_name": "StyleView",
      "description_width": ""
     }
    },
    "c1a21695ca05437080621349c2c8b512": {
     "model_module": "@jupyter-widgets/controls",
     "model_name": "HTMLModel",
     "state": {
      "_dom_classes": [],
      "_model_module": "@jupyter-widgets/controls",
      "_model_module_version": "1.5.0",
      "_model_name": "HTMLModel",
      "_view_count": null,
      "_view_module": "@jupyter-widgets/controls",
      "_view_module_version": "1.5.0",
      "_view_name": "HTMLView",
      "description": "",
      "description_tooltip": null,
      "layout": "IPY_MODEL_4e6386ae1dba47e190fe4b79c025e9b4",
      "placeholder": "​",
      "style": "IPY_MODEL_a0a83b3535a64733a952cc9200f4e757",
      "value": " 625/625 [03:56&lt;00:00,  2.72it/s, batch_loss=0.062]"
     }
    },
    "c510939e246147fba9bc26e2131fe436": {
     "model_module": "@jupyter-widgets/base",
     "model_name": "LayoutModel",
     "state": {
      "_model_module": "@jupyter-widgets/base",
      "_model_module_version": "1.2.0",
      "_model_name": "LayoutModel",
      "_view_count": null,
      "_view_module": "@jupyter-widgets/base",
      "_view_module_version": "1.2.0",
      "_view_name": "LayoutView",
      "align_content": null,
      "align_items": null,
      "align_self": null,
      "border": null,
      "bottom": null,
      "display": null,
      "flex": null,
      "flex_flow": null,
      "grid_area": null,
      "grid_auto_columns": null,
      "grid_auto_flow": null,
      "grid_auto_rows": null,
      "grid_column": null,
      "grid_gap": null,
      "grid_row": null,
      "grid_template_areas": null,
      "grid_template_columns": null,
      "grid_template_rows": null,
      "height": null,
      "justify_content": null,
      "justify_items": null,
      "left": null,
      "margin": null,
      "max_height": null,
      "max_width": null,
      "min_height": null,
      "min_width": null,
      "object_fit": null,
      "object_position": null,
      "order": null,
      "overflow": null,
      "overflow_x": null,
      "overflow_y": null,
      "padding": null,
      "right": null,
      "top": null,
      "visibility": null,
      "width": null
     }
    },
    "c6aa4249f96b47d5bca1333743601cb6": {
     "model_module": "@jupyter-widgets/controls",
     "model_name": "FloatProgressModel",
     "state": {
      "_dom_classes": [],
      "_model_module": "@jupyter-widgets/controls",
      "_model_module_version": "1.5.0",
      "_model_name": "FloatProgressModel",
      "_view_count": null,
      "_view_module": "@jupyter-widgets/controls",
      "_view_module_version": "1.5.0",
      "_view_name": "ProgressView",
      "bar_style": "",
      "description": "Evaluation after 2 Epoch: 100%",
      "description_tooltip": null,
      "layout": "IPY_MODEL_0ba4da57922b4a308b44bc52d0a785ac",
      "max": 1875,
      "min": 0,
      "orientation": "horizontal",
      "style": "IPY_MODEL_f521acac2bce48c49e36e638e3045582",
      "value": 1875
     }
    },
    "caee8a05e6d44ef5b32b917cc3dc5fee": {
     "model_module": "@jupyter-widgets/base",
     "model_name": "LayoutModel",
     "state": {
      "_model_module": "@jupyter-widgets/base",
      "_model_module_version": "1.2.0",
      "_model_name": "LayoutModel",
      "_view_count": null,
      "_view_module": "@jupyter-widgets/base",
      "_view_module_version": "1.2.0",
      "_view_name": "LayoutView",
      "align_content": null,
      "align_items": null,
      "align_self": null,
      "border": null,
      "bottom": null,
      "display": null,
      "flex": null,
      "flex_flow": null,
      "grid_area": null,
      "grid_auto_columns": null,
      "grid_auto_flow": null,
      "grid_auto_rows": null,
      "grid_column": null,
      "grid_gap": null,
      "grid_row": null,
      "grid_template_areas": null,
      "grid_template_columns": null,
      "grid_template_rows": null,
      "height": null,
      "justify_content": null,
      "justify_items": null,
      "left": null,
      "margin": null,
      "max_height": null,
      "max_width": null,
      "min_height": null,
      "min_width": null,
      "object_fit": null,
      "object_position": null,
      "order": null,
      "overflow": null,
      "overflow_x": null,
      "overflow_y": null,
      "padding": null,
      "right": null,
      "top": null,
      "visibility": null,
      "width": null
     }
    },
    "d4fc611f4c0c4225b39b55ed195f65e1": {
     "model_module": "@jupyter-widgets/base",
     "model_name": "LayoutModel",
     "state": {
      "_model_module": "@jupyter-widgets/base",
      "_model_module_version": "1.2.0",
      "_model_name": "LayoutModel",
      "_view_count": null,
      "_view_module": "@jupyter-widgets/base",
      "_view_module_version": "1.2.0",
      "_view_name": "LayoutView",
      "align_content": null,
      "align_items": null,
      "align_self": null,
      "border": null,
      "bottom": null,
      "display": null,
      "flex": null,
      "flex_flow": null,
      "grid_area": null,
      "grid_auto_columns": null,
      "grid_auto_flow": null,
      "grid_auto_rows": null,
      "grid_column": null,
      "grid_gap": null,
      "grid_row": null,
      "grid_template_areas": null,
      "grid_template_columns": null,
      "grid_template_rows": null,
      "height": null,
      "justify_content": null,
      "justify_items": null,
      "left": null,
      "margin": null,
      "max_height": null,
      "max_width": null,
      "min_height": null,
      "min_width": null,
      "object_fit": null,
      "object_position": null,
      "order": null,
      "overflow": null,
      "overflow_x": null,
      "overflow_y": null,
      "padding": null,
      "right": null,
      "top": null,
      "visibility": null,
      "width": null
     }
    },
    "d51c87f02703407f98c273ad45a9f27e": {
     "model_module": "@jupyter-widgets/controls",
     "model_name": "HTMLModel",
     "state": {
      "_dom_classes": [],
      "_model_module": "@jupyter-widgets/controls",
      "_model_module_version": "1.5.0",
      "_model_name": "HTMLModel",
      "_view_count": null,
      "_view_module": "@jupyter-widgets/controls",
      "_view_module_version": "1.5.0",
      "_view_name": "HTMLView",
      "description": "",
      "description_tooltip": null,
      "layout": "IPY_MODEL_6c1b134bb6d2401ba018d98f27de7a4a",
      "placeholder": "​",
      "style": "IPY_MODEL_9a50aca58b3a4096aa2e424114d59a13",
      "value": " 1407/1407 [2:54:37&lt;00:00,  7.45s/it, batch_loss=0.0891]"
     }
    },
    "d5a2ba21fd834f56898c54a2f1f57f9b": {
     "model_module": "@jupyter-widgets/controls",
     "model_name": "DescriptionStyleModel",
     "state": {
      "_model_module": "@jupyter-widgets/controls",
      "_model_module_version": "1.5.0",
      "_model_name": "DescriptionStyleModel",
      "_view_count": null,
      "_view_module": "@jupyter-widgets/base",
      "_view_module_version": "1.2.0",
      "_view_name": "StyleView",
      "description_width": ""
     }
    },
    "d6795dc52fd644e9be2c39295661fc5c": {
     "model_module": "@jupyter-widgets/controls",
     "model_name": "HBoxModel",
     "state": {
      "_dom_classes": [],
      "_model_module": "@jupyter-widgets/controls",
      "_model_module_version": "1.5.0",
      "_model_name": "HBoxModel",
      "_view_count": null,
      "_view_module": "@jupyter-widgets/controls",
      "_view_module_version": "1.5.0",
      "_view_name": "HBoxView",
      "box_style": "",
      "children": [
       "IPY_MODEL_bce9c8f86044451ab6416fc85b4208fd",
       "IPY_MODEL_37d68fa091b94343ae874e689b418b72"
      ],
      "layout": "IPY_MODEL_7a7ccba5b98e4c79a2a833f8c000e2bc"
     }
    },
    "d6f39a391af643a49516331d57196654": {
     "model_module": "@jupyter-widgets/controls",
     "model_name": "FloatProgressModel",
     "state": {
      "_dom_classes": [],
      "_model_module": "@jupyter-widgets/controls",
      "_model_module_version": "1.5.0",
      "_model_name": "FloatProgressModel",
      "_view_count": null,
      "_view_module": "@jupyter-widgets/controls",
      "_view_module_version": "1.5.0",
      "_view_name": "ProgressView",
      "bar_style": "",
      "description": "Evaluation after 0 Epoch: 100%",
      "description_tooltip": null,
      "layout": "IPY_MODEL_e79b175d5d7140ba821b1999577ad39d",
      "max": 1875,
      "min": 0,
      "orientation": "horizontal",
      "style": "IPY_MODEL_de47277f7185455d9550f6b828734b0d",
      "value": 1875
     }
    },
    "d7e0fc27eda54a8faf1fce5b37026b98": {
     "model_module": "@jupyter-widgets/controls",
     "model_name": "DescriptionStyleModel",
     "state": {
      "_model_module": "@jupyter-widgets/controls",
      "_model_module_version": "1.5.0",
      "_model_name": "DescriptionStyleModel",
      "_view_count": null,
      "_view_module": "@jupyter-widgets/base",
      "_view_module_version": "1.2.0",
      "_view_name": "StyleView",
      "description_width": ""
     }
    },
    "d8b8b344a8034af9a06cceaa0c8c62ee": {
     "model_module": "@jupyter-widgets/base",
     "model_name": "LayoutModel",
     "state": {
      "_model_module": "@jupyter-widgets/base",
      "_model_module_version": "1.2.0",
      "_model_name": "LayoutModel",
      "_view_count": null,
      "_view_module": "@jupyter-widgets/base",
      "_view_module_version": "1.2.0",
      "_view_name": "LayoutView",
      "align_content": null,
      "align_items": null,
      "align_self": null,
      "border": null,
      "bottom": null,
      "display": null,
      "flex": null,
      "flex_flow": null,
      "grid_area": null,
      "grid_auto_columns": null,
      "grid_auto_flow": null,
      "grid_auto_rows": null,
      "grid_column": null,
      "grid_gap": null,
      "grid_row": null,
      "grid_template_areas": null,
      "grid_template_columns": null,
      "grid_template_rows": null,
      "height": null,
      "justify_content": null,
      "justify_items": null,
      "left": null,
      "margin": null,
      "max_height": null,
      "max_width": null,
      "min_height": null,
      "min_width": null,
      "object_fit": null,
      "object_position": null,
      "order": null,
      "overflow": null,
      "overflow_x": null,
      "overflow_y": null,
      "padding": null,
      "right": null,
      "top": null,
      "visibility": null,
      "width": null
     }
    },
    "d9d6e3d2ece64ed4ae3a86d8b83e7d48": {
     "model_module": "@jupyter-widgets/base",
     "model_name": "LayoutModel",
     "state": {
      "_model_module": "@jupyter-widgets/base",
      "_model_module_version": "1.2.0",
      "_model_name": "LayoutModel",
      "_view_count": null,
      "_view_module": "@jupyter-widgets/base",
      "_view_module_version": "1.2.0",
      "_view_name": "LayoutView",
      "align_content": null,
      "align_items": null,
      "align_self": null,
      "border": null,
      "bottom": null,
      "display": null,
      "flex": null,
      "flex_flow": null,
      "grid_area": null,
      "grid_auto_columns": null,
      "grid_auto_flow": null,
      "grid_auto_rows": null,
      "grid_column": null,
      "grid_gap": null,
      "grid_row": null,
      "grid_template_areas": null,
      "grid_template_columns": null,
      "grid_template_rows": null,
      "height": null,
      "justify_content": null,
      "justify_items": null,
      "left": null,
      "margin": null,
      "max_height": null,
      "max_width": null,
      "min_height": null,
      "min_width": null,
      "object_fit": null,
      "object_position": null,
      "order": null,
      "overflow": null,
      "overflow_x": null,
      "overflow_y": null,
      "padding": null,
      "right": null,
      "top": null,
      "visibility": null,
      "width": null
     }
    },
    "dbd1e395403b4d0e860ae2cfd8180fed": {
     "model_module": "@jupyter-widgets/controls",
     "model_name": "HTMLModel",
     "state": {
      "_dom_classes": [],
      "_model_module": "@jupyter-widgets/controls",
      "_model_module_version": "1.5.0",
      "_model_name": "HTMLModel",
      "_view_count": null,
      "_view_module": "@jupyter-widgets/controls",
      "_view_module_version": "1.5.0",
      "_view_name": "HTMLView",
      "description": "",
      "description_tooltip": null,
      "layout": "IPY_MODEL_7692615ad4a746fa841fea0f8db99134",
      "placeholder": "​",
      "style": "IPY_MODEL_bd148c2032674863839f29114666dde7",
      "value": " 79/79 [34:56&lt;00:00,  1.04s/it, batch_loss=0.0336]"
     }
    },
    "de47277f7185455d9550f6b828734b0d": {
     "model_module": "@jupyter-widgets/controls",
     "model_name": "ProgressStyleModel",
     "state": {
      "_model_module": "@jupyter-widgets/controls",
      "_model_module_version": "1.5.0",
      "_model_name": "ProgressStyleModel",
      "_view_count": null,
      "_view_module": "@jupyter-widgets/base",
      "_view_module_version": "1.2.0",
      "_view_name": "StyleView",
      "bar_color": null,
      "description_width": "initial"
     }
    },
    "df2a2274418545f9aab60994b6dba4ee": {
     "model_module": "@jupyter-widgets/controls",
     "model_name": "FloatProgressModel",
     "state": {
      "_dom_classes": [],
      "_model_module": "@jupyter-widgets/controls",
      "_model_module_version": "1.5.0",
      "_model_name": "FloatProgressModel",
      "_view_count": null,
      "_view_module": "@jupyter-widgets/controls",
      "_view_module_version": "1.5.0",
      "_view_name": "ProgressView",
      "bar_style": "",
      "description": "Traing Epoch 3:  70%",
      "description_tooltip": null,
      "layout": "IPY_MODEL_6ed85a0af3f9446d950db770242db889",
      "max": 5625,
      "min": 0,
      "orientation": "horizontal",
      "style": "IPY_MODEL_47de95b449ca44d8bbdcd1449abd92a3",
      "value": 3914
     }
    },
    "e07ad1b4f66246cba75dbdea0f5af57d": {
     "model_module": "@jupyter-widgets/base",
     "model_name": "LayoutModel",
     "state": {
      "_model_module": "@jupyter-widgets/base",
      "_model_module_version": "1.2.0",
      "_model_name": "LayoutModel",
      "_view_count": null,
      "_view_module": "@jupyter-widgets/base",
      "_view_module_version": "1.2.0",
      "_view_name": "LayoutView",
      "align_content": null,
      "align_items": null,
      "align_self": null,
      "border": null,
      "bottom": null,
      "display": null,
      "flex": null,
      "flex_flow": null,
      "grid_area": null,
      "grid_auto_columns": null,
      "grid_auto_flow": null,
      "grid_auto_rows": null,
      "grid_column": null,
      "grid_gap": null,
      "grid_row": null,
      "grid_template_areas": null,
      "grid_template_columns": null,
      "grid_template_rows": null,
      "height": null,
      "justify_content": null,
      "justify_items": null,
      "left": null,
      "margin": null,
      "max_height": null,
      "max_width": null,
      "min_height": null,
      "min_width": null,
      "object_fit": null,
      "object_position": null,
      "order": null,
      "overflow": null,
      "overflow_x": null,
      "overflow_y": null,
      "padding": null,
      "right": null,
      "top": null,
      "visibility": null,
      "width": null
     }
    },
    "e2051d3215de49769175ffdfd05c5544": {
     "model_module": "@jupyter-widgets/controls",
     "model_name": "HBoxModel",
     "state": {
      "_dom_classes": [],
      "_model_module": "@jupyter-widgets/controls",
      "_model_module_version": "1.5.0",
      "_model_name": "HBoxModel",
      "_view_count": null,
      "_view_module": "@jupyter-widgets/controls",
      "_view_module_version": "1.5.0",
      "_view_name": "HBoxView",
      "box_style": "",
      "children": [
       "IPY_MODEL_326a2537840e439aa42b39889fef5e7b",
       "IPY_MODEL_b61bbd56936048fc814d0442ff2e379b"
      ],
      "layout": "IPY_MODEL_588c15383a96494ebeb670b23e8483fc"
     }
    },
    "e29ab827aead4b008dc5a4019497902f": {
     "model_module": "@jupyter-widgets/base",
     "model_name": "LayoutModel",
     "state": {
      "_model_module": "@jupyter-widgets/base",
      "_model_module_version": "1.2.0",
      "_model_name": "LayoutModel",
      "_view_count": null,
      "_view_module": "@jupyter-widgets/base",
      "_view_module_version": "1.2.0",
      "_view_name": "LayoutView",
      "align_content": null,
      "align_items": null,
      "align_self": null,
      "border": null,
      "bottom": null,
      "display": null,
      "flex": null,
      "flex_flow": null,
      "grid_area": null,
      "grid_auto_columns": null,
      "grid_auto_flow": null,
      "grid_auto_rows": null,
      "grid_column": null,
      "grid_gap": null,
      "grid_row": null,
      "grid_template_areas": null,
      "grid_template_columns": null,
      "grid_template_rows": null,
      "height": null,
      "justify_content": null,
      "justify_items": null,
      "left": null,
      "margin": null,
      "max_height": null,
      "max_width": null,
      "min_height": null,
      "min_width": null,
      "object_fit": null,
      "object_position": null,
      "order": null,
      "overflow": null,
      "overflow_x": null,
      "overflow_y": null,
      "padding": null,
      "right": null,
      "top": null,
      "visibility": null,
      "width": null
     }
    },
    "e3e0a81202aa40ba98e1ce9d50bea6d4": {
     "model_module": "@jupyter-widgets/base",
     "model_name": "LayoutModel",
     "state": {
      "_model_module": "@jupyter-widgets/base",
      "_model_module_version": "1.2.0",
      "_model_name": "LayoutModel",
      "_view_count": null,
      "_view_module": "@jupyter-widgets/base",
      "_view_module_version": "1.2.0",
      "_view_name": "LayoutView",
      "align_content": null,
      "align_items": null,
      "align_self": null,
      "border": null,
      "bottom": null,
      "display": null,
      "flex": null,
      "flex_flow": null,
      "grid_area": null,
      "grid_auto_columns": null,
      "grid_auto_flow": null,
      "grid_auto_rows": null,
      "grid_column": null,
      "grid_gap": null,
      "grid_row": null,
      "grid_template_areas": null,
      "grid_template_columns": null,
      "grid_template_rows": null,
      "height": null,
      "justify_content": null,
      "justify_items": null,
      "left": null,
      "margin": null,
      "max_height": null,
      "max_width": null,
      "min_height": null,
      "min_width": null,
      "object_fit": null,
      "object_position": null,
      "order": null,
      "overflow": null,
      "overflow_x": null,
      "overflow_y": null,
      "padding": null,
      "right": null,
      "top": null,
      "visibility": null,
      "width": null
     }
    },
    "e446d0d560c749789b898636664269f5": {
     "model_module": "@jupyter-widgets/controls",
     "model_name": "HTMLModel",
     "state": {
      "_dom_classes": [],
      "_model_module": "@jupyter-widgets/controls",
      "_model_module_version": "1.5.0",
      "_model_name": "HTMLModel",
      "_view_count": null,
      "_view_module": "@jupyter-widgets/controls",
      "_view_module_version": "1.5.0",
      "_view_name": "HTMLView",
      "description": "",
      "description_tooltip": null,
      "layout": "IPY_MODEL_201021980e484491835391b44d9b3b6f",
      "placeholder": "​",
      "style": "IPY_MODEL_fb6c6cd9ad934fbbb9d0c7f8b8efd8db",
      "value": " 79/79 [26:47&lt;00:00,  1.17it/s, batch_loss=0.172]"
     }
    },
    "e79b175d5d7140ba821b1999577ad39d": {
     "model_module": "@jupyter-widgets/base",
     "model_name": "LayoutModel",
     "state": {
      "_model_module": "@jupyter-widgets/base",
      "_model_module_version": "1.2.0",
      "_model_name": "LayoutModel",
      "_view_count": null,
      "_view_module": "@jupyter-widgets/base",
      "_view_module_version": "1.2.0",
      "_view_name": "LayoutView",
      "align_content": null,
      "align_items": null,
      "align_self": null,
      "border": null,
      "bottom": null,
      "display": null,
      "flex": null,
      "flex_flow": null,
      "grid_area": null,
      "grid_auto_columns": null,
      "grid_auto_flow": null,
      "grid_auto_rows": null,
      "grid_column": null,
      "grid_gap": null,
      "grid_row": null,
      "grid_template_areas": null,
      "grid_template_columns": null,
      "grid_template_rows": null,
      "height": null,
      "justify_content": null,
      "justify_items": null,
      "left": null,
      "margin": null,
      "max_height": null,
      "max_width": null,
      "min_height": null,
      "min_width": null,
      "object_fit": null,
      "object_position": null,
      "order": null,
      "overflow": null,
      "overflow_x": null,
      "overflow_y": null,
      "padding": null,
      "right": null,
      "top": null,
      "visibility": null,
      "width": null
     }
    },
    "e94783cd0de7403d9093341806c29e17": {
     "model_module": "@jupyter-widgets/controls",
     "model_name": "HBoxModel",
     "state": {
      "_dom_classes": [],
      "_model_module": "@jupyter-widgets/controls",
      "_model_module_version": "1.5.0",
      "_model_name": "HBoxModel",
      "_view_count": null,
      "_view_module": "@jupyter-widgets/controls",
      "_view_module_version": "1.5.0",
      "_view_name": "HBoxView",
      "box_style": "",
      "children": [
       "IPY_MODEL_696831244b944b0e96c37494182578be",
       "IPY_MODEL_99eea99663394893ba4b9a80f07d106c"
      ],
      "layout": "IPY_MODEL_115585177b8a4b7ebd274c55ad24344b"
     }
    },
    "e9bd4066cfa140e786265340f84dc0f4": {
     "model_module": "@jupyter-widgets/controls",
     "model_name": "ProgressStyleModel",
     "state": {
      "_model_module": "@jupyter-widgets/controls",
      "_model_module_version": "1.5.0",
      "_model_name": "ProgressStyleModel",
      "_view_count": null,
      "_view_module": "@jupyter-widgets/base",
      "_view_module_version": "1.2.0",
      "_view_name": "StyleView",
      "bar_color": null,
      "description_width": "initial"
     }
    },
    "e9daca86adf94aa7afb699764ac34b89": {
     "model_module": "@jupyter-widgets/controls",
     "model_name": "HBoxModel",
     "state": {
      "_dom_classes": [],
      "_model_module": "@jupyter-widgets/controls",
      "_model_module_version": "1.5.0",
      "_model_name": "HBoxModel",
      "_view_count": null,
      "_view_module": "@jupyter-widgets/controls",
      "_view_module_version": "1.5.0",
      "_view_name": "HBoxView",
      "box_style": "",
      "children": [
       "IPY_MODEL_3207c5f5617e41cc9ed998a13376f9c6",
       "IPY_MODEL_e446d0d560c749789b898636664269f5"
      ],
      "layout": "IPY_MODEL_37d7374d542443c8adb06b9821b69438"
     }
    },
    "edddb86ca8d74254b2cc341fe2a1bc8e": {
     "model_module": "@jupyter-widgets/base",
     "model_name": "LayoutModel",
     "state": {
      "_model_module": "@jupyter-widgets/base",
      "_model_module_version": "1.2.0",
      "_model_name": "LayoutModel",
      "_view_count": null,
      "_view_module": "@jupyter-widgets/base",
      "_view_module_version": "1.2.0",
      "_view_name": "LayoutView",
      "align_content": null,
      "align_items": null,
      "align_self": null,
      "border": null,
      "bottom": null,
      "display": null,
      "flex": null,
      "flex_flow": null,
      "grid_area": null,
      "grid_auto_columns": null,
      "grid_auto_flow": null,
      "grid_auto_rows": null,
      "grid_column": null,
      "grid_gap": null,
      "grid_row": null,
      "grid_template_areas": null,
      "grid_template_columns": null,
      "grid_template_rows": null,
      "height": null,
      "justify_content": null,
      "justify_items": null,
      "left": null,
      "margin": null,
      "max_height": null,
      "max_width": null,
      "min_height": null,
      "min_width": null,
      "object_fit": null,
      "object_position": null,
      "order": null,
      "overflow": null,
      "overflow_x": null,
      "overflow_y": null,
      "padding": null,
      "right": null,
      "top": null,
      "visibility": null,
      "width": null
     }
    },
    "ee70b05a1b7c4b478fddde57213353cf": {
     "model_module": "@jupyter-widgets/controls",
     "model_name": "HTMLModel",
     "state": {
      "_dom_classes": [],
      "_model_module": "@jupyter-widgets/controls",
      "_model_module_version": "1.5.0",
      "_model_name": "HTMLModel",
      "_view_count": null,
      "_view_module": "@jupyter-widgets/controls",
      "_view_module_version": "1.5.0",
      "_view_name": "HTMLView",
      "description": "",
      "description_tooltip": null,
      "layout": "IPY_MODEL_329dfec31cbb49799f23754204977f1c",
      "placeholder": "​",
      "style": "IPY_MODEL_8addd4238f0d409baa6daa5eb4142a72",
      "value": " 1875/1875 [48:20&lt;00:00,  1.58s/it, batch_loss=0.0195]"
     }
    },
    "f0413841588d4971961c1cd41ceb77fd": {
     "model_module": "@jupyter-widgets/base",
     "model_name": "LayoutModel",
     "state": {
      "_model_module": "@jupyter-widgets/base",
      "_model_module_version": "1.2.0",
      "_model_name": "LayoutModel",
      "_view_count": null,
      "_view_module": "@jupyter-widgets/base",
      "_view_module_version": "1.2.0",
      "_view_name": "LayoutView",
      "align_content": null,
      "align_items": null,
      "align_self": null,
      "border": null,
      "bottom": null,
      "display": null,
      "flex": null,
      "flex_flow": null,
      "grid_area": null,
      "grid_auto_columns": null,
      "grid_auto_flow": null,
      "grid_auto_rows": null,
      "grid_column": null,
      "grid_gap": null,
      "grid_row": null,
      "grid_template_areas": null,
      "grid_template_columns": null,
      "grid_template_rows": null,
      "height": null,
      "justify_content": null,
      "justify_items": null,
      "left": null,
      "margin": null,
      "max_height": null,
      "max_width": null,
      "min_height": null,
      "min_width": null,
      "object_fit": null,
      "object_position": null,
      "order": null,
      "overflow": null,
      "overflow_x": null,
      "overflow_y": null,
      "padding": null,
      "right": null,
      "top": null,
      "visibility": null,
      "width": null
     }
    },
    "f14fa3f07b504248960b856441a0785e": {
     "model_module": "@jupyter-widgets/base",
     "model_name": "LayoutModel",
     "state": {
      "_model_module": "@jupyter-widgets/base",
      "_model_module_version": "1.2.0",
      "_model_name": "LayoutModel",
      "_view_count": null,
      "_view_module": "@jupyter-widgets/base",
      "_view_module_version": "1.2.0",
      "_view_name": "LayoutView",
      "align_content": null,
      "align_items": null,
      "align_self": null,
      "border": null,
      "bottom": null,
      "display": null,
      "flex": null,
      "flex_flow": null,
      "grid_area": null,
      "grid_auto_columns": null,
      "grid_auto_flow": null,
      "grid_auto_rows": null,
      "grid_column": null,
      "grid_gap": null,
      "grid_row": null,
      "grid_template_areas": null,
      "grid_template_columns": null,
      "grid_template_rows": null,
      "height": null,
      "justify_content": null,
      "justify_items": null,
      "left": null,
      "margin": null,
      "max_height": null,
      "max_width": null,
      "min_height": null,
      "min_width": null,
      "object_fit": null,
      "object_position": null,
      "order": null,
      "overflow": null,
      "overflow_x": null,
      "overflow_y": null,
      "padding": null,
      "right": null,
      "top": null,
      "visibility": null,
      "width": null
     }
    },
    "f1cc7c9b9ddd43f5a5c68657eff29157": {
     "model_module": "@jupyter-widgets/controls",
     "model_name": "HBoxModel",
     "state": {
      "_dom_classes": [],
      "_model_module": "@jupyter-widgets/controls",
      "_model_module_version": "1.5.0",
      "_model_name": "HBoxModel",
      "_view_count": null,
      "_view_module": "@jupyter-widgets/controls",
      "_view_module_version": "1.5.0",
      "_view_name": "HBoxView",
      "box_style": "",
      "children": [
       "IPY_MODEL_64498b33aaf74081bcce4fde00388e3b",
       "IPY_MODEL_9a701a7d1ea644d4a9fbf223d9bdf588"
      ],
      "layout": "IPY_MODEL_70253911e83a42f58a907b698bc99f4c"
     }
    },
    "f2c04f022c31481f9d27de13e962b45f": {
     "model_module": "@jupyter-widgets/controls",
     "model_name": "ProgressStyleModel",
     "state": {
      "_model_module": "@jupyter-widgets/controls",
      "_model_module_version": "1.5.0",
      "_model_name": "ProgressStyleModel",
      "_view_count": null,
      "_view_module": "@jupyter-widgets/base",
      "_view_module_version": "1.2.0",
      "_view_name": "StyleView",
      "bar_color": null,
      "description_width": "initial"
     }
    },
    "f46e9d44e5414282b75b8280c7bae859": {
     "model_module": "@jupyter-widgets/base",
     "model_name": "LayoutModel",
     "state": {
      "_model_module": "@jupyter-widgets/base",
      "_model_module_version": "1.2.0",
      "_model_name": "LayoutModel",
      "_view_count": null,
      "_view_module": "@jupyter-widgets/base",
      "_view_module_version": "1.2.0",
      "_view_name": "LayoutView",
      "align_content": null,
      "align_items": null,
      "align_self": null,
      "border": null,
      "bottom": null,
      "display": null,
      "flex": null,
      "flex_flow": null,
      "grid_area": null,
      "grid_auto_columns": null,
      "grid_auto_flow": null,
      "grid_auto_rows": null,
      "grid_column": null,
      "grid_gap": null,
      "grid_row": null,
      "grid_template_areas": null,
      "grid_template_columns": null,
      "grid_template_rows": null,
      "height": null,
      "justify_content": null,
      "justify_items": null,
      "left": null,
      "margin": null,
      "max_height": null,
      "max_width": null,
      "min_height": null,
      "min_width": null,
      "object_fit": null,
      "object_position": null,
      "order": null,
      "overflow": null,
      "overflow_x": null,
      "overflow_y": null,
      "padding": null,
      "right": null,
      "top": null,
      "visibility": null,
      "width": null
     }
    },
    "f47577a14a6e401781bd9795a9202c65": {
     "model_module": "@jupyter-widgets/base",
     "model_name": "LayoutModel",
     "state": {
      "_model_module": "@jupyter-widgets/base",
      "_model_module_version": "1.2.0",
      "_model_name": "LayoutModel",
      "_view_count": null,
      "_view_module": "@jupyter-widgets/base",
      "_view_module_version": "1.2.0",
      "_view_name": "LayoutView",
      "align_content": null,
      "align_items": null,
      "align_self": null,
      "border": null,
      "bottom": null,
      "display": null,
      "flex": null,
      "flex_flow": null,
      "grid_area": null,
      "grid_auto_columns": null,
      "grid_auto_flow": null,
      "grid_auto_rows": null,
      "grid_column": null,
      "grid_gap": null,
      "grid_row": null,
      "grid_template_areas": null,
      "grid_template_columns": null,
      "grid_template_rows": null,
      "height": null,
      "justify_content": null,
      "justify_items": null,
      "left": null,
      "margin": null,
      "max_height": null,
      "max_width": null,
      "min_height": null,
      "min_width": null,
      "object_fit": null,
      "object_position": null,
      "order": null,
      "overflow": null,
      "overflow_x": null,
      "overflow_y": null,
      "padding": null,
      "right": null,
      "top": null,
      "visibility": null,
      "width": null
     }
    },
    "f521acac2bce48c49e36e638e3045582": {
     "model_module": "@jupyter-widgets/controls",
     "model_name": "ProgressStyleModel",
     "state": {
      "_model_module": "@jupyter-widgets/controls",
      "_model_module_version": "1.5.0",
      "_model_name": "ProgressStyleModel",
      "_view_count": null,
      "_view_module": "@jupyter-widgets/base",
      "_view_module_version": "1.2.0",
      "_view_name": "StyleView",
      "bar_color": null,
      "description_width": "initial"
     }
    },
    "f8a7f2a4b642488e9bac5bafbc7e041d": {
     "model_module": "@jupyter-widgets/controls",
     "model_name": "DescriptionStyleModel",
     "state": {
      "_model_module": "@jupyter-widgets/controls",
      "_model_module_version": "1.5.0",
      "_model_name": "DescriptionStyleModel",
      "_view_count": null,
      "_view_module": "@jupyter-widgets/base",
      "_view_module_version": "1.2.0",
      "_view_name": "StyleView",
      "description_width": ""
     }
    },
    "fa7ac9b6bb024021aef0aeab54e80bf6": {
     "model_module": "@jupyter-widgets/controls",
     "model_name": "DescriptionStyleModel",
     "state": {
      "_model_module": "@jupyter-widgets/controls",
      "_model_module_version": "1.5.0",
      "_model_name": "DescriptionStyleModel",
      "_view_count": null,
      "_view_module": "@jupyter-widgets/base",
      "_view_module_version": "1.2.0",
      "_view_name": "StyleView",
      "description_width": ""
     }
    },
    "fb6c6cd9ad934fbbb9d0c7f8b8efd8db": {
     "model_module": "@jupyter-widgets/controls",
     "model_name": "DescriptionStyleModel",
     "state": {
      "_model_module": "@jupyter-widgets/controls",
      "_model_module_version": "1.5.0",
      "_model_name": "DescriptionStyleModel",
      "_view_count": null,
      "_view_module": "@jupyter-widgets/base",
      "_view_module_version": "1.2.0",
      "_view_name": "StyleView",
      "description_width": ""
     }
    },
    "fbf07586209e48a984ae154e393dcd8a": {
     "model_module": "@jupyter-widgets/controls",
     "model_name": "DescriptionStyleModel",
     "state": {
      "_model_module": "@jupyter-widgets/controls",
      "_model_module_version": "1.5.0",
      "_model_name": "DescriptionStyleModel",
      "_view_count": null,
      "_view_module": "@jupyter-widgets/base",
      "_view_module_version": "1.2.0",
      "_view_name": "StyleView",
      "description_width": ""
     }
    }
   }
  }
 },
 "nbformat": 4,
 "nbformat_minor": 4
}
